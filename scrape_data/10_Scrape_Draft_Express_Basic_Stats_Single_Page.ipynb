{
 "cells": [
  {
   "cell_type": "code",
   "execution_count": 1,
   "metadata": {
    "collapsed": true
   },
   "outputs": [],
   "source": [
    "import requests\n",
    "from pyquery import PyQuery as pq\n",
    "import pandas as pd"
   ]
  },
  {
   "cell_type": "code",
   "execution_count": 2,
   "metadata": {
    "collapsed": true
   },
   "outputs": [],
   "source": [
    "url = \"http://www.draftexpress.com/stats/ncaa/2017/all/basic/pace/0/all/all/1/ptspg/desc\""
   ]
  },
  {
   "cell_type": "code",
   "execution_count": 62,
   "metadata": {
    "collapsed": true
   },
   "outputs": [],
   "source": [
    "# type out cols just cuz the dx col headers are a mess\n",
    "cols = [\"box\", \"Player\", \"Team_Logo\", \"Team\", \"G\", \"MP\", \"PTS\", \"FG_2P\", \n",
    "        \"FG_2PA\",  \"FG_2P_Pct\", \"FG_3P\", \"FGA_3P\", \"FG_3P_Pct\", \"FT\", \"FTA\",\n",
    "        \"FT_Pct\", \"OREB\", \"DREB\", \"REB\", \"AST\", \"STL\", \"BLK\", \"TO\", \"PF\"]"
   ]
  },
  {
   "cell_type": "code",
   "execution_count": 63,
   "metadata": {
    "collapsed": false
   },
   "outputs": [],
   "source": [
    "response = requests.get(url)\n",
    "html = response.text\n",
    "d = pq(html)"
   ]
  },
  {
   "cell_type": "code",
   "execution_count": 64,
   "metadata": {
    "collapsed": true
   },
   "outputs": [],
   "source": [
    "row_selector = \"#cmn_wrap > div.row.two-cols > div > div.row.inner-page.stats > div > table > tbody > tr\""
   ]
  },
  {
   "cell_type": "code",
   "execution_count": 65,
   "metadata": {
    "collapsed": false
   },
   "outputs": [],
   "source": [
    "rows = d(row_selector)"
   ]
  },
  {
   "cell_type": "code",
   "execution_count": 66,
   "metadata": {
    "collapsed": false
   },
   "outputs": [
    {
     "data": {
      "text/plain": [
       "[<tr>, <tr>, <tr>, <tr>, <tr>, <tr>, <tr>, <tr>, <tr>, <tr>, <tr>, <tr>, <tr>, <tr>, <tr>, <tr>, <tr>, <tr>, <tr>, <tr>, <tr>, <tr>, <tr>, <tr>, <tr>]"
      ]
     },
     "execution_count": 66,
     "metadata": {},
     "output_type": "execute_result"
    }
   ],
   "source": [
    "rows"
   ]
  },
  {
   "cell_type": "code",
   "execution_count": 67,
   "metadata": {
    "collapsed": true
   },
   "outputs": [],
   "source": [
    "first_row = rows[0]"
   ]
  },
  {
   "cell_type": "code",
   "execution_count": 68,
   "metadata": {
    "collapsed": false
   },
   "outputs": [
    {
     "data": {
      "text/plain": [
       "['',\n",
       " 'Marcus Keene',\n",
       " '\\n                                    \\n                                    \\n                \\n            ',\n",
       " '\\n                                    \\n                                Central Michigan\\n                \\n            ',\n",
       " '30',\n",
       " '37.6',\n",
       " '29.0',\n",
       " '5.5',\n",
       " '10.8',\n",
       " '51.3%',\n",
       " '3.9',\n",
       " '10.6',\n",
       " '36.8%',\n",
       " '6.3',\n",
       " '7.6',\n",
       " '81.9%',\n",
       " '0.7',\n",
       " '3.5',\n",
       " '4.1',\n",
       " '4.9',\n",
       " '0.7',\n",
       " '0.0',\n",
       " '4.5',\n",
       " '2.0']"
      ]
     },
     "execution_count": 68,
     "metadata": {},
     "output_type": "execute_result"
    }
   ],
   "source": [
    "[td.text_content() for td in first_row.iterchildren()]"
   ]
  },
  {
   "cell_type": "code",
   "execution_count": 69,
   "metadata": {
    "collapsed": true
   },
   "outputs": [],
   "source": [
    "data = [[td.text_content() for td in row] for row in rows]"
   ]
  },
  {
   "cell_type": "code",
   "execution_count": 70,
   "metadata": {
    "collapsed": false
   },
   "outputs": [
    {
     "data": {
      "text/plain": [
       "25"
      ]
     },
     "execution_count": 70,
     "metadata": {},
     "output_type": "execute_result"
    }
   ],
   "source": [
    "len(data)"
   ]
  },
  {
   "cell_type": "code",
   "execution_count": 71,
   "metadata": {
    "collapsed": false
   },
   "outputs": [
    {
     "data": {
      "text/plain": [
       "[['',\n",
       "  'Marcus Keene',\n",
       "  '\\n                                    \\n                                    \\n                \\n            ',\n",
       "  '\\n                                    \\n                                Central Michigan\\n                \\n            ',\n",
       "  '30',\n",
       "  '37.6',\n",
       "  '29.0',\n",
       "  '5.5',\n",
       "  '10.8',\n",
       "  '51.3%',\n",
       "  '3.9',\n",
       "  '10.6',\n",
       "  '36.8%',\n",
       "  '6.3',\n",
       "  '7.6',\n",
       "  '81.9%',\n",
       "  '0.7',\n",
       "  '3.5',\n",
       "  '4.1',\n",
       "  '4.9',\n",
       "  '0.7',\n",
       "  '0.0',\n",
       "  '4.5',\n",
       "  '2.0'],\n",
       " ['',\n",
       "  'Mike Daum',\n",
       "  '\\n                                    \\n                                    \\n                \\n            ',\n",
       "  '\\n                                    \\n                                South Dakota St\\n                \\n            ',\n",
       "  '33',\n",
       "  '33.0',\n",
       "  '30.9',\n",
       "  '6.8',\n",
       "  '12.0',\n",
       "  '56.4%',\n",
       "  '2.9',\n",
       "  '6.9',\n",
       "  '41.9%',\n",
       "  '8.8',\n",
       "  '10.1',\n",
       "  '87.2%',\n",
       "  '2.6',\n",
       "  '7.2',\n",
       "  '9.8',\n",
       "  '1.7',\n",
       "  '0.7',\n",
       "  '0.4',\n",
       "  '3.4',\n",
       "  '3.2']]"
      ]
     },
     "execution_count": 71,
     "metadata": {},
     "output_type": "execute_result"
    }
   ],
   "source": [
    "data[:2]"
   ]
  },
  {
   "cell_type": "code",
   "execution_count": 72,
   "metadata": {
    "collapsed": false
   },
   "outputs": [
    {
     "name": "stdout",
     "output_type": "stream",
     "text": [
      "0 \n",
      "1 Marcus Keene\n",
      "2 \n",
      "                                    \n",
      "                                    \n",
      "                \n",
      "            \n",
      "3 \n",
      "                                    \n",
      "                                Central Michigan\n",
      "                \n",
      "            \n",
      "4 30\n",
      "5 37.6\n",
      "6 29.0\n",
      "7 5.5\n",
      "8 10.8\n",
      "9 51.3%\n",
      "10 3.9\n",
      "11 10.6\n",
      "12 36.8%\n",
      "13 6.3\n",
      "14 7.6\n",
      "15 81.9%\n",
      "16 0.7\n",
      "17 3.5\n",
      "18 4.1\n",
      "19 4.9\n",
      "20 0.7\n",
      "21 0.0\n",
      "22 4.5\n",
      "23 2.0\n"
     ]
    }
   ],
   "source": [
    "for idx, i in enumerate(data[0]): print(idx, i)"
   ]
  },
  {
   "cell_type": "code",
   "execution_count": 73,
   "metadata": {
    "collapsed": false
   },
   "outputs": [
    {
     "ename": "AssertionError",
     "evalue": "23 columns passed, passed data had 24 columns",
     "output_type": "error",
     "traceback": [
      "\u001b[0;31m---------------------------------------------------------------------------\u001b[0m",
      "\u001b[0;31mAssertionError\u001b[0m                            Traceback (most recent call last)",
      "\u001b[0;32m<ipython-input-73-a6b3bc119d44>\u001b[0m in \u001b[0;36m<module>\u001b[0;34m()\u001b[0m\n\u001b[0;32m----> 1\u001b[0;31m \u001b[0mdf\u001b[0m \u001b[0;34m=\u001b[0m \u001b[0mpd\u001b[0m\u001b[0;34m.\u001b[0m\u001b[0mDataFrame\u001b[0m\u001b[0;34m(\u001b[0m\u001b[0mdata\u001b[0m\u001b[0;34m,\u001b[0m \u001b[0mcolumns\u001b[0m\u001b[0;34m=\u001b[0m\u001b[0mcols\u001b[0m\u001b[0;34m)\u001b[0m\u001b[0;34m\u001b[0m\u001b[0m\n\u001b[0m",
      "\u001b[0;32m/home/savvas/miniconda3/envs/wvH2/lib/python3.6/site-packages/pandas/core/frame.py\u001b[0m in \u001b[0;36m__init__\u001b[0;34m(self, data, index, columns, dtype, copy)\u001b[0m\n\u001b[1;32m    312\u001b[0m                     \u001b[0;32mif\u001b[0m \u001b[0mis_named_tuple\u001b[0m\u001b[0;34m(\u001b[0m\u001b[0mdata\u001b[0m\u001b[0;34m[\u001b[0m\u001b[0;36m0\u001b[0m\u001b[0;34m]\u001b[0m\u001b[0;34m)\u001b[0m \u001b[0;32mand\u001b[0m \u001b[0mcolumns\u001b[0m \u001b[0;32mis\u001b[0m \u001b[0;32mNone\u001b[0m\u001b[0;34m:\u001b[0m\u001b[0;34m\u001b[0m\u001b[0m\n\u001b[1;32m    313\u001b[0m                         \u001b[0mcolumns\u001b[0m \u001b[0;34m=\u001b[0m \u001b[0mdata\u001b[0m\u001b[0;34m[\u001b[0m\u001b[0;36m0\u001b[0m\u001b[0;34m]\u001b[0m\u001b[0;34m.\u001b[0m\u001b[0m_fields\u001b[0m\u001b[0;34m\u001b[0m\u001b[0m\n\u001b[0;32m--> 314\u001b[0;31m                     \u001b[0marrays\u001b[0m\u001b[0;34m,\u001b[0m \u001b[0mcolumns\u001b[0m \u001b[0;34m=\u001b[0m \u001b[0m_to_arrays\u001b[0m\u001b[0;34m(\u001b[0m\u001b[0mdata\u001b[0m\u001b[0;34m,\u001b[0m \u001b[0mcolumns\u001b[0m\u001b[0;34m,\u001b[0m \u001b[0mdtype\u001b[0m\u001b[0;34m=\u001b[0m\u001b[0mdtype\u001b[0m\u001b[0;34m)\u001b[0m\u001b[0;34m\u001b[0m\u001b[0m\n\u001b[0m\u001b[1;32m    315\u001b[0m                     \u001b[0mcolumns\u001b[0m \u001b[0;34m=\u001b[0m \u001b[0m_ensure_index\u001b[0m\u001b[0;34m(\u001b[0m\u001b[0mcolumns\u001b[0m\u001b[0;34m)\u001b[0m\u001b[0;34m\u001b[0m\u001b[0m\n\u001b[1;32m    316\u001b[0m \u001b[0;34m\u001b[0m\u001b[0m\n",
      "\u001b[0;32m/home/savvas/miniconda3/envs/wvH2/lib/python3.6/site-packages/pandas/core/frame.py\u001b[0m in \u001b[0;36m_to_arrays\u001b[0;34m(data, columns, coerce_float, dtype)\u001b[0m\n\u001b[1;32m   5615\u001b[0m     \u001b[0;32mif\u001b[0m \u001b[0misinstance\u001b[0m\u001b[0;34m(\u001b[0m\u001b[0mdata\u001b[0m\u001b[0;34m[\u001b[0m\u001b[0;36m0\u001b[0m\u001b[0;34m]\u001b[0m\u001b[0;34m,\u001b[0m \u001b[0;34m(\u001b[0m\u001b[0mlist\u001b[0m\u001b[0;34m,\u001b[0m \u001b[0mtuple\u001b[0m\u001b[0;34m)\u001b[0m\u001b[0;34m)\u001b[0m\u001b[0;34m:\u001b[0m\u001b[0;34m\u001b[0m\u001b[0m\n\u001b[1;32m   5616\u001b[0m         return _list_to_arrays(data, columns, coerce_float=coerce_float,\n\u001b[0;32m-> 5617\u001b[0;31m                                dtype=dtype)\n\u001b[0m\u001b[1;32m   5618\u001b[0m     \u001b[0;32melif\u001b[0m \u001b[0misinstance\u001b[0m\u001b[0;34m(\u001b[0m\u001b[0mdata\u001b[0m\u001b[0;34m[\u001b[0m\u001b[0;36m0\u001b[0m\u001b[0;34m]\u001b[0m\u001b[0;34m,\u001b[0m \u001b[0mcollections\u001b[0m\u001b[0;34m.\u001b[0m\u001b[0mMapping\u001b[0m\u001b[0;34m)\u001b[0m\u001b[0;34m:\u001b[0m\u001b[0;34m\u001b[0m\u001b[0m\n\u001b[1;32m   5619\u001b[0m         return _list_of_dict_to_arrays(data, columns,\n",
      "\u001b[0;32m/home/savvas/miniconda3/envs/wvH2/lib/python3.6/site-packages/pandas/core/frame.py\u001b[0m in \u001b[0;36m_list_to_arrays\u001b[0;34m(data, columns, coerce_float, dtype)\u001b[0m\n\u001b[1;32m   5694\u001b[0m         \u001b[0mcontent\u001b[0m \u001b[0;34m=\u001b[0m \u001b[0mlist\u001b[0m\u001b[0;34m(\u001b[0m\u001b[0mlib\u001b[0m\u001b[0;34m.\u001b[0m\u001b[0mto_object_array\u001b[0m\u001b[0;34m(\u001b[0m\u001b[0mdata\u001b[0m\u001b[0;34m)\u001b[0m\u001b[0;34m.\u001b[0m\u001b[0mT\u001b[0m\u001b[0;34m)\u001b[0m\u001b[0;34m\u001b[0m\u001b[0m\n\u001b[1;32m   5695\u001b[0m     return _convert_object_array(content, columns, dtype=dtype,\n\u001b[0;32m-> 5696\u001b[0;31m                                  coerce_float=coerce_float)\n\u001b[0m\u001b[1;32m   5697\u001b[0m \u001b[0;34m\u001b[0m\u001b[0m\n\u001b[1;32m   5698\u001b[0m \u001b[0;34m\u001b[0m\u001b[0m\n",
      "\u001b[0;32m/home/savvas/miniconda3/envs/wvH2/lib/python3.6/site-packages/pandas/core/frame.py\u001b[0m in \u001b[0;36m_convert_object_array\u001b[0;34m(content, columns, coerce_float, dtype)\u001b[0m\n\u001b[1;32m   5753\u001b[0m             \u001b[0;31m# caller's responsibility to check for this...\u001b[0m\u001b[0;34m\u001b[0m\u001b[0;34m\u001b[0m\u001b[0m\n\u001b[1;32m   5754\u001b[0m             raise AssertionError('%d columns passed, passed data had %s '\n\u001b[0;32m-> 5755\u001b[0;31m                                  'columns' % (len(columns), len(content)))\n\u001b[0m\u001b[1;32m   5756\u001b[0m \u001b[0;34m\u001b[0m\u001b[0m\n\u001b[1;32m   5757\u001b[0m     \u001b[0;31m# provide soft conversion of object dtypes\u001b[0m\u001b[0;34m\u001b[0m\u001b[0;34m\u001b[0m\u001b[0m\n",
      "\u001b[0;31mAssertionError\u001b[0m: 23 columns passed, passed data had 24 columns"
     ]
    }
   ],
   "source": [
    "df = pd.DataFrame(data, columns=cols)"
   ]
  },
  {
   "cell_type": "code",
   "execution_count": 74,
   "metadata": {
    "collapsed": false
   },
   "outputs": [
    {
     "name": "stdout",
     "output_type": "stream",
     "text": [
      "24\n",
      "24\n",
      "24\n",
      "24\n",
      "24\n",
      "24\n",
      "24\n",
      "24\n",
      "24\n",
      "24\n",
      "24\n",
      "24\n",
      "24\n",
      "24\n",
      "24\n",
      "24\n",
      "24\n",
      "24\n",
      "24\n",
      "24\n",
      "24\n",
      "24\n",
      "24\n",
      "24\n",
      "24\n"
     ]
    }
   ],
   "source": [
    "for row in data: print(len(row))"
   ]
  },
  {
   "cell_type": "code",
   "execution_count": null,
   "metadata": {
    "collapsed": true
   },
   "outputs": [],
   "source": []
  },
  {
   "cell_type": "code",
   "execution_count": 14,
   "metadata": {
    "collapsed": false
   },
   "outputs": [],
   "source": [
    "url_selector= \"#cmn_wrap > div.row.two-cols > div >\"\\\n",
    "              \"div.row.inner-page.stats > div > table > tbody > tr > \"\\\n",
    "              \"td.text.key > a\"\n",
    "urls = d(url_selector)"
   ]
  },
  {
   "cell_type": "code",
   "execution_count": 17,
   "metadata": {
    "collapsed": false
   },
   "outputs": [
    {
     "data": {
      "text/plain": [
       "'/profile/Marcus-Keene-77862/'"
      ]
     },
     "execution_count": 17,
     "metadata": {},
     "output_type": "execute_result"
    }
   ],
   "source": [
    "urls[0].attrib[\"href\"]"
   ]
  },
  {
   "cell_type": "code",
   "execution_count": 18,
   "metadata": {
    "collapsed": false
   },
   "outputs": [
    {
     "data": {
      "text/plain": [
       "25"
      ]
     },
     "execution_count": 18,
     "metadata": {},
     "output_type": "execute_result"
    }
   ],
   "source": [
    "len(rows)"
   ]
  },
  {
   "cell_type": "code",
   "execution_count": 20,
   "metadata": {
    "collapsed": false
   },
   "outputs": [
    {
     "data": {
      "text/plain": [
       "25"
      ]
     },
     "execution_count": 20,
     "metadata": {},
     "output_type": "execute_result"
    }
   ],
   "source": [
    "len(urls)"
   ]
  },
  {
   "cell_type": "code",
   "execution_count": 21,
   "metadata": {
    "collapsed": false
   },
   "outputs": [
    {
     "data": {
      "text/plain": [
       "'/profile/Marcus-Keene-77862/'"
      ]
     },
     "execution_count": 21,
     "metadata": {},
     "output_type": "execute_result"
    }
   ],
   "source": [
    "urls[0].get(\"href\")"
   ]
  },
  {
   "cell_type": "code",
   "execution_count": 22,
   "metadata": {
    "collapsed": true
   },
   "outputs": [],
   "source": [
    "def get_links(pq_obj, url_selector):\n",
    "    urls = pq_obj(url_selector)\n",
    "    links = [url.get(\"href\") for url in urls]\n",
    "    return links"
   ]
  },
  {
   "cell_type": "code",
   "execution_count": 23,
   "metadata": {
    "collapsed": true
   },
   "outputs": [],
   "source": [
    "team_url_selector = \"#cmn_wrap > div.row.two-cols > div > \"\\\n",
    "                    \"div.row.inner-page.stats > div > table > tbody > tr > td\"\\\n",
    "                    \" > a\"\n",
    "team_links = get_links(d, team_url_selector)"
   ]
  },
  {
   "cell_type": "code",
   "execution_count": null,
   "metadata": {
    "collapsed": true
   },
   "outputs": [],
   "source": [
    "#cmn_wrap > div.row.two-cols > div > div.row.inner-page.stats > div > table > tbody > tr:nth-child(1) > td:nth-child(4) > a"
   ]
  },
  {
   "cell_type": "code",
   "execution_count": 24,
   "metadata": {
    "collapsed": false
   },
   "outputs": [
    {
     "data": {
      "text/plain": [
       "['/profile/Marcus-Keene-77862/',\n",
       " '/stats/ncaa/2017/Central%20Michigan',\n",
       " '/stats/ncaa/2017/Central%20Michigan',\n",
       " '/profile/Mike-Daum-87803/',\n",
       " '/stats/ncaa/2017/South%20Dakota%20St',\n",
       " '/stats/ncaa/2017/South%20Dakota%20St',\n",
       " '/profile/Chris-Clemons-95352/',\n",
       " '/stats/ncaa/2017/Campbell',\n",
       " '/stats/ncaa/2017/Campbell',\n",
       " '/profile/Randy-Onwuasor-78087/']"
      ]
     },
     "execution_count": 24,
     "metadata": {},
     "output_type": "execute_result"
    }
   ],
   "source": [
    "team_links[:10]"
   ]
  },
  {
   "cell_type": "code",
   "execution_count": 25,
   "metadata": {
    "collapsed": true
   },
   "outputs": [],
   "source": [
    "player_links = get_links(d, url_selector)"
   ]
  },
  {
   "cell_type": "code",
   "execution_count": 26,
   "metadata": {
    "collapsed": false
   },
   "outputs": [
    {
     "data": {
      "text/plain": [
       "['/profile/Marcus-Keene-77862/',\n",
       " '/profile/Mike-Daum-87803/',\n",
       " '/profile/Chris-Clemons-95352/',\n",
       " '/profile/Randy-Onwuasor-78087/',\n",
       " '/profile/Dallas-Moore-77666/',\n",
       " '/profile/Cameron-Morse-87050/',\n",
       " '/profile/Tyler-Hall-96046/',\n",
       " '/profile/Markelle-Fultz-90302/',\n",
       " '/profile/Keon-Johnson-70390/',\n",
       " '/profile/Rashawn-Thomas-78868/']"
      ]
     },
     "execution_count": 26,
     "metadata": {},
     "output_type": "execute_result"
    }
   ],
   "source": [
    "player_links[:10]"
   ]
  },
  {
   "cell_type": "code",
   "execution_count": 28,
   "metadata": {
    "collapsed": false
   },
   "outputs": [],
   "source": [
    "team_url_selector2 = \".key~ .text+ td a\"\n",
    "team_links = get_links(d, team_url_selector2)"
   ]
  },
  {
   "cell_type": "code",
   "execution_count": 29,
   "metadata": {
    "collapsed": false
   },
   "outputs": [
    {
     "data": {
      "text/plain": [
       "['/stats/ncaa/2017/Central%20Michigan',\n",
       " '/stats/ncaa/2017/South%20Dakota%20St',\n",
       " '/stats/ncaa/2017/Campbell',\n",
       " '/stats/ncaa/2017/Southern%20Utah',\n",
       " '/stats/ncaa/2017/North%20Florida',\n",
       " '/stats/ncaa/2017/Youngstown%20St',\n",
       " '/stats/ncaa/2017/Montana%20St',\n",
       " '/stats/ncaa/2017/Washington',\n",
       " '/stats/ncaa/2017/Winthrop',\n",
       " '/stats/ncaa/2017/TX%20A%26M%20Corpus%20Christi']"
      ]
     },
     "execution_count": 29,
     "metadata": {},
     "output_type": "execute_result"
    }
   ],
   "source": [
    "team_links[:10]"
   ]
  },
  {
   "cell_type": "code",
   "execution_count": 30,
   "metadata": {
    "collapsed": true
   },
   "outputs": [],
   "source": [
    "team_url_selector3 = \"#cmn_wrap > div.row.two-cols > div > div.row.inner-page.stats > div > table > tbody > tr > td.highlighted > a\"\n",
    "team_links2 = get_links(d, team_url_selector3)"
   ]
  },
  {
   "cell_type": "code",
   "execution_count": 31,
   "metadata": {
    "collapsed": false
   },
   "outputs": [
    {
     "data": {
      "text/plain": [
       "[]"
      ]
     },
     "execution_count": 31,
     "metadata": {},
     "output_type": "execute_result"
    }
   ],
   "source": [
    "team_links2[:10]"
   ]
  },
  {
   "cell_type": "code",
   "execution_count": 47,
   "metadata": {
    "collapsed": true
   },
   "outputs": [],
   "source": [
    "last_pg_selector = \".disabled+ li a\"\n",
    "last_pg = d(last_pg_selector)"
   ]
  },
  {
   "cell_type": "code",
   "execution_count": 48,
   "metadata": {
    "collapsed": false
   },
   "outputs": [
    {
     "data": {
      "text/plain": [
       "[<a>]"
      ]
     },
     "execution_count": 48,
     "metadata": {},
     "output_type": "execute_result"
    }
   ],
   "source": [
    "last_pg"
   ]
  },
  {
   "cell_type": "code",
   "execution_count": 51,
   "metadata": {
    "collapsed": false
   },
   "outputs": [
    {
     "data": {
      "text/plain": [
       "'190'"
      ]
     },
     "execution_count": 51,
     "metadata": {},
     "output_type": "execute_result"
    }
   ],
   "source": [
    "last_pg[0].text_content()"
   ]
  }
 ],
 "metadata": {
  "kernelspec": {
   "display_name": "Python 3",
   "language": "python",
   "name": "python3"
  },
  "language_info": {
   "codemirror_mode": {
    "name": "ipython",
    "version": 3
   },
   "file_extension": ".py",
   "mimetype": "text/x-python",
   "name": "python",
   "nbconvert_exporter": "python",
   "pygments_lexer": "ipython3",
   "version": "3.6.0"
  }
 },
 "nbformat": 4,
 "nbformat_minor": 2
}
