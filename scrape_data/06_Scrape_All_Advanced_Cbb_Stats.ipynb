{
 "cells": [
  {
   "cell_type": "code",
   "execution_count": 1,
   "metadata": {
    "collapsed": true
   },
   "outputs": [],
   "source": [
    "import requests\n",
    "from pyquery import PyQuery as pq\n",
    "import pandas as pd"
   ]
  },
  {
   "cell_type": "code",
   "execution_count": 2,
   "metadata": {
    "collapsed": true
   },
   "outputs": [],
   "source": [
    "url_template = \"http://www.sports-reference.com/cbb/play-index/psl_finder.cgi\"\\\n",
    "               \"?request=1&match=single&year_min=1996&year_max=&conf_id=&\"\\\n",
    "               \"school_id=&class_is_fr=Y&class_is_so=Y&class_is_jr=Y&class_is\"\\\n",
    "               \"_sr=Y&pos_is_g=Y&pos_is_gf=Y&pos_is_fg=Y&pos_is_f=Y&pos_is_fc\"\\\n",
    "               \"=Y&pos_is_cf=Y&pos_is_c=Y&games_type=A&qual=&c1stat=&c1comp=&\"\\\n",
    "               \"c1val=&c2stat=&c2comp=&c2val=&c3stat=&c3comp=&c3val=&c4stat=&\"\\\n",
    "               \"c4comp=&c4val=&order_by=ws&order_by_asc=&offset={}\""
   ]
  },
  {
   "cell_type": "code",
   "execution_count": 3,
   "metadata": {
    "collapsed": true
   },
   "outputs": [],
   "source": [
    "def get_cbb_link_and_data(idx, td):\n",
    "    \"\"\"Helps get the player link as you scrape the data\"\"\" \n",
    "    \n",
    "    if idx == 1:\n",
    "        return td.text_content(), td.getchildren()[0].attrib[\"href\"]\n",
    "    else:\n",
    "        return td.text_content()\n",
    "\n",
    "def create_pq(url):\n",
    "    \"\"\"Creates PyQuery object used for scraping\"\"\"\n",
    "    \n",
    "    response = requests.get(url)\n",
    "    html = response.text.replace('<!--', '').replace('-->', '')\n",
    "    return pq(html)\n",
    "\n",
    "def get_table(url, table_id_selector):\n",
    "    \"\"\"Scrapes the data and returns it as a DataFrame\"\"\"\n",
    "    \n",
    "    pq_obj = create_pq(url)\n",
    "    \n",
    "    rows = pq_obj(\"{} > tbody > tr\".format(table_id_selector))\n",
    "    headers = pq_obj(\"{} > thead > tr > th\".format(table_id_selector))\n",
    "    \n",
    "    # get data from each row and coll\n",
    "    data = [[get_cbb_link_and_data(idx, td) \n",
    "             for idx, td in enumerate(row.iterchildren())] \n",
    "            for row in rows if row.attrib == \"\"]\n",
    "    cols = [th.text_content() for th in headers[2:]]\n",
    "    df = pd.DataFrame(data=data, columns=cols)\n",
    "    \n",
    "    return df\n",
    "\n",
    "def scrape_data(offset):\n",
    "    url = url_template.format(offset)\n",
    "    try:\n",
    "        return get_table(url, \"#stats\")\n",
    "    except Exception as e:\n",
    "        return [url, e]"
   ]
  },
  {
   "cell_type": "code",
   "execution_count": 4,
   "metadata": {
    "collapsed": false
   },
   "outputs": [],
   "source": [
    "dfs = [scrape_data(offset) for offset in range(0, 96701, 100)]"
   ]
  },
  {
   "cell_type": "code",
   "execution_count": 5,
   "metadata": {
    "collapsed": false
   },
   "outputs": [
    {
     "data": {
      "text/plain": [
       "968"
      ]
     },
     "execution_count": 5,
     "metadata": {},
     "output_type": "execute_result"
    }
   ],
   "source": [
    "len(dfs)"
   ]
  },
  {
   "cell_type": "code",
   "execution_count": 6,
   "metadata": {
    "collapsed": true
   },
   "outputs": [],
   "source": [
    "errors = [error for error in dfs if isinstance(error, list)]"
   ]
  },
  {
   "cell_type": "code",
   "execution_count": 7,
   "metadata": {
    "collapsed": false
   },
   "outputs": [
    {
     "data": {
      "text/plain": [
       "0"
      ]
     },
     "execution_count": 7,
     "metadata": {},
     "output_type": "execute_result"
    }
   ],
   "source": [
    "len(errors)"
   ]
  },
  {
   "cell_type": "code",
   "execution_count": 8,
   "metadata": {
    "collapsed": true
   },
   "outputs": [],
   "source": [
    "actual_dfs = [df for df in dfs if isinstance(df, pd.DataFrame)]"
   ]
  },
  {
   "cell_type": "code",
   "execution_count": 9,
   "metadata": {
    "collapsed": false
   },
   "outputs": [
    {
     "data": {
      "text/plain": [
       "968"
      ]
     },
     "execution_count": 9,
     "metadata": {},
     "output_type": "execute_result"
    }
   ],
   "source": [
    "len(actual_dfs)"
   ]
  },
  {
   "cell_type": "code",
   "execution_count": 10,
   "metadata": {
    "collapsed": true
   },
   "outputs": [],
   "source": [
    "df = pd.concat(dfs, ignore_index=True)"
   ]
  },
  {
   "cell_type": "code",
   "execution_count": 11,
   "metadata": {
    "collapsed": false
   },
   "outputs": [
    {
     "data": {
      "text/html": [
       "<div>\n",
       "<style>\n",
       "    .dataframe thead tr:only-child th {\n",
       "        text-align: right;\n",
       "    }\n",
       "\n",
       "    .dataframe thead th {\n",
       "        text-align: left;\n",
       "    }\n",
       "\n",
       "    .dataframe tbody tr th {\n",
       "        vertical-align: top;\n",
       "    }\n",
       "</style>\n",
       "<table border=\"1\" class=\"dataframe\">\n",
       "  <thead>\n",
       "    <tr style=\"text-align: right;\">\n",
       "      <th></th>\n",
       "      <th>Rk</th>\n",
       "      <th>Player</th>\n",
       "      <th>Class</th>\n",
       "      <th>Season</th>\n",
       "      <th>Pos</th>\n",
       "      <th>School</th>\n",
       "      <th>Conf</th>\n",
       "      <th>G</th>\n",
       "      <th>MP</th>\n",
       "      <th>PER</th>\n",
       "      <th>...</th>\n",
       "      <th>USG%</th>\n",
       "      <th>PProd</th>\n",
       "      <th>ORtg</th>\n",
       "      <th>DRtg</th>\n",
       "      <th>OWS</th>\n",
       "      <th>DWS</th>\n",
       "      <th>WS</th>\n",
       "      <th>OBPM</th>\n",
       "      <th>DBPM</th>\n",
       "      <th>BPM</th>\n",
       "    </tr>\n",
       "  </thead>\n",
       "  <tbody>\n",
       "    <tr>\n",
       "      <th>0</th>\n",
       "      <td>1</td>\n",
       "      <td>(Kevin Love, /cbb/players/kevin-love-1.html)</td>\n",
       "      <td>FR</td>\n",
       "      <td>2007-08</td>\n",
       "      <td>C</td>\n",
       "      <td>UCLA</td>\n",
       "      <td>Pac-10</td>\n",
       "      <td>39</td>\n",
       "      <td>1156</td>\n",
       "      <td></td>\n",
       "      <td>...</td>\n",
       "      <td></td>\n",
       "      <td></td>\n",
       "      <td></td>\n",
       "      <td></td>\n",
       "      <td>5.6</td>\n",
       "      <td>5.7</td>\n",
       "      <td>11.3</td>\n",
       "      <td></td>\n",
       "      <td></td>\n",
       "      <td></td>\n",
       "    </tr>\n",
       "    <tr>\n",
       "      <th>1</th>\n",
       "      <td>2</td>\n",
       "      <td>(Andrew Bogut, /cbb/players/andrew-bogut-1.html)</td>\n",
       "      <td>SO</td>\n",
       "      <td>2004-05</td>\n",
       "      <td>F</td>\n",
       "      <td>Utah</td>\n",
       "      <td>MWC</td>\n",
       "      <td>35</td>\n",
       "      <td>1224</td>\n",
       "      <td></td>\n",
       "      <td>...</td>\n",
       "      <td></td>\n",
       "      <td></td>\n",
       "      <td></td>\n",
       "      <td></td>\n",
       "      <td>6.4</td>\n",
       "      <td>4.5</td>\n",
       "      <td>10.9</td>\n",
       "      <td></td>\n",
       "      <td></td>\n",
       "      <td></td>\n",
       "    </tr>\n",
       "    <tr>\n",
       "      <th>2</th>\n",
       "      <td>3</td>\n",
       "      <td>(Paul Millsap, /cbb/players/paul-millsap-1.html)</td>\n",
       "      <td>JR</td>\n",
       "      <td>2005-06</td>\n",
       "      <td>F</td>\n",
       "      <td>Louisiana Tech</td>\n",
       "      <td>WAC</td>\n",
       "      <td>33</td>\n",
       "      <td>1126</td>\n",
       "      <td></td>\n",
       "      <td>...</td>\n",
       "      <td></td>\n",
       "      <td></td>\n",
       "      <td></td>\n",
       "      <td></td>\n",
       "      <td>4.1</td>\n",
       "      <td>6.7</td>\n",
       "      <td>10.8</td>\n",
       "      <td></td>\n",
       "      <td></td>\n",
       "      <td></td>\n",
       "    </tr>\n",
       "    <tr>\n",
       "      <th>3</th>\n",
       "      <td>4</td>\n",
       "      <td>(Michael Beasley, /cbb/players/michael-beasley...</td>\n",
       "      <td>FR</td>\n",
       "      <td>2007-08</td>\n",
       "      <td>F</td>\n",
       "      <td>Kansas State</td>\n",
       "      <td>Big 12</td>\n",
       "      <td>33</td>\n",
       "      <td>1041</td>\n",
       "      <td></td>\n",
       "      <td>...</td>\n",
       "      <td></td>\n",
       "      <td></td>\n",
       "      <td></td>\n",
       "      <td></td>\n",
       "      <td>5.4</td>\n",
       "      <td>5.4</td>\n",
       "      <td>10.7</td>\n",
       "      <td></td>\n",
       "      <td></td>\n",
       "      <td></td>\n",
       "    </tr>\n",
       "    <tr>\n",
       "      <th>4</th>\n",
       "      <td>5</td>\n",
       "      <td>(Tim Duncan, /cbb/players/tim-duncan-1.html)</td>\n",
       "      <td>SR</td>\n",
       "      <td>1996-97</td>\n",
       "      <td>C</td>\n",
       "      <td>Wake Forest</td>\n",
       "      <td>ACC</td>\n",
       "      <td>31</td>\n",
       "      <td>1137</td>\n",
       "      <td></td>\n",
       "      <td>...</td>\n",
       "      <td></td>\n",
       "      <td></td>\n",
       "      <td></td>\n",
       "      <td></td>\n",
       "      <td>5.5</td>\n",
       "      <td>4.9</td>\n",
       "      <td>10.4</td>\n",
       "      <td></td>\n",
       "      <td></td>\n",
       "      <td></td>\n",
       "    </tr>\n",
       "  </tbody>\n",
       "</table>\n",
       "<p>5 rows × 29 columns</p>\n",
       "</div>"
      ],
      "text/plain": [
       "  Rk                                             Player Class   Season Pos  \\\n",
       "0  1       (Kevin Love, /cbb/players/kevin-love-1.html)    FR  2007-08   C   \n",
       "1  2   (Andrew Bogut, /cbb/players/andrew-bogut-1.html)    SO  2004-05   F   \n",
       "2  3   (Paul Millsap, /cbb/players/paul-millsap-1.html)    JR  2005-06   F   \n",
       "3  4  (Michael Beasley, /cbb/players/michael-beasley...    FR  2007-08   F   \n",
       "4  5       (Tim Duncan, /cbb/players/tim-duncan-1.html)    SR  1996-97   C   \n",
       "\n",
       "           School    Conf   G    MP PER ... USG% PProd ORtg DRtg  OWS  DWS  \\\n",
       "0            UCLA  Pac-10  39  1156     ...                       5.6  5.7   \n",
       "1            Utah     MWC  35  1224     ...                       6.4  4.5   \n",
       "2  Louisiana Tech     WAC  33  1126     ...                       4.1  6.7   \n",
       "3    Kansas State  Big 12  33  1041     ...                       5.4  5.4   \n",
       "4     Wake Forest     ACC  31  1137     ...                       5.5  4.9   \n",
       "\n",
       "     WS OBPM DBPM BPM  \n",
       "0  11.3                \n",
       "1  10.9                \n",
       "2  10.8                \n",
       "3  10.7                \n",
       "4  10.4                \n",
       "\n",
       "[5 rows x 29 columns]"
      ]
     },
     "execution_count": 11,
     "metadata": {},
     "output_type": "execute_result"
    }
   ],
   "source": [
    "df.head()"
   ]
  },
  {
   "cell_type": "code",
   "execution_count": 12,
   "metadata": {
    "collapsed": false
   },
   "outputs": [
    {
     "data": {
      "text/html": [
       "<div>\n",
       "<style>\n",
       "    .dataframe thead tr:only-child th {\n",
       "        text-align: right;\n",
       "    }\n",
       "\n",
       "    .dataframe thead th {\n",
       "        text-align: left;\n",
       "    }\n",
       "\n",
       "    .dataframe tbody tr th {\n",
       "        vertical-align: top;\n",
       "    }\n",
       "</style>\n",
       "<table border=\"1\" class=\"dataframe\">\n",
       "  <thead>\n",
       "    <tr style=\"text-align: right;\">\n",
       "      <th></th>\n",
       "      <th>Rk</th>\n",
       "      <th>Player</th>\n",
       "      <th>Class</th>\n",
       "      <th>Season</th>\n",
       "      <th>Pos</th>\n",
       "      <th>School</th>\n",
       "      <th>Conf</th>\n",
       "      <th>G</th>\n",
       "      <th>MP</th>\n",
       "      <th>PER</th>\n",
       "      <th>...</th>\n",
       "      <th>USG%</th>\n",
       "      <th>PProd</th>\n",
       "      <th>ORtg</th>\n",
       "      <th>DRtg</th>\n",
       "      <th>OWS</th>\n",
       "      <th>DWS</th>\n",
       "      <th>WS</th>\n",
       "      <th>OBPM</th>\n",
       "      <th>DBPM</th>\n",
       "      <th>BPM</th>\n",
       "    </tr>\n",
       "  </thead>\n",
       "  <tbody>\n",
       "    <tr>\n",
       "      <th>96784</th>\n",
       "      <td>96785</td>\n",
       "      <td>(Will Hornsby, /cbb/players/will-hornsby-1.html)</td>\n",
       "      <td>FR</td>\n",
       "      <td>2012-13</td>\n",
       "      <td>G</td>\n",
       "      <td>Grambling</td>\n",
       "      <td>SWAC</td>\n",
       "      <td>22</td>\n",
       "      <td>440</td>\n",
       "      <td>1.4</td>\n",
       "      <td>...</td>\n",
       "      <td>20.6</td>\n",
       "      <td>93</td>\n",
       "      <td>60.9</td>\n",
       "      <td>122.0</td>\n",
       "      <td>-1.3</td>\n",
       "      <td>-0.3</td>\n",
       "      <td>-1.6</td>\n",
       "      <td>-9.9</td>\n",
       "      <td>-6.1</td>\n",
       "      <td>-15.9</td>\n",
       "    </tr>\n",
       "    <tr>\n",
       "      <th>96785</th>\n",
       "      <td>96786</td>\n",
       "      <td>(Jermaine Holliway, /cbb/players/jermaine-holl...</td>\n",
       "      <td>SR</td>\n",
       "      <td>1999-00</td>\n",
       "      <td>F</td>\n",
       "      <td>Howard</td>\n",
       "      <td>MEAC</td>\n",
       "      <td>28</td>\n",
       "      <td></td>\n",
       "      <td></td>\n",
       "      <td>...</td>\n",
       "      <td></td>\n",
       "      <td></td>\n",
       "      <td></td>\n",
       "      <td></td>\n",
       "      <td>-1.3</td>\n",
       "      <td>-0.3</td>\n",
       "      <td>-1.7</td>\n",
       "      <td></td>\n",
       "      <td></td>\n",
       "      <td></td>\n",
       "    </tr>\n",
       "    <tr>\n",
       "      <th>96786</th>\n",
       "      <td>96787</td>\n",
       "      <td>(Darwayne Smith, /cbb/players/darwayne-smith-1...</td>\n",
       "      <td>FR</td>\n",
       "      <td>2005-06</td>\n",
       "      <td>F</td>\n",
       "      <td>Savannah State</td>\n",
       "      <td>Ind</td>\n",
       "      <td>25</td>\n",
       "      <td></td>\n",
       "      <td></td>\n",
       "      <td>...</td>\n",
       "      <td></td>\n",
       "      <td></td>\n",
       "      <td></td>\n",
       "      <td></td>\n",
       "      <td>-0.8</td>\n",
       "      <td>-1.0</td>\n",
       "      <td>-1.8</td>\n",
       "      <td></td>\n",
       "      <td></td>\n",
       "      <td></td>\n",
       "    </tr>\n",
       "    <tr>\n",
       "      <th>96787</th>\n",
       "      <td>96788</td>\n",
       "      <td>(Antoine Bronner, /cbb/players/antoine-bronner...</td>\n",
       "      <td>FR</td>\n",
       "      <td>2005-06</td>\n",
       "      <td>F</td>\n",
       "      <td>Savannah State</td>\n",
       "      <td>Ind</td>\n",
       "      <td>30</td>\n",
       "      <td></td>\n",
       "      <td></td>\n",
       "      <td>...</td>\n",
       "      <td></td>\n",
       "      <td></td>\n",
       "      <td></td>\n",
       "      <td></td>\n",
       "      <td>-1.2</td>\n",
       "      <td>-0.8</td>\n",
       "      <td>-2.0</td>\n",
       "      <td></td>\n",
       "      <td></td>\n",
       "      <td></td>\n",
       "    </tr>\n",
       "    <tr>\n",
       "      <th>96788</th>\n",
       "      <td>96789</td>\n",
       "      <td>(Kris Walden, /cbb/players/kris-walden-1.html)</td>\n",
       "      <td>FR</td>\n",
       "      <td>2011-12</td>\n",
       "      <td>G</td>\n",
       "      <td>Towson</td>\n",
       "      <td>CAA</td>\n",
       "      <td>32</td>\n",
       "      <td>1098</td>\n",
       "      <td>2.3</td>\n",
       "      <td>...</td>\n",
       "      <td>19.2</td>\n",
       "      <td>229</td>\n",
       "      <td>66.6</td>\n",
       "      <td>114.3</td>\n",
       "      <td>-2.4</td>\n",
       "      <td>0.0</td>\n",
       "      <td>-2.4</td>\n",
       "      <td>-6.2</td>\n",
       "      <td>-3.3</td>\n",
       "      <td>-9.5</td>\n",
       "    </tr>\n",
       "  </tbody>\n",
       "</table>\n",
       "<p>5 rows × 29 columns</p>\n",
       "</div>"
      ],
      "text/plain": [
       "          Rk                                             Player Class  \\\n",
       "96784  96785   (Will Hornsby, /cbb/players/will-hornsby-1.html)    FR   \n",
       "96785  96786  (Jermaine Holliway, /cbb/players/jermaine-holl...    SR   \n",
       "96786  96787  (Darwayne Smith, /cbb/players/darwayne-smith-1...    FR   \n",
       "96787  96788  (Antoine Bronner, /cbb/players/antoine-bronner...    FR   \n",
       "96788  96789     (Kris Walden, /cbb/players/kris-walden-1.html)    FR   \n",
       "\n",
       "        Season Pos          School  Conf   G    MP  PER  ...    USG% PProd  \\\n",
       "96784  2012-13   G       Grambling  SWAC  22   440  1.4  ...    20.6    93   \n",
       "96785  1999-00   F          Howard  MEAC  28             ...                 \n",
       "96786  2005-06   F  Savannah State   Ind  25             ...                 \n",
       "96787  2005-06   F  Savannah State   Ind  30             ...                 \n",
       "96788  2011-12   G          Towson   CAA  32  1098  2.3  ...    19.2   229   \n",
       "\n",
       "       ORtg   DRtg   OWS   DWS    WS  OBPM  DBPM    BPM  \n",
       "96784  60.9  122.0  -1.3  -0.3  -1.6  -9.9  -6.1  -15.9  \n",
       "96785               -1.3  -0.3  -1.7                     \n",
       "96786               -0.8  -1.0  -1.8                     \n",
       "96787               -1.2  -0.8  -2.0                     \n",
       "96788  66.6  114.3  -2.4   0.0  -2.4  -6.2  -3.3   -9.5  \n",
       "\n",
       "[5 rows x 29 columns]"
      ]
     },
     "execution_count": 12,
     "metadata": {},
     "output_type": "execute_result"
    }
   ],
   "source": [
    "df.tail()"
   ]
  },
  {
   "cell_type": "code",
   "execution_count": 14,
   "metadata": {
    "collapsed": false
   },
   "outputs": [
    {
     "name": "stdout",
     "output_type": "stream",
     "text": [
      "<class 'pandas.core.frame.DataFrame'>\n",
      "RangeIndex: 96789 entries, 0 to 96788\n",
      "Data columns (total 29 columns):\n",
      "Rk        96789 non-null object\n",
      "Player    96789 non-null object\n",
      "Class     96789 non-null object\n",
      "Season    96789 non-null object\n",
      "Pos       96789 non-null object\n",
      "School    96789 non-null object\n",
      "Conf      96789 non-null object\n",
      "G         96789 non-null object\n",
      "MP        96789 non-null object\n",
      "PER       96789 non-null object\n",
      "TS%       96789 non-null object\n",
      "eFG%      96789 non-null object\n",
      "ORB%      96789 non-null object\n",
      "DRB%      96789 non-null object\n",
      "TRB%      96789 non-null object\n",
      "AST%      96789 non-null object\n",
      "STL%      96789 non-null object\n",
      "BLK%      96789 non-null object\n",
      "TOV%      96789 non-null object\n",
      "USG%      96789 non-null object\n",
      "PProd     96789 non-null object\n",
      "ORtg      96789 non-null object\n",
      "DRtg      96789 non-null object\n",
      "OWS       96789 non-null object\n",
      "DWS       96789 non-null object\n",
      "WS        96789 non-null object\n",
      "OBPM      96789 non-null object\n",
      "DBPM      96789 non-null object\n",
      "BPM       96789 non-null object\n",
      "dtypes: object(29)\n",
      "memory usage: 21.4+ MB\n"
     ]
    }
   ],
   "source": [
    "df.info()"
   ]
  },
  {
   "cell_type": "code",
   "execution_count": 16,
   "metadata": {
    "collapsed": true
   },
   "outputs": [],
   "source": [
    "df.to_csv(\"raw_data/cbb_player_season_adv_stats_07_08_17_raw.csv\",\n",
    "          index=False)"
   ]
  }
 ],
 "metadata": {
  "kernelspec": {
   "display_name": "Python 3",
   "language": "python",
   "name": "python3"
  },
  "language_info": {
   "codemirror_mode": {
    "name": "ipython",
    "version": 3
   },
   "file_extension": ".py",
   "mimetype": "text/x-python",
   "name": "python",
   "nbconvert_exporter": "python",
   "pygments_lexer": "ipython3",
   "version": "3.6.0"
  }
 },
 "nbformat": 4,
 "nbformat_minor": 2
}
