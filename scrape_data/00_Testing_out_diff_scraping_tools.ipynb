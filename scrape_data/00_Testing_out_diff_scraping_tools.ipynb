{
 "cells": [
  {
   "cell_type": "markdown",
   "metadata": {},
   "source": [
    "# Best way to scrape tables from sref is using pyquery"
   ]
  },
  {
   "cell_type": "code",
   "execution_count": 1,
   "metadata": {
    "collapsed": true
   },
   "outputs": [],
   "source": [
    "import requests\n",
    "from pyquery import PyQuery as pq\n",
    "import pandas as pd"
   ]
  },
  {
   "cell_type": "code",
   "execution_count": 2,
   "metadata": {
    "collapsed": true
   },
   "outputs": [],
   "source": [
    "url = \"http://www.basketball-reference.com/players/w/walljo01.html\""
   ]
  },
  {
   "cell_type": "code",
   "execution_count": 3,
   "metadata": {
    "collapsed": false
   },
   "outputs": [],
   "source": [
    "response = requests.get(url)\n",
    "\n",
    "# looks like this helps fix any issues with any scraping library\n",
    "# can now just use pandas to scrape all dfs on player page\n",
    "html = response.text\n",
    "html = html.replace('<!--', '').replace('-->', '')"
   ]
  },
  {
   "cell_type": "code",
   "execution_count": 4,
   "metadata": {
    "collapsed": false
   },
   "outputs": [],
   "source": [
    "d = pq(html)\n",
    "rows = d(\"#totals > tbody > tr\")\n",
    "headers = d(\"#totals > thead > tr > th\")"
   ]
  },
  {
   "cell_type": "code",
   "execution_count": 5,
   "metadata": {
    "collapsed": false
   },
   "outputs": [
    {
     "data": {
      "text/plain": [
       "[<tr#totals.2011.full_table>, <tr#totals.2012.full_table>, <tr#totals.2013.full_table>, <tr#totals.2014.full_table>, <tr#totals.2015.full_table>, <tr#totals.2016.full_table>, <tr#totals.2017.full_table>]"
      ]
     },
     "execution_count": 5,
     "metadata": {},
     "output_type": "execute_result"
    }
   ],
   "source": [
    "rows"
   ]
  },
  {
   "cell_type": "code",
   "execution_count": 6,
   "metadata": {
    "collapsed": false,
    "scrolled": false
   },
   "outputs": [],
   "source": [
    "# data from each row\n",
    "data = [[td.text_content() for td in row.iterchildren()] for row in rows]"
   ]
  },
  {
   "cell_type": "code",
   "execution_count": 7,
   "metadata": {
    "collapsed": false
   },
   "outputs": [
    {
     "data": {
      "text/plain": [
       "[<th..poptip.sort_default_asc.center>, <th..poptip.sort_default_asc.center>, <th..poptip.sort_default_asc.center>, <th..poptip.sort_default_asc.center>, <th..poptip.sort_default_asc.center>, <th..poptip.center>, <th..poptip.center>, <th..poptip.center>, <th..poptip.center>, <th..poptip.center>, <th..poptip.center>, <th..poptip.center>, <th..poptip.center>, <th..poptip.center>, <th..poptip.center>, <th..poptip.center>, <th..poptip.center>, <th..poptip.center>, <th..poptip.center>, <th..poptip.center>, <th..poptip.center>, <th..poptip.center>, <th..poptip.center>, <th..poptip.center>, <th..poptip.center>, <th..poptip.center>, <th..poptip.center>, <th..poptip.center>, <th..poptip.center>, <th..poptip.center>]"
      ]
     },
     "execution_count": 7,
     "metadata": {},
     "output_type": "execute_result"
    }
   ],
   "source": [
    "headers"
   ]
  },
  {
   "cell_type": "code",
   "execution_count": 8,
   "metadata": {
    "collapsed": false
   },
   "outputs": [
    {
     "data": {
      "text/plain": [
       "['Season',\n",
       " 'Age',\n",
       " 'Tm',\n",
       " 'Lg',\n",
       " 'Pos',\n",
       " 'G',\n",
       " 'GS',\n",
       " 'MP',\n",
       " 'FG',\n",
       " 'FGA',\n",
       " 'FG%',\n",
       " '3P',\n",
       " '3PA',\n",
       " '3P',\n",
       " '2P',\n",
       " '2PA',\n",
       " '2P',\n",
       " 'eFG%',\n",
       " 'FT',\n",
       " 'FTA',\n",
       " 'FT%',\n",
       " 'ORB',\n",
       " 'DRB',\n",
       " 'TRB',\n",
       " 'AST',\n",
       " 'STL',\n",
       " 'BLK',\n",
       " 'TOV',\n",
       " 'PF',\n",
       " 'PTS']"
      ]
     },
     "execution_count": 8,
     "metadata": {},
     "output_type": "execute_result"
    }
   ],
   "source": [
    "[i.text_content() for i in headers]"
   ]
  },
  {
   "cell_type": "code",
   "execution_count": 9,
   "metadata": {
    "collapsed": true
   },
   "outputs": [],
   "source": [
    "cols = [i.text_content() for i in headers]"
   ]
  },
  {
   "cell_type": "code",
   "execution_count": 10,
   "metadata": {
    "collapsed": false
   },
   "outputs": [],
   "source": [
    "df = pd.DataFrame(data=data, columns=cols)"
   ]
  },
  {
   "cell_type": "code",
   "execution_count": 11,
   "metadata": {
    "collapsed": false
   },
   "outputs": [
    {
     "data": {
      "text/html": [
       "<div>\n",
       "<style>\n",
       "    .dataframe thead tr:only-child th {\n",
       "        text-align: right;\n",
       "    }\n",
       "\n",
       "    .dataframe thead th {\n",
       "        text-align: left;\n",
       "    }\n",
       "\n",
       "    .dataframe tbody tr th {\n",
       "        vertical-align: top;\n",
       "    }\n",
       "</style>\n",
       "<table border=\"1\" class=\"dataframe\">\n",
       "  <thead>\n",
       "    <tr style=\"text-align: right;\">\n",
       "      <th></th>\n",
       "      <th>Season</th>\n",
       "      <th>Age</th>\n",
       "      <th>Tm</th>\n",
       "      <th>Lg</th>\n",
       "      <th>Pos</th>\n",
       "      <th>G</th>\n",
       "      <th>GS</th>\n",
       "      <th>MP</th>\n",
       "      <th>FG</th>\n",
       "      <th>FGA</th>\n",
       "      <th>...</th>\n",
       "      <th>FT%</th>\n",
       "      <th>ORB</th>\n",
       "      <th>DRB</th>\n",
       "      <th>TRB</th>\n",
       "      <th>AST</th>\n",
       "      <th>STL</th>\n",
       "      <th>BLK</th>\n",
       "      <th>TOV</th>\n",
       "      <th>PF</th>\n",
       "      <th>PTS</th>\n",
       "    </tr>\n",
       "  </thead>\n",
       "  <tbody>\n",
       "    <tr>\n",
       "      <th>0</th>\n",
       "      <td>2010-11</td>\n",
       "      <td>20</td>\n",
       "      <td>WAS</td>\n",
       "      <td>NBA</td>\n",
       "      <td>PG</td>\n",
       "      <td>69</td>\n",
       "      <td>64</td>\n",
       "      <td>2606</td>\n",
       "      <td>398</td>\n",
       "      <td>972</td>\n",
       "      <td>...</td>\n",
       "      <td>.766</td>\n",
       "      <td>35</td>\n",
       "      <td>282</td>\n",
       "      <td>317</td>\n",
       "      <td>574</td>\n",
       "      <td>121</td>\n",
       "      <td>35</td>\n",
       "      <td>261</td>\n",
       "      <td>175</td>\n",
       "      <td>1131</td>\n",
       "    </tr>\n",
       "    <tr>\n",
       "      <th>1</th>\n",
       "      <td>2011-12</td>\n",
       "      <td>21</td>\n",
       "      <td>WAS</td>\n",
       "      <td>NBA</td>\n",
       "      <td>PG</td>\n",
       "      <td>66</td>\n",
       "      <td>66</td>\n",
       "      <td>2386</td>\n",
       "      <td>378</td>\n",
       "      <td>894</td>\n",
       "      <td>...</td>\n",
       "      <td>.789</td>\n",
       "      <td>48</td>\n",
       "      <td>252</td>\n",
       "      <td>300</td>\n",
       "      <td>530</td>\n",
       "      <td>95</td>\n",
       "      <td>57</td>\n",
       "      <td>255</td>\n",
       "      <td>137</td>\n",
       "      <td>1076</td>\n",
       "    </tr>\n",
       "    <tr>\n",
       "      <th>2</th>\n",
       "      <td>2012-13</td>\n",
       "      <td>22</td>\n",
       "      <td>WAS</td>\n",
       "      <td>NBA</td>\n",
       "      <td>PG</td>\n",
       "      <td>49</td>\n",
       "      <td>42</td>\n",
       "      <td>1602</td>\n",
       "      <td>324</td>\n",
       "      <td>735</td>\n",
       "      <td>...</td>\n",
       "      <td>.804</td>\n",
       "      <td>35</td>\n",
       "      <td>161</td>\n",
       "      <td>196</td>\n",
       "      <td>373</td>\n",
       "      <td>65</td>\n",
       "      <td>37</td>\n",
       "      <td>157</td>\n",
       "      <td>117</td>\n",
       "      <td>906</td>\n",
       "    </tr>\n",
       "    <tr>\n",
       "      <th>3</th>\n",
       "      <td>2013-14</td>\n",
       "      <td>23</td>\n",
       "      <td>WAS</td>\n",
       "      <td>NBA</td>\n",
       "      <td>PG</td>\n",
       "      <td>82</td>\n",
       "      <td>82</td>\n",
       "      <td>2980</td>\n",
       "      <td>579</td>\n",
       "      <td>1337</td>\n",
       "      <td>...</td>\n",
       "      <td>.805</td>\n",
       "      <td>38</td>\n",
       "      <td>295</td>\n",
       "      <td>333</td>\n",
       "      <td>721</td>\n",
       "      <td>149</td>\n",
       "      <td>40</td>\n",
       "      <td>295</td>\n",
       "      <td>219</td>\n",
       "      <td>1583</td>\n",
       "    </tr>\n",
       "    <tr>\n",
       "      <th>4</th>\n",
       "      <td>2014-15</td>\n",
       "      <td>24</td>\n",
       "      <td>WAS</td>\n",
       "      <td>NBA</td>\n",
       "      <td>PG</td>\n",
       "      <td>79</td>\n",
       "      <td>79</td>\n",
       "      <td>2837</td>\n",
       "      <td>519</td>\n",
       "      <td>1166</td>\n",
       "      <td>...</td>\n",
       "      <td>.785</td>\n",
       "      <td>36</td>\n",
       "      <td>330</td>\n",
       "      <td>366</td>\n",
       "      <td>792</td>\n",
       "      <td>138</td>\n",
       "      <td>45</td>\n",
       "      <td>304</td>\n",
       "      <td>180</td>\n",
       "      <td>1387</td>\n",
       "    </tr>\n",
       "  </tbody>\n",
       "</table>\n",
       "<p>5 rows × 30 columns</p>\n",
       "</div>"
      ],
      "text/plain": [
       "    Season Age   Tm   Lg Pos   G  GS    MP   FG   FGA  ...    FT% ORB  DRB  \\\n",
       "0  2010-11  20  WAS  NBA  PG  69  64  2606  398   972  ...   .766  35  282   \n",
       "1  2011-12  21  WAS  NBA  PG  66  66  2386  378   894  ...   .789  48  252   \n",
       "2  2012-13  22  WAS  NBA  PG  49  42  1602  324   735  ...   .804  35  161   \n",
       "3  2013-14  23  WAS  NBA  PG  82  82  2980  579  1337  ...   .805  38  295   \n",
       "4  2014-15  24  WAS  NBA  PG  79  79  2837  519  1166  ...   .785  36  330   \n",
       "\n",
       "   TRB  AST  STL BLK  TOV   PF   PTS  \n",
       "0  317  574  121  35  261  175  1131  \n",
       "1  300  530   95  57  255  137  1076  \n",
       "2  196  373   65  37  157  117   906  \n",
       "3  333  721  149  40  295  219  1583  \n",
       "4  366  792  138  45  304  180  1387  \n",
       "\n",
       "[5 rows x 30 columns]"
      ]
     },
     "execution_count": 11,
     "metadata": {},
     "output_type": "execute_result"
    }
   ],
   "source": [
    "df.head()"
   ]
  },
  {
   "cell_type": "markdown",
   "metadata": {},
   "source": [
    "## Try pandas"
   ]
  },
  {
   "cell_type": "code",
   "execution_count": 12,
   "metadata": {
    "collapsed": true
   },
   "outputs": [],
   "source": [
    "dfs = pd.read_html(html)"
   ]
  },
  {
   "cell_type": "code",
   "execution_count": 13,
   "metadata": {
    "collapsed": false
   },
   "outputs": [
    {
     "data": {
      "text/plain": [
       "46"
      ]
     },
     "execution_count": 13,
     "metadata": {},
     "output_type": "execute_result"
    }
   ],
   "source": [
    "len(dfs)"
   ]
  },
  {
   "cell_type": "code",
   "execution_count": 14,
   "metadata": {
    "collapsed": false
   },
   "outputs": [
    {
     "name": "stdout",
     "output_type": "stream",
     "text": [
      "<class 'pandas.core.frame.DataFrame'>\n",
      "RangeIndex: 8 entries, 0 to 7\n",
      "Data columns (total 30 columns):\n",
      "Season    8 non-null object\n",
      "Age       7 non-null float64\n",
      "Tm        7 non-null object\n",
      "Lg        8 non-null object\n",
      "Pos       7 non-null object\n",
      "G         8 non-null int64\n",
      "GS        8 non-null int64\n",
      "MP        8 non-null float64\n",
      "FG        8 non-null float64\n",
      "FGA       8 non-null float64\n",
      "FG%       8 non-null float64\n",
      "3P        8 non-null float64\n",
      "3PA       8 non-null float64\n",
      "3P.1      8 non-null float64\n",
      "2P        8 non-null float64\n",
      "2PA       8 non-null float64\n",
      "2P.1      8 non-null float64\n",
      "eFG%      8 non-null float64\n",
      "FT        8 non-null float64\n",
      "FTA       8 non-null float64\n",
      "FT%       8 non-null float64\n",
      "ORB       8 non-null float64\n",
      "DRB       8 non-null float64\n",
      "TRB       8 non-null float64\n",
      "AST       8 non-null float64\n",
      "STL       8 non-null float64\n",
      "BLK       8 non-null float64\n",
      "TOV       8 non-null float64\n",
      "PF        8 non-null float64\n",
      "PTS       8 non-null float64\n",
      "dtypes: float64(24), int64(2), object(4)\n",
      "memory usage: 2.0+ KB\n"
     ]
    }
   ],
   "source": [
    "dfs[0].info()"
   ]
  },
  {
   "cell_type": "code",
   "execution_count": 15,
   "metadata": {
    "collapsed": false
   },
   "outputs": [
    {
     "data": {
      "text/html": [
       "<div>\n",
       "<style>\n",
       "    .dataframe thead tr:only-child th {\n",
       "        text-align: right;\n",
       "    }\n",
       "\n",
       "    .dataframe thead th {\n",
       "        text-align: left;\n",
       "    }\n",
       "\n",
       "    .dataframe tbody tr th {\n",
       "        vertical-align: top;\n",
       "    }\n",
       "</style>\n",
       "<table border=\"1\" class=\"dataframe\">\n",
       "  <thead>\n",
       "    <tr style=\"text-align: right;\">\n",
       "      <th></th>\n",
       "      <th>Season</th>\n",
       "      <th>Age</th>\n",
       "      <th>Tm</th>\n",
       "      <th>Lg</th>\n",
       "      <th>Pos</th>\n",
       "      <th>G</th>\n",
       "      <th>GS</th>\n",
       "      <th>MP</th>\n",
       "      <th>FG</th>\n",
       "      <th>FGA</th>\n",
       "      <th>...</th>\n",
       "      <th>FT%</th>\n",
       "      <th>ORB</th>\n",
       "      <th>DRB</th>\n",
       "      <th>TRB</th>\n",
       "      <th>AST</th>\n",
       "      <th>STL</th>\n",
       "      <th>BLK</th>\n",
       "      <th>TOV</th>\n",
       "      <th>PF</th>\n",
       "      <th>PTS</th>\n",
       "    </tr>\n",
       "  </thead>\n",
       "  <tbody>\n",
       "    <tr>\n",
       "      <th>0</th>\n",
       "      <td>2010-11</td>\n",
       "      <td>20.0</td>\n",
       "      <td>WAS</td>\n",
       "      <td>NBA</td>\n",
       "      <td>PG</td>\n",
       "      <td>69</td>\n",
       "      <td>64</td>\n",
       "      <td>2606</td>\n",
       "      <td>398</td>\n",
       "      <td>972</td>\n",
       "      <td>...</td>\n",
       "      <td>0.766</td>\n",
       "      <td>35</td>\n",
       "      <td>282</td>\n",
       "      <td>317</td>\n",
       "      <td>574</td>\n",
       "      <td>121</td>\n",
       "      <td>35</td>\n",
       "      <td>261</td>\n",
       "      <td>175</td>\n",
       "      <td>1131</td>\n",
       "    </tr>\n",
       "    <tr>\n",
       "      <th>1</th>\n",
       "      <td>2011-12</td>\n",
       "      <td>21.0</td>\n",
       "      <td>WAS</td>\n",
       "      <td>NBA</td>\n",
       "      <td>PG</td>\n",
       "      <td>66</td>\n",
       "      <td>66</td>\n",
       "      <td>2386</td>\n",
       "      <td>378</td>\n",
       "      <td>894</td>\n",
       "      <td>...</td>\n",
       "      <td>0.789</td>\n",
       "      <td>48</td>\n",
       "      <td>252</td>\n",
       "      <td>300</td>\n",
       "      <td>530</td>\n",
       "      <td>95</td>\n",
       "      <td>57</td>\n",
       "      <td>255</td>\n",
       "      <td>137</td>\n",
       "      <td>1076</td>\n",
       "    </tr>\n",
       "    <tr>\n",
       "      <th>2</th>\n",
       "      <td>2012-13</td>\n",
       "      <td>22.0</td>\n",
       "      <td>WAS</td>\n",
       "      <td>NBA</td>\n",
       "      <td>PG</td>\n",
       "      <td>49</td>\n",
       "      <td>42</td>\n",
       "      <td>1602</td>\n",
       "      <td>324</td>\n",
       "      <td>735</td>\n",
       "      <td>...</td>\n",
       "      <td>0.804</td>\n",
       "      <td>35</td>\n",
       "      <td>161</td>\n",
       "      <td>196</td>\n",
       "      <td>373</td>\n",
       "      <td>65</td>\n",
       "      <td>37</td>\n",
       "      <td>157</td>\n",
       "      <td>117</td>\n",
       "      <td>906</td>\n",
       "    </tr>\n",
       "    <tr>\n",
       "      <th>3</th>\n",
       "      <td>2013-14</td>\n",
       "      <td>23.0</td>\n",
       "      <td>WAS</td>\n",
       "      <td>NBA</td>\n",
       "      <td>PG</td>\n",
       "      <td>82</td>\n",
       "      <td>82</td>\n",
       "      <td>2980</td>\n",
       "      <td>579</td>\n",
       "      <td>1337</td>\n",
       "      <td>...</td>\n",
       "      <td>0.805</td>\n",
       "      <td>38</td>\n",
       "      <td>295</td>\n",
       "      <td>333</td>\n",
       "      <td>721</td>\n",
       "      <td>149</td>\n",
       "      <td>40</td>\n",
       "      <td>295</td>\n",
       "      <td>219</td>\n",
       "      <td>1583</td>\n",
       "    </tr>\n",
       "    <tr>\n",
       "      <th>4</th>\n",
       "      <td>2014-15</td>\n",
       "      <td>24.0</td>\n",
       "      <td>WAS</td>\n",
       "      <td>NBA</td>\n",
       "      <td>PG</td>\n",
       "      <td>79</td>\n",
       "      <td>79</td>\n",
       "      <td>2837</td>\n",
       "      <td>519</td>\n",
       "      <td>1166</td>\n",
       "      <td>...</td>\n",
       "      <td>0.785</td>\n",
       "      <td>36</td>\n",
       "      <td>330</td>\n",
       "      <td>366</td>\n",
       "      <td>792</td>\n",
       "      <td>138</td>\n",
       "      <td>45</td>\n",
       "      <td>304</td>\n",
       "      <td>180</td>\n",
       "      <td>1387</td>\n",
       "    </tr>\n",
       "  </tbody>\n",
       "</table>\n",
       "<p>5 rows × 30 columns</p>\n",
       "</div>"
      ],
      "text/plain": [
       "    Season   Age   Tm   Lg Pos   G  GS    MP   FG   FGA  ...     FT%  ORB  \\\n",
       "0  2010-11  20.0  WAS  NBA  PG  69  64  2606  398   972  ...   0.766   35   \n",
       "1  2011-12  21.0  WAS  NBA  PG  66  66  2386  378   894  ...   0.789   48   \n",
       "2  2012-13  22.0  WAS  NBA  PG  49  42  1602  324   735  ...   0.804   35   \n",
       "3  2013-14  23.0  WAS  NBA  PG  82  82  2980  579  1337  ...   0.805   38   \n",
       "4  2014-15  24.0  WAS  NBA  PG  79  79  2837  519  1166  ...   0.785   36   \n",
       "\n",
       "   DRB  TRB  AST  STL  BLK  TOV   PF   PTS  \n",
       "0  282  317  574  121   35  261  175  1131  \n",
       "1  252  300  530   95   57  255  137  1076  \n",
       "2  161  196  373   65   37  157  117   906  \n",
       "3  295  333  721  149   40  295  219  1583  \n",
       "4  330  366  792  138   45  304  180  1387  \n",
       "\n",
       "[5 rows x 30 columns]"
      ]
     },
     "execution_count": 15,
     "metadata": {},
     "output_type": "execute_result"
    }
   ],
   "source": [
    "dfs[1].head()"
   ]
  },
  {
   "cell_type": "code",
   "execution_count": 16,
   "metadata": {
    "collapsed": false
   },
   "outputs": [
    {
     "name": "stdout",
     "output_type": "stream",
     "text": [
      "<class 'pandas.core.frame.DataFrame'>\n",
      "RangeIndex: 8 entries, 0 to 7\n",
      "Data columns (total 29 columns):\n",
      "Season    8 non-null object\n",
      "Age       7 non-null float64\n",
      "Tm        7 non-null object\n",
      "Lg        8 non-null object\n",
      "Pos       7 non-null object\n",
      "G         8 non-null int64\n",
      "GS        8 non-null int64\n",
      "MP        8 non-null int64\n",
      "FG        8 non-null float64\n",
      "FGA       8 non-null float64\n",
      "FG%       8 non-null float64\n",
      "3P        8 non-null float64\n",
      "3PA       8 non-null float64\n",
      "3P.1      8 non-null float64\n",
      "2P        8 non-null float64\n",
      "2PA       8 non-null float64\n",
      "2P.1      8 non-null float64\n",
      "FT        8 non-null float64\n",
      "FTA       8 non-null float64\n",
      "FT%       8 non-null float64\n",
      "ORB       8 non-null float64\n",
      "DRB       8 non-null float64\n",
      "TRB       8 non-null float64\n",
      "AST       8 non-null float64\n",
      "STL       8 non-null float64\n",
      "BLK       8 non-null float64\n",
      "TOV       8 non-null float64\n",
      "PF        8 non-null float64\n",
      "PTS       8 non-null float64\n",
      "dtypes: float64(22), int64(3), object(4)\n",
      "memory usage: 1.9+ KB\n"
     ]
    }
   ],
   "source": [
    "dfs[2].info()"
   ]
  },
  {
   "cell_type": "code",
   "execution_count": 17,
   "metadata": {
    "collapsed": false
   },
   "outputs": [
    {
     "data": {
      "text/html": [
       "<div>\n",
       "<style>\n",
       "    .dataframe thead tr:only-child th {\n",
       "        text-align: right;\n",
       "    }\n",
       "\n",
       "    .dataframe thead th {\n",
       "        text-align: left;\n",
       "    }\n",
       "\n",
       "    .dataframe tbody tr th {\n",
       "        vertical-align: top;\n",
       "    }\n",
       "</style>\n",
       "<table border=\"1\" class=\"dataframe\">\n",
       "  <thead>\n",
       "    <tr style=\"text-align: right;\">\n",
       "      <th></th>\n",
       "      <th>Season</th>\n",
       "      <th>Age</th>\n",
       "      <th>Tm</th>\n",
       "      <th>Lg</th>\n",
       "      <th>Pos</th>\n",
       "      <th>G</th>\n",
       "      <th>GS</th>\n",
       "      <th>MP</th>\n",
       "      <th>FG</th>\n",
       "      <th>FGA</th>\n",
       "      <th>...</th>\n",
       "      <th>TRB</th>\n",
       "      <th>AST</th>\n",
       "      <th>STL</th>\n",
       "      <th>BLK</th>\n",
       "      <th>TOV</th>\n",
       "      <th>PF</th>\n",
       "      <th>PTS</th>\n",
       "      <th>Unnamed: 29</th>\n",
       "      <th>ORtg</th>\n",
       "      <th>DRtg</th>\n",
       "    </tr>\n",
       "  </thead>\n",
       "  <tbody>\n",
       "    <tr>\n",
       "      <th>0</th>\n",
       "      <td>2010-11</td>\n",
       "      <td>20.0</td>\n",
       "      <td>WAS</td>\n",
       "      <td>NBA</td>\n",
       "      <td>PG</td>\n",
       "      <td>69</td>\n",
       "      <td>64</td>\n",
       "      <td>2606</td>\n",
       "      <td>7.8</td>\n",
       "      <td>19.1</td>\n",
       "      <td>...</td>\n",
       "      <td>6.2</td>\n",
       "      <td>11.3</td>\n",
       "      <td>2.4</td>\n",
       "      <td>0.7</td>\n",
       "      <td>5.1</td>\n",
       "      <td>3.4</td>\n",
       "      <td>22.2</td>\n",
       "      <td>NaN</td>\n",
       "      <td>100</td>\n",
       "      <td>110</td>\n",
       "    </tr>\n",
       "    <tr>\n",
       "      <th>1</th>\n",
       "      <td>2011-12</td>\n",
       "      <td>21.0</td>\n",
       "      <td>WAS</td>\n",
       "      <td>NBA</td>\n",
       "      <td>PG</td>\n",
       "      <td>66</td>\n",
       "      <td>66</td>\n",
       "      <td>2386</td>\n",
       "      <td>8.2</td>\n",
       "      <td>19.4</td>\n",
       "      <td>...</td>\n",
       "      <td>6.5</td>\n",
       "      <td>11.5</td>\n",
       "      <td>2.1</td>\n",
       "      <td>1.2</td>\n",
       "      <td>5.5</td>\n",
       "      <td>3.0</td>\n",
       "      <td>23.4</td>\n",
       "      <td>NaN</td>\n",
       "      <td>100</td>\n",
       "      <td>107</td>\n",
       "    </tr>\n",
       "    <tr>\n",
       "      <th>2</th>\n",
       "      <td>2012-13</td>\n",
       "      <td>22.0</td>\n",
       "      <td>WAS</td>\n",
       "      <td>NBA</td>\n",
       "      <td>PG</td>\n",
       "      <td>49</td>\n",
       "      <td>42</td>\n",
       "      <td>1602</td>\n",
       "      <td>10.5</td>\n",
       "      <td>23.9</td>\n",
       "      <td>...</td>\n",
       "      <td>6.4</td>\n",
       "      <td>12.1</td>\n",
       "      <td>2.1</td>\n",
       "      <td>1.2</td>\n",
       "      <td>5.1</td>\n",
       "      <td>3.8</td>\n",
       "      <td>29.5</td>\n",
       "      <td>NaN</td>\n",
       "      <td>105</td>\n",
       "      <td>103</td>\n",
       "    </tr>\n",
       "    <tr>\n",
       "      <th>3</th>\n",
       "      <td>2013-14</td>\n",
       "      <td>23.0</td>\n",
       "      <td>WAS</td>\n",
       "      <td>NBA</td>\n",
       "      <td>PG</td>\n",
       "      <td>82</td>\n",
       "      <td>82</td>\n",
       "      <td>2980</td>\n",
       "      <td>10.0</td>\n",
       "      <td>23.1</td>\n",
       "      <td>...</td>\n",
       "      <td>5.8</td>\n",
       "      <td>12.5</td>\n",
       "      <td>2.6</td>\n",
       "      <td>0.7</td>\n",
       "      <td>5.1</td>\n",
       "      <td>3.8</td>\n",
       "      <td>27.4</td>\n",
       "      <td>NaN</td>\n",
       "      <td>106</td>\n",
       "      <td>104</td>\n",
       "    </tr>\n",
       "    <tr>\n",
       "      <th>4</th>\n",
       "      <td>2014-15</td>\n",
       "      <td>24.0</td>\n",
       "      <td>WAS</td>\n",
       "      <td>NBA</td>\n",
       "      <td>PG</td>\n",
       "      <td>79</td>\n",
       "      <td>79</td>\n",
       "      <td>2837</td>\n",
       "      <td>9.4</td>\n",
       "      <td>21.1</td>\n",
       "      <td>...</td>\n",
       "      <td>6.6</td>\n",
       "      <td>14.3</td>\n",
       "      <td>2.5</td>\n",
       "      <td>0.8</td>\n",
       "      <td>5.5</td>\n",
       "      <td>3.3</td>\n",
       "      <td>25.1</td>\n",
       "      <td>NaN</td>\n",
       "      <td>105</td>\n",
       "      <td>102</td>\n",
       "    </tr>\n",
       "  </tbody>\n",
       "</table>\n",
       "<p>5 rows × 32 columns</p>\n",
       "</div>"
      ],
      "text/plain": [
       "    Season   Age   Tm   Lg Pos   G  GS    MP    FG   FGA  ...   TRB   AST  \\\n",
       "0  2010-11  20.0  WAS  NBA  PG  69  64  2606   7.8  19.1  ...   6.2  11.3   \n",
       "1  2011-12  21.0  WAS  NBA  PG  66  66  2386   8.2  19.4  ...   6.5  11.5   \n",
       "2  2012-13  22.0  WAS  NBA  PG  49  42  1602  10.5  23.9  ...   6.4  12.1   \n",
       "3  2013-14  23.0  WAS  NBA  PG  82  82  2980  10.0  23.1  ...   5.8  12.5   \n",
       "4  2014-15  24.0  WAS  NBA  PG  79  79  2837   9.4  21.1  ...   6.6  14.3   \n",
       "\n",
       "   STL  BLK  TOV   PF   PTS  Unnamed: 29  ORtg  DRtg  \n",
       "0  2.4  0.7  5.1  3.4  22.2          NaN   100   110  \n",
       "1  2.1  1.2  5.5  3.0  23.4          NaN   100   107  \n",
       "2  2.1  1.2  5.1  3.8  29.5          NaN   105   103  \n",
       "3  2.6  0.7  5.1  3.8  27.4          NaN   106   104  \n",
       "4  2.5  0.8  5.5  3.3  25.1          NaN   105   102  \n",
       "\n",
       "[5 rows x 32 columns]"
      ]
     },
     "execution_count": 17,
     "metadata": {},
     "output_type": "execute_result"
    }
   ],
   "source": [
    "dfs[3].head()"
   ]
  },
  {
   "cell_type": "code",
   "execution_count": 18,
   "metadata": {
    "collapsed": false
   },
   "outputs": [
    {
     "name": "stdout",
     "output_type": "stream",
     "text": [
      "<class 'pandas.core.frame.DataFrame'>\n",
      "RangeIndex: 8 entries, 0 to 7\n",
      "Data columns (total 29 columns):\n",
      "(Unnamed: 0_level_0, Unnamed: 0_level_1, Season)      8 non-null object\n",
      "(2-Pt Field Goals, % of FGA by Distance, Age)         7 non-null float64\n",
      "(3-Pt Field Goals, FG% by Distance, Tm)               7 non-null object\n",
      "(Unnamed: 3_level_0, Unnamed: 3_level_1, Lg)          8 non-null object\n",
      "(Unnamed: 4_level_0, Dunks, Pos)                      7 non-null object\n",
      "(Unnamed: 5_level_0, Unnamed: 5_level_1, G)           8 non-null int64\n",
      "(Unnamed: 6_level_0, Corner, MP)                      8 non-null int64\n",
      "(Unnamed: 7_level_0, Heaves, FG%)                     8 non-null float64\n",
      "(Unnamed: 8_level_0, Unnamed: 8_level_1, Dist.)       8 non-null float64\n",
      "(Unnamed: 9_level_0, Unnamed: 9_level_1, 2P)          8 non-null float64\n",
      "(Unnamed: 10_level_0, Unnamed: 10_level_1, 0-3)       8 non-null float64\n",
      "(Unnamed: 11_level_0, Unnamed: 11_level_1, 3-10)      8 non-null float64\n",
      "(Unnamed: 12_level_0, Unnamed: 12_level_1, 10-16)     8 non-null float64\n",
      "(Unnamed: 13_level_0, Unnamed: 13_level_1, 16 <3)     8 non-null float64\n",
      "(Unnamed: 14_level_0, Unnamed: 14_level_1, 3P)        8 non-null float64\n",
      "(Unnamed: 15_level_0, Unnamed: 15_level_1, 2P)        8 non-null float64\n",
      "(Unnamed: 16_level_0, Unnamed: 16_level_1, 0-3)       8 non-null float64\n",
      "(Unnamed: 17_level_0, Unnamed: 17_level_1, 3-10)      8 non-null float64\n",
      "(Unnamed: 18_level_0, Unnamed: 18_level_1, 10-16)     8 non-null float64\n",
      "(Unnamed: 19_level_0, Unnamed: 19_level_1, 16 <3)     8 non-null float64\n",
      "(Unnamed: 20_level_0, Unnamed: 20_level_1, 3P)        8 non-null float64\n",
      "(Unnamed: 21_level_0, Unnamed: 21_level_1, %Ast'd)    8 non-null float64\n",
      "(Unnamed: 22_level_0, Unnamed: 22_level_1, %FGA)      8 non-null float64\n",
      "(Unnamed: 23_level_0, Unnamed: 23_level_1, Md.)       8 non-null int64\n",
      "(Unnamed: 24_level_0, Unnamed: 24_level_1, %Ast'd)    8 non-null float64\n",
      "(Unnamed: 25_level_0, Unnamed: 25_level_1, %3PA)      8 non-null float64\n",
      "(Unnamed: 26_level_0, Unnamed: 26_level_1, 3P%)       8 non-null float64\n",
      "(Unnamed: 27_level_0, Unnamed: 27_level_1, Att.)      8 non-null int64\n",
      "(Unnamed: 28_level_0, Unnamed: 28_level_1, Md.)       8 non-null int64\n",
      "dtypes: float64(20), int64(5), object(4)\n",
      "memory usage: 1.9+ KB\n"
     ]
    }
   ],
   "source": [
    "dfs[5].info()"
   ]
  },
  {
   "cell_type": "code",
   "execution_count": 19,
   "metadata": {
    "collapsed": false
   },
   "outputs": [
    {
     "data": {
      "text/html": [
       "<div>\n",
       "<style>\n",
       "    .dataframe thead tr:only-child th {\n",
       "        text-align: right;\n",
       "    }\n",
       "\n",
       "    .dataframe thead th {\n",
       "        text-align: left;\n",
       "    }\n",
       "\n",
       "    .dataframe tbody tr th {\n",
       "        vertical-align: top;\n",
       "    }\n",
       "</style>\n",
       "<table border=\"1\" class=\"dataframe\">\n",
       "  <thead>\n",
       "    <tr>\n",
       "      <th></th>\n",
       "      <th>Unnamed: 0_level_0</th>\n",
       "      <th>2-Pt Field Goals</th>\n",
       "      <th>3-Pt Field Goals</th>\n",
       "      <th>Unnamed: 3_level_0</th>\n",
       "      <th>Unnamed: 4_level_0</th>\n",
       "      <th>Unnamed: 5_level_0</th>\n",
       "      <th>Unnamed: 6_level_0</th>\n",
       "      <th>Unnamed: 7_level_0</th>\n",
       "      <th>Unnamed: 8_level_0</th>\n",
       "      <th>Unnamed: 9_level_0</th>\n",
       "      <th>...</th>\n",
       "      <th>Unnamed: 19_level_0</th>\n",
       "      <th>Unnamed: 20_level_0</th>\n",
       "      <th>Unnamed: 21_level_0</th>\n",
       "      <th>Unnamed: 22_level_0</th>\n",
       "      <th>Unnamed: 23_level_0</th>\n",
       "      <th>Unnamed: 24_level_0</th>\n",
       "      <th>Unnamed: 25_level_0</th>\n",
       "      <th>Unnamed: 26_level_0</th>\n",
       "      <th>Unnamed: 27_level_0</th>\n",
       "      <th>Unnamed: 28_level_0</th>\n",
       "    </tr>\n",
       "    <tr>\n",
       "      <th></th>\n",
       "      <th>Unnamed: 0_level_1</th>\n",
       "      <th>% of FGA by Distance</th>\n",
       "      <th>FG% by Distance</th>\n",
       "      <th>Unnamed: 3_level_1</th>\n",
       "      <th>Dunks</th>\n",
       "      <th>Unnamed: 5_level_1</th>\n",
       "      <th>Corner</th>\n",
       "      <th>Heaves</th>\n",
       "      <th>Unnamed: 8_level_1</th>\n",
       "      <th>Unnamed: 9_level_1</th>\n",
       "      <th>...</th>\n",
       "      <th>Unnamed: 19_level_1</th>\n",
       "      <th>Unnamed: 20_level_1</th>\n",
       "      <th>Unnamed: 21_level_1</th>\n",
       "      <th>Unnamed: 22_level_1</th>\n",
       "      <th>Unnamed: 23_level_1</th>\n",
       "      <th>Unnamed: 24_level_1</th>\n",
       "      <th>Unnamed: 25_level_1</th>\n",
       "      <th>Unnamed: 26_level_1</th>\n",
       "      <th>Unnamed: 27_level_1</th>\n",
       "      <th>Unnamed: 28_level_1</th>\n",
       "    </tr>\n",
       "    <tr>\n",
       "      <th></th>\n",
       "      <th>Season</th>\n",
       "      <th>Age</th>\n",
       "      <th>Tm</th>\n",
       "      <th>Lg</th>\n",
       "      <th>Pos</th>\n",
       "      <th>G</th>\n",
       "      <th>MP</th>\n",
       "      <th>FG%</th>\n",
       "      <th>Dist.</th>\n",
       "      <th>2P</th>\n",
       "      <th>...</th>\n",
       "      <th>16 &lt;3</th>\n",
       "      <th>3P</th>\n",
       "      <th>%Ast'd</th>\n",
       "      <th>%FGA</th>\n",
       "      <th>Md.</th>\n",
       "      <th>%Ast'd</th>\n",
       "      <th>%3PA</th>\n",
       "      <th>3P%</th>\n",
       "      <th>Att.</th>\n",
       "      <th>Md.</th>\n",
       "    </tr>\n",
       "  </thead>\n",
       "  <tbody>\n",
       "    <tr>\n",
       "      <th>0</th>\n",
       "      <td>2010-11</td>\n",
       "      <td>20.0</td>\n",
       "      <td>WAS</td>\n",
       "      <td>NBA</td>\n",
       "      <td>PG</td>\n",
       "      <td>69</td>\n",
       "      <td>2606</td>\n",
       "      <td>0.409</td>\n",
       "      <td>11.0</td>\n",
       "      <td>0.882</td>\n",
       "      <td>...</td>\n",
       "      <td>0.316</td>\n",
       "      <td>0.296</td>\n",
       "      <td>0.223</td>\n",
       "      <td>0.028</td>\n",
       "      <td>26</td>\n",
       "      <td>0.765</td>\n",
       "      <td>0.113</td>\n",
       "      <td>0.385</td>\n",
       "      <td>6</td>\n",
       "      <td>0</td>\n",
       "    </tr>\n",
       "    <tr>\n",
       "      <th>1</th>\n",
       "      <td>2011-12</td>\n",
       "      <td>21.0</td>\n",
       "      <td>WAS</td>\n",
       "      <td>NBA</td>\n",
       "      <td>PG</td>\n",
       "      <td>66</td>\n",
       "      <td>2386</td>\n",
       "      <td>0.423</td>\n",
       "      <td>9.6</td>\n",
       "      <td>0.953</td>\n",
       "      <td>...</td>\n",
       "      <td>0.302</td>\n",
       "      <td>0.071</td>\n",
       "      <td>0.213</td>\n",
       "      <td>0.055</td>\n",
       "      <td>47</td>\n",
       "      <td>1.000</td>\n",
       "      <td>0.357</td>\n",
       "      <td>0.067</td>\n",
       "      <td>2</td>\n",
       "      <td>0</td>\n",
       "    </tr>\n",
       "    <tr>\n",
       "      <th>2</th>\n",
       "      <td>2012-13</td>\n",
       "      <td>22.0</td>\n",
       "      <td>WAS</td>\n",
       "      <td>NBA</td>\n",
       "      <td>PG</td>\n",
       "      <td>49</td>\n",
       "      <td>1602</td>\n",
       "      <td>0.441</td>\n",
       "      <td>11.3</td>\n",
       "      <td>0.939</td>\n",
       "      <td>...</td>\n",
       "      <td>0.372</td>\n",
       "      <td>0.267</td>\n",
       "      <td>0.250</td>\n",
       "      <td>0.024</td>\n",
       "      <td>17</td>\n",
       "      <td>0.750</td>\n",
       "      <td>0.267</td>\n",
       "      <td>0.500</td>\n",
       "      <td>3</td>\n",
       "      <td>0</td>\n",
       "    </tr>\n",
       "    <tr>\n",
       "      <th>3</th>\n",
       "      <td>2013-14</td>\n",
       "      <td>23.0</td>\n",
       "      <td>WAS</td>\n",
       "      <td>NBA</td>\n",
       "      <td>PG</td>\n",
       "      <td>82</td>\n",
       "      <td>2980</td>\n",
       "      <td>0.433</td>\n",
       "      <td>14.4</td>\n",
       "      <td>0.770</td>\n",
       "      <td>...</td>\n",
       "      <td>0.367</td>\n",
       "      <td>0.351</td>\n",
       "      <td>0.176</td>\n",
       "      <td>0.032</td>\n",
       "      <td>43</td>\n",
       "      <td>0.657</td>\n",
       "      <td>0.133</td>\n",
       "      <td>0.293</td>\n",
       "      <td>1</td>\n",
       "      <td>0</td>\n",
       "    </tr>\n",
       "    <tr>\n",
       "      <th>4</th>\n",
       "      <td>2014-15</td>\n",
       "      <td>24.0</td>\n",
       "      <td>WAS</td>\n",
       "      <td>NBA</td>\n",
       "      <td>PG</td>\n",
       "      <td>79</td>\n",
       "      <td>2837</td>\n",
       "      <td>0.445</td>\n",
       "      <td>13.5</td>\n",
       "      <td>0.814</td>\n",
       "      <td>...</td>\n",
       "      <td>0.395</td>\n",
       "      <td>0.300</td>\n",
       "      <td>0.200</td>\n",
       "      <td>0.032</td>\n",
       "      <td>37</td>\n",
       "      <td>0.646</td>\n",
       "      <td>0.198</td>\n",
       "      <td>0.256</td>\n",
       "      <td>7</td>\n",
       "      <td>0</td>\n",
       "    </tr>\n",
       "  </tbody>\n",
       "</table>\n",
       "<p>5 rows × 29 columns</p>\n",
       "</div>"
      ],
      "text/plain": [
       "  Unnamed: 0_level_0     2-Pt Field Goals 3-Pt Field Goals Unnamed: 3_level_0  \\\n",
       "  Unnamed: 0_level_1 % of FGA by Distance  FG% by Distance Unnamed: 3_level_1   \n",
       "              Season                  Age               Tm                 Lg   \n",
       "0            2010-11                 20.0              WAS                NBA   \n",
       "1            2011-12                 21.0              WAS                NBA   \n",
       "2            2012-13                 22.0              WAS                NBA   \n",
       "3            2013-14                 23.0              WAS                NBA   \n",
       "4            2014-15                 24.0              WAS                NBA   \n",
       "\n",
       "  Unnamed: 4_level_0 Unnamed: 5_level_0 Unnamed: 6_level_0 Unnamed: 7_level_0  \\\n",
       "               Dunks Unnamed: 5_level_1             Corner             Heaves   \n",
       "                 Pos                  G                 MP                FG%   \n",
       "0                 PG                 69               2606              0.409   \n",
       "1                 PG                 66               2386              0.423   \n",
       "2                 PG                 49               1602              0.441   \n",
       "3                 PG                 82               2980              0.433   \n",
       "4                 PG                 79               2837              0.445   \n",
       "\n",
       "  Unnamed: 8_level_0 Unnamed: 9_level_0         ...          \\\n",
       "  Unnamed: 8_level_1 Unnamed: 9_level_1         ...           \n",
       "               Dist.                 2P         ...           \n",
       "0               11.0              0.882         ...           \n",
       "1                9.6              0.953         ...           \n",
       "2               11.3              0.939         ...           \n",
       "3               14.4              0.770         ...           \n",
       "4               13.5              0.814         ...           \n",
       "\n",
       "  Unnamed: 19_level_0 Unnamed: 20_level_0 Unnamed: 21_level_0  \\\n",
       "  Unnamed: 19_level_1 Unnamed: 20_level_1 Unnamed: 21_level_1   \n",
       "                16 <3                  3P              %Ast'd   \n",
       "0               0.316               0.296               0.223   \n",
       "1               0.302               0.071               0.213   \n",
       "2               0.372               0.267               0.250   \n",
       "3               0.367               0.351               0.176   \n",
       "4               0.395               0.300               0.200   \n",
       "\n",
       "  Unnamed: 22_level_0 Unnamed: 23_level_0 Unnamed: 24_level_0  \\\n",
       "  Unnamed: 22_level_1 Unnamed: 23_level_1 Unnamed: 24_level_1   \n",
       "                 %FGA                 Md.              %Ast'd   \n",
       "0               0.028                  26               0.765   \n",
       "1               0.055                  47               1.000   \n",
       "2               0.024                  17               0.750   \n",
       "3               0.032                  43               0.657   \n",
       "4               0.032                  37               0.646   \n",
       "\n",
       "  Unnamed: 25_level_0 Unnamed: 26_level_0 Unnamed: 27_level_0  \\\n",
       "  Unnamed: 25_level_1 Unnamed: 26_level_1 Unnamed: 27_level_1   \n",
       "                 %3PA                 3P%                Att.   \n",
       "0               0.113               0.385                   6   \n",
       "1               0.357               0.067                   2   \n",
       "2               0.267               0.500                   3   \n",
       "3               0.133               0.293                   1   \n",
       "4               0.198               0.256                   7   \n",
       "\n",
       "  Unnamed: 28_level_0  \n",
       "  Unnamed: 28_level_1  \n",
       "                  Md.  \n",
       "0                   0  \n",
       "1                   0  \n",
       "2                   0  \n",
       "3                   0  \n",
       "4                   0  \n",
       "\n",
       "[5 rows x 29 columns]"
      ]
     },
     "execution_count": 19,
     "metadata": {},
     "output_type": "execute_result"
    }
   ],
   "source": [
    "dfs[5].head()"
   ]
  },
  {
   "cell_type": "code",
   "execution_count": 20,
   "metadata": {
    "collapsed": false
   },
   "outputs": [
    {
     "data": {
      "text/html": [
       "<div>\n",
       "<style>\n",
       "    .dataframe thead tr:only-child th {\n",
       "        text-align: right;\n",
       "    }\n",
       "\n",
       "    .dataframe thead th {\n",
       "        text-align: left;\n",
       "    }\n",
       "\n",
       "    .dataframe tbody tr th {\n",
       "        vertical-align: top;\n",
       "    }\n",
       "</style>\n",
       "<table border=\"1\" class=\"dataframe\">\n",
       "  <thead>\n",
       "    <tr>\n",
       "      <th></th>\n",
       "      <th>Unnamed: 0_level_0</th>\n",
       "      <th>Totals</th>\n",
       "      <th>Unnamed: 2_level_0</th>\n",
       "      <th>Unnamed: 3_level_0</th>\n",
       "      <th>Unnamed: 4_level_0</th>\n",
       "      <th>Per Game</th>\n",
       "      <th>Unnamed: 6_level_0</th>\n",
       "      <th>Unnamed: 7_level_0</th>\n",
       "      <th>Unnamed: 8_level_0</th>\n",
       "      <th>Unnamed: 9_level_0</th>\n",
       "      <th>...</th>\n",
       "      <th>Unnamed: 16_level_0</th>\n",
       "      <th>Unnamed: 17_level_0</th>\n",
       "      <th>Unnamed: 18_level_0</th>\n",
       "      <th>Unnamed: 19_level_0</th>\n",
       "      <th>Unnamed: 20_level_0</th>\n",
       "      <th>Unnamed: 21_level_0</th>\n",
       "      <th>Unnamed: 22_level_0</th>\n",
       "      <th>Unnamed: 23_level_0</th>\n",
       "      <th>Unnamed: 24_level_0</th>\n",
       "      <th>Unnamed: 25_level_0</th>\n",
       "    </tr>\n",
       "    <tr>\n",
       "      <th></th>\n",
       "      <th>Season</th>\n",
       "      <th>Age</th>\n",
       "      <th>College</th>\n",
       "      <th>G</th>\n",
       "      <th>MP</th>\n",
       "      <th>FG</th>\n",
       "      <th>FGA</th>\n",
       "      <th>3P</th>\n",
       "      <th>3PA</th>\n",
       "      <th>FT</th>\n",
       "      <th>...</th>\n",
       "      <th>TOV</th>\n",
       "      <th>PF</th>\n",
       "      <th>PTS</th>\n",
       "      <th>FG%</th>\n",
       "      <th>3P</th>\n",
       "      <th>FT%</th>\n",
       "      <th>MP</th>\n",
       "      <th>PTS</th>\n",
       "      <th>TRB</th>\n",
       "      <th>AST</th>\n",
       "    </tr>\n",
       "  </thead>\n",
       "  <tbody>\n",
       "    <tr>\n",
       "      <th>0</th>\n",
       "      <td>2009-10</td>\n",
       "      <td>19.0</td>\n",
       "      <td>KENTUCKY</td>\n",
       "      <td>37</td>\n",
       "      <td>1288</td>\n",
       "      <td>202</td>\n",
       "      <td>438</td>\n",
       "      <td>37</td>\n",
       "      <td>114</td>\n",
       "      <td>175</td>\n",
       "      <td>...</td>\n",
       "      <td>149</td>\n",
       "      <td>72</td>\n",
       "      <td>616</td>\n",
       "      <td>0.461</td>\n",
       "      <td>0.325</td>\n",
       "      <td>0.754</td>\n",
       "      <td>34.8</td>\n",
       "      <td>16.6</td>\n",
       "      <td>4.3</td>\n",
       "      <td>6.5</td>\n",
       "    </tr>\n",
       "    <tr>\n",
       "      <th>1</th>\n",
       "      <td>Career</td>\n",
       "      <td>NaN</td>\n",
       "      <td>NaN</td>\n",
       "      <td>37</td>\n",
       "      <td>1288</td>\n",
       "      <td>202</td>\n",
       "      <td>438</td>\n",
       "      <td>37</td>\n",
       "      <td>114</td>\n",
       "      <td>175</td>\n",
       "      <td>...</td>\n",
       "      <td>149</td>\n",
       "      <td>72</td>\n",
       "      <td>616</td>\n",
       "      <td>0.461</td>\n",
       "      <td>0.325</td>\n",
       "      <td>0.754</td>\n",
       "      <td>34.8</td>\n",
       "      <td>16.6</td>\n",
       "      <td>4.3</td>\n",
       "      <td>6.5</td>\n",
       "    </tr>\n",
       "  </tbody>\n",
       "</table>\n",
       "<p>2 rows × 26 columns</p>\n",
       "</div>"
      ],
      "text/plain": [
       "  Unnamed: 0_level_0 Totals Unnamed: 2_level_0 Unnamed: 3_level_0  \\\n",
       "              Season    Age            College                  G   \n",
       "0            2009-10   19.0           KENTUCKY                 37   \n",
       "1             Career    NaN                NaN                 37   \n",
       "\n",
       "  Unnamed: 4_level_0 Per Game Unnamed: 6_level_0 Unnamed: 7_level_0  \\\n",
       "                  MP       FG                FGA                 3P   \n",
       "0               1288      202                438                 37   \n",
       "1               1288      202                438                 37   \n",
       "\n",
       "  Unnamed: 8_level_0 Unnamed: 9_level_0         ...          \\\n",
       "                 3PA                 FT         ...           \n",
       "0                114                175         ...           \n",
       "1                114                175         ...           \n",
       "\n",
       "  Unnamed: 16_level_0 Unnamed: 17_level_0 Unnamed: 18_level_0  \\\n",
       "                  TOV                  PF                 PTS   \n",
       "0                 149                  72                 616   \n",
       "1                 149                  72                 616   \n",
       "\n",
       "  Unnamed: 19_level_0 Unnamed: 20_level_0 Unnamed: 21_level_0  \\\n",
       "                  FG%                  3P                 FT%   \n",
       "0               0.461               0.325               0.754   \n",
       "1               0.461               0.325               0.754   \n",
       "\n",
       "  Unnamed: 22_level_0 Unnamed: 23_level_0 Unnamed: 24_level_0  \\\n",
       "                   MP                 PTS                 TRB   \n",
       "0                34.8                16.6                 4.3   \n",
       "1                34.8                16.6                 4.3   \n",
       "\n",
       "  Unnamed: 25_level_0  \n",
       "                  AST  \n",
       "0                 6.5  \n",
       "1                 6.5  \n",
       "\n",
       "[2 rows x 26 columns]"
      ]
     },
     "execution_count": 20,
     "metadata": {},
     "output_type": "execute_result"
    }
   ],
   "source": [
    "dfs[17].head() # college stats"
   ]
  },
  {
   "cell_type": "code",
   "execution_count": 23,
   "metadata": {
    "collapsed": false
   },
   "outputs": [
    {
     "data": {
      "text/html": [
       "<div>\n",
       "<style>\n",
       "    .dataframe thead tr:only-child th {\n",
       "        text-align: right;\n",
       "    }\n",
       "\n",
       "    .dataframe thead th {\n",
       "        text-align: left;\n",
       "    }\n",
       "\n",
       "    .dataframe tbody tr th {\n",
       "        vertical-align: top;\n",
       "    }\n",
       "</style>\n",
       "<table border=\"1\" class=\"dataframe\">\n",
       "  <thead>\n",
       "    <tr style=\"text-align: right;\">\n",
       "      <th></th>\n",
       "      <th>0</th>\n",
       "    </tr>\n",
       "  </thead>\n",
       "  <tbody>\n",
       "    <tr>\n",
       "      <th>0</th>\n",
       "      <td>Mar 17, 2013 Player of the Week</td>\n",
       "    </tr>\n",
       "    <tr>\n",
       "      <th>1</th>\n",
       "      <td>Nov 25, 2013 Player of the Week</td>\n",
       "    </tr>\n",
       "    <tr>\n",
       "      <th>2</th>\n",
       "      <td>Mar 3, 2014 Player of the Week</td>\n",
       "    </tr>\n",
       "    <tr>\n",
       "      <th>3</th>\n",
       "      <td>Dec 15, 2014 Player of the Week</td>\n",
       "    </tr>\n",
       "    <tr>\n",
       "      <th>4</th>\n",
       "      <td>Jan 18, 2016 Player of the Week</td>\n",
       "    </tr>\n",
       "    <tr>\n",
       "      <th>5</th>\n",
       "      <td>Jan 2, 2017 Player of the Week</td>\n",
       "    </tr>\n",
       "    <tr>\n",
       "      <th>6</th>\n",
       "      <td>Mar 13, 2017 Player of the Week</td>\n",
       "    </tr>\n",
       "  </tbody>\n",
       "</table>\n",
       "</div>"
      ],
      "text/plain": [
       "                                 0\n",
       "0  Mar 17, 2013 Player of the Week\n",
       "1  Nov 25, 2013 Player of the Week\n",
       "2   Mar 3, 2014 Player of the Week\n",
       "3  Dec 15, 2014 Player of the Week\n",
       "4  Jan 18, 2016 Player of the Week\n",
       "5   Jan 2, 2017 Player of the Week\n",
       "6  Mar 13, 2017 Player of the Week"
      ]
     },
     "execution_count": 23,
     "metadata": {},
     "output_type": "execute_result"
    }
   ],
   "source": [
    "dfs[19]"
   ]
  },
  {
   "cell_type": "code",
   "execution_count": 62,
   "metadata": {
    "collapsed": false
   },
   "outputs": [
    {
     "data": {
      "text/html": [
       "<div>\n",
       "<style>\n",
       "    .dataframe thead tr:only-child th {\n",
       "        text-align: right;\n",
       "    }\n",
       "\n",
       "    .dataframe thead th {\n",
       "        text-align: left;\n",
       "    }\n",
       "\n",
       "    .dataframe tbody tr th {\n",
       "        vertical-align: top;\n",
       "    }\n",
       "</style>\n",
       "<table border=\"1\" class=\"dataframe\">\n",
       "  <thead>\n",
       "    <tr style=\"text-align: right;\">\n",
       "      <th></th>\n",
       "      <th>0</th>\n",
       "      <th>1</th>\n",
       "      <th>2</th>\n",
       "    </tr>\n",
       "  </thead>\n",
       "  <tbody>\n",
       "    <tr>\n",
       "      <th>0</th>\n",
       "      <td>Team</td>\n",
       "      <td>2017-18</td>\n",
       "      <td>2018-19</td>\n",
       "    </tr>\n",
       "    <tr>\n",
       "      <th>1</th>\n",
       "      <td>Washington Wizards</td>\n",
       "      <td>$18,063,850</td>\n",
       "      <td>$19,169,800</td>\n",
       "    </tr>\n",
       "  </tbody>\n",
       "</table>\n",
       "</div>"
      ],
      "text/plain": [
       "                    0            1            2\n",
       "0                Team      2017-18      2018-19\n",
       "1  Washington Wizards  $18,063,850  $19,169,800"
      ]
     },
     "execution_count": 62,
     "metadata": {},
     "output_type": "execute_result"
    }
   ],
   "source": [
    "dfs[-1] # contract"
   ]
  },
  {
   "cell_type": "markdown",
   "metadata": {},
   "source": [
    "# Scraping college link"
   ]
  },
  {
   "cell_type": "code",
   "execution_count": 24,
   "metadata": {
    "collapsed": false
   },
   "outputs": [],
   "source": [
    "college_link = d(\"#inner_nav > ul > li:nth-child(8) > div > ul:nth-child(4) > li > a\")[0]"
   ]
  },
  {
   "cell_type": "code",
   "execution_count": 25,
   "metadata": {
    "collapsed": false
   },
   "outputs": [
    {
     "data": {
      "text/plain": [
       "'http://www.sports-reference.com/cbb/players/john-wall-1.html'"
      ]
     },
     "execution_count": 25,
     "metadata": {},
     "output_type": "execute_result"
    }
   ],
   "source": [
    "college_link.attrib[\"href\"]"
   ]
  },
  {
   "cell_type": "code",
   "execution_count": 26,
   "metadata": {
    "collapsed": false
   },
   "outputs": [
    {
     "data": {
      "text/plain": [
       "'College Basketball at Sports-Reference.com'"
      ]
     },
     "execution_count": 26,
     "metadata": {},
     "output_type": "execute_result"
    }
   ],
   "source": [
    "college_link.text_content()"
   ]
  },
  {
   "cell_type": "markdown",
   "metadata": {},
   "source": [
    "### Below is a better way as it doesn't rely on extracting the nth child of lists since that can change depending on the player page\n",
    "\n",
    "### Instead we rely on extracting all links in the player's inpage nav menu and extracting the one associated to their college basketball stat page"
   ]
  },
  {
   "cell_type": "code",
   "execution_count": 27,
   "metadata": {
    "collapsed": true
   },
   "outputs": [],
   "source": [
    "inner_nav_links = d(\"#inner_nav > ul > li.condensed.hasmore > div > ul > li > a\")"
   ]
  },
  {
   "cell_type": "code",
   "execution_count": 28,
   "metadata": {
    "collapsed": false
   },
   "outputs": [
    {
     "data": {
      "text/plain": [
       "[<a>, <a>, <a>, <a>, <a>, <a>, <a>, <a>, <a>, <a>, <a>, <a>, <a>, <a>, <a>, <a>, <a>, <a>, <a>, <a>, <a>, <a>, <a>, <a>, <a>, <a>, <a>, <a>, <a>, <a>, <a>, <a>, <a>, <a>, <a>, <a>, <a>, <a>, <a>, <a>, <a>, <a>, <a>, <a>]"
      ]
     },
     "execution_count": 28,
     "metadata": {},
     "output_type": "execute_result"
    }
   ],
   "source": [
    "inner_nav_links"
   ]
  },
  {
   "cell_type": "code",
   "execution_count": 29,
   "metadata": {
    "collapsed": false
   },
   "outputs": [
    {
     "data": {
      "text/plain": [
       "['2010-11',\n",
       " '2011-12',\n",
       " '2012-13',\n",
       " '2013-14',\n",
       " '2014-15',\n",
       " '2015-16',\n",
       " '2016-17',\n",
       " '2010-11',\n",
       " '2011-12',\n",
       " '2012-13',\n",
       " '2013-14',\n",
       " '2014-15',\n",
       " '2015-16',\n",
       " '2016-17',\n",
       " 'Career',\n",
       " '2010-11',\n",
       " '2011-12',\n",
       " '2012-13',\n",
       " '2013-14',\n",
       " '2014-15',\n",
       " '2015-16',\n",
       " '2016-17',\n",
       " '2010-11',\n",
       " '2011-12',\n",
       " '2012-13',\n",
       " '2013-14',\n",
       " '2014-15',\n",
       " '2015-16',\n",
       " '2016-17',\n",
       " '2010-11',\n",
       " '2011-12',\n",
       " '2012-13',\n",
       " '2013-14',\n",
       " '2014-15',\n",
       " '2015-16',\n",
       " '2016-17',\n",
       " 'Game Finder',\n",
       " 'Streak Finder',\n",
       " 'Shot Finder',\n",
       " 'Event Finder',\n",
       " 'Lineup Finder',\n",
       " 'Plus/Minus Finder',\n",
       " 'Compare John Wall',\n",
       " 'College Basketball at Sports-Reference.com']"
      ]
     },
     "execution_count": 29,
     "metadata": {},
     "output_type": "execute_result"
    }
   ],
   "source": [
    "[i.text_content() for i in inner_nav_links]"
   ]
  },
  {
   "cell_type": "code",
   "execution_count": 30,
   "metadata": {
    "collapsed": true
   },
   "outputs": [],
   "source": [
    "list_text = [i.text_content() for i in inner_nav_links]"
   ]
  },
  {
   "cell_type": "code",
   "execution_count": 31,
   "metadata": {
    "collapsed": false
   },
   "outputs": [],
   "source": [
    "# get the index of the sublist that contains the substring about college stats\n",
    "college_text = \"College Basketball at Sports-Reference.com\"\n",
    "idx = [i for i, s in enumerate(list_text) if college_text in s]"
   ]
  },
  {
   "cell_type": "code",
   "execution_count": 32,
   "metadata": {
    "collapsed": false
   },
   "outputs": [
    {
     "data": {
      "text/plain": [
       "[43]"
      ]
     },
     "execution_count": 32,
     "metadata": {},
     "output_type": "execute_result"
    }
   ],
   "source": [
    "idx"
   ]
  },
  {
   "cell_type": "code",
   "execution_count": 33,
   "metadata": {
    "collapsed": false
   },
   "outputs": [],
   "source": [
    "college_li = inner_nav_links[idx[0]]"
   ]
  },
  {
   "cell_type": "code",
   "execution_count": 34,
   "metadata": {
    "collapsed": false
   },
   "outputs": [
    {
     "data": {
      "text/plain": [
       "'College Basketball at Sports-Reference.com'"
      ]
     },
     "execution_count": 34,
     "metadata": {},
     "output_type": "execute_result"
    }
   ],
   "source": [
    "college_li.text_content()"
   ]
  },
  {
   "cell_type": "code",
   "execution_count": 35,
   "metadata": {
    "collapsed": false
   },
   "outputs": [
    {
     "data": {
      "text/plain": [
       "'http://www.sports-reference.com/cbb/players/john-wall-1.html'"
      ]
     },
     "execution_count": 35,
     "metadata": {},
     "output_type": "execute_result"
    }
   ],
   "source": [
    "college_li.attrib[\"href\"]"
   ]
  },
  {
   "cell_type": "markdown",
   "metadata": {},
   "source": [
    "# Try scraping links to European stats"
   ]
  },
  {
   "cell_type": "code",
   "execution_count": 36,
   "metadata": {
    "collapsed": true
   },
   "outputs": [],
   "source": [
    "jennings_url = \"http://www.basketball-reference.com/players/j/jennibr01.html\""
   ]
  },
  {
   "cell_type": "code",
   "execution_count": 37,
   "metadata": {
    "collapsed": false
   },
   "outputs": [],
   "source": [
    "response2= requests.get(jennings_url)\n",
    "html2 = response2.text\n",
    "html2 = html2.replace('<!--', '').replace('-->', '')"
   ]
  },
  {
   "cell_type": "code",
   "execution_count": 38,
   "metadata": {
    "collapsed": true
   },
   "outputs": [],
   "source": [
    "d2 = pq(html2)"
   ]
  },
  {
   "cell_type": "code",
   "execution_count": 39,
   "metadata": {
    "collapsed": true
   },
   "outputs": [],
   "source": [
    "inner_nav_links2 = d2(\"#inner_nav > ul > li.condensed.hasmore > div > ul > li > a\")"
   ]
  },
  {
   "cell_type": "code",
   "execution_count": 40,
   "metadata": {
    "collapsed": true
   },
   "outputs": [],
   "source": [
    "euro_text = \"Euro Stats at Basketball-Reference.com\""
   ]
  },
  {
   "cell_type": "code",
   "execution_count": 41,
   "metadata": {
    "collapsed": false
   },
   "outputs": [],
   "source": [
    "list_text2 = [i.text_content() for i in inner_nav_links2]\n",
    "idx2 = [i for i, s in enumerate(list_text2) if euro_text in s][0]"
   ]
  },
  {
   "cell_type": "code",
   "execution_count": 42,
   "metadata": {
    "collapsed": false
   },
   "outputs": [
    {
     "data": {
      "text/plain": [
       "48"
      ]
     },
     "execution_count": 42,
     "metadata": {},
     "output_type": "execute_result"
    }
   ],
   "source": [
    "idx2"
   ]
  },
  {
   "cell_type": "code",
   "execution_count": 43,
   "metadata": {
    "collapsed": false
   },
   "outputs": [
    {
     "data": {
      "text/plain": [
       "[<a>, <a>, <a>, <a>, <a>, <a>, <a>, <a>, <a>, <a>, <a>, <a>, <a>, <a>, <a>, <a>, <a>, <a>, <a>, <a>, <a>, <a>, <a>, <a>, <a>, <a>, <a>, <a>, <a>, <a>, <a>, <a>, <a>, <a>, <a>, <a>, <a>, <a>, <a>, <a>, <a>, <a>, <a>, <a>, <a>, <a>, <a>, <a>, <a>, <a>]"
      ]
     },
     "execution_count": 43,
     "metadata": {},
     "output_type": "execute_result"
    }
   ],
   "source": [
    "d2(\"#inner_nav > ul > li.condensed.hasmore > div > ul > li > a\")"
   ]
  },
  {
   "cell_type": "code",
   "execution_count": 44,
   "metadata": {
    "collapsed": false
   },
   "outputs": [
    {
     "data": {
      "text/plain": [
       "'http://www.basketball-reference.com/euro/players/brandon-jennings-1.html'"
      ]
     },
     "execution_count": 44,
     "metadata": {},
     "output_type": "execute_result"
    }
   ],
   "source": [
    "euro_li = inner_nav_links2[idx2]\n",
    "euro_li.attrib[\"href\"]"
   ]
  },
  {
   "cell_type": "markdown",
   "metadata": {},
   "source": [
    "# Scraping college stats\n",
    "\n",
    "Doesn't seem to work except for the very first per game table.\n",
    "\n",
    "Not sure why, maybe broken html???\n",
    "\n",
    "Also it's nbd since the bref pages contain the players college stats, plus I found how to access them via the season finder tool."
   ]
  },
  {
   "cell_type": "code",
   "execution_count": 45,
   "metadata": {
    "collapsed": true
   },
   "outputs": [],
   "source": [
    "duncan_url = \"http://www.sports-reference.com/cbb/players/tim-duncan-1.html\"\n",
    "response3 = requests.get(duncan_url)\n",
    "# html3 = response3.text#.replace('<--', '').replace('-->', '')\n",
    "html3 = response3.content\n",
    "duncan_pq = pq(html3)"
   ]
  },
  {
   "cell_type": "code",
   "execution_count": 46,
   "metadata": {
    "collapsed": true
   },
   "outputs": [],
   "source": [
    "def get_table(pq_obj, table_id_selector):\n",
    "    rows = pq_obj(\"{} > tbody > tr\".format(table_id_selector))\n",
    "    headers = pq_obj(\"{} > thead > tr > th\".format(table_id_selector))\n",
    "    # data from each row\n",
    "    data = [[td.text_content() for td in row.iterchildren()] for row in rows]\n",
    "    cols = [i.text_content() for i in headers]\n",
    "    df = pd.DataFrame(data=data, columns=cols)\n",
    "    return df"
   ]
  },
  {
   "cell_type": "code",
   "execution_count": 47,
   "metadata": {
    "collapsed": false
   },
   "outputs": [],
   "source": [
    "duncan_totals = get_table(duncan_pq, \"#players_totals\")"
   ]
  },
  {
   "cell_type": "code",
   "execution_count": 48,
   "metadata": {
    "collapsed": false,
    "scrolled": true
   },
   "outputs": [
    {
     "data": {
      "text/html": [
       "<div>\n",
       "<style>\n",
       "    .dataframe thead tr:only-child th {\n",
       "        text-align: right;\n",
       "    }\n",
       "\n",
       "    .dataframe thead th {\n",
       "        text-align: left;\n",
       "    }\n",
       "\n",
       "    .dataframe tbody tr th {\n",
       "        vertical-align: top;\n",
       "    }\n",
       "</style>\n",
       "<table border=\"1\" class=\"dataframe\">\n",
       "  <thead>\n",
       "    <tr style=\"text-align: right;\">\n",
       "      <th></th>\n",
       "    </tr>\n",
       "  </thead>\n",
       "  <tbody>\n",
       "  </tbody>\n",
       "</table>\n",
       "</div>"
      ],
      "text/plain": [
       "Empty DataFrame\n",
       "Columns: []\n",
       "Index: []"
      ]
     },
     "execution_count": 48,
     "metadata": {},
     "output_type": "execute_result"
    }
   ],
   "source": [
    "duncan_totals"
   ]
  },
  {
   "cell_type": "code",
   "execution_count": 49,
   "metadata": {
    "collapsed": false
   },
   "outputs": [
    {
     "data": {
      "text/plain": [
       "[<table#players_per_game.row_summable.sortable.stats_table>]"
      ]
     },
     "execution_count": 49,
     "metadata": {},
     "output_type": "execute_result"
    }
   ],
   "source": [
    "duncan_pq(\"#players_per_game\")"
   ]
  },
  {
   "cell_type": "code",
   "execution_count": 50,
   "metadata": {
    "collapsed": false
   },
   "outputs": [
    {
     "data": {
      "text/plain": [
       "[<table#players_per_game.row_summable.sortable.stats_table>]"
      ]
     },
     "execution_count": 50,
     "metadata": {},
     "output_type": "execute_result"
    }
   ],
   "source": [
    "duncan_pq(\"table\")"
   ]
  },
  {
   "cell_type": "code",
   "execution_count": 51,
   "metadata": {
    "collapsed": true
   },
   "outputs": [],
   "source": [
    "from bs4 import BeautifulSoup"
   ]
  },
  {
   "cell_type": "code",
   "execution_count": 52,
   "metadata": {
    "collapsed": true
   },
   "outputs": [],
   "source": [
    "soup = BeautifulSoup(html3, \"lxml\")"
   ]
  },
  {
   "cell_type": "code",
   "execution_count": 53,
   "metadata": {
    "collapsed": false
   },
   "outputs": [
    {
     "data": {
      "text/plain": [
       "<tr id=\"players_per_game.1994\"><th class=\"left \" data-stat=\"season\" scope=\"row\"><a href=\"/cbb/seasons/1994.html\">1993-94</a></th><td class=\"left \" data-stat=\"school_name\"><a href=\"/cbb/schools/wake-forest/1994.html\">Wake Forest</a></td><td class=\"left \" data-stat=\"conf_abbr\"><a href=\"/cbb/conferences/acc/1994.html\">ACC</a></td><td class=\"right \" data-stat=\"g\">33</td><td class=\"right \" data-stat=\"mp_per_g\">30.2</td><td class=\"right \" data-stat=\"fg_per_g\">3.6</td><td class=\"right \" data-stat=\"fga_per_g\">6.7</td><td class=\"right \" data-stat=\"fg_pct\">.545</td><td class=\"right \" data-stat=\"fg2_per_g\">3.6</td><td class=\"right \" data-stat=\"fg2a_per_g\">6.6</td><td class=\"right \" data-stat=\"fg2_pct\">.543</td><td class=\"right \" data-stat=\"fg3_per_g\">0.0</td><td class=\"right \" data-stat=\"fg3a_per_g\">0.0</td><td class=\"right \" data-stat=\"fg3_pct\">1.000</td><td class=\"right \" data-stat=\"ft_per_g\">2.5</td><td class=\"right \" data-stat=\"fta_per_g\">3.3</td><td class=\"right \" data-stat=\"ft_pct\">.745</td><td class=\"right \" data-stat=\"trb_per_g\">9.6</td><td class=\"right \" data-stat=\"ast_per_g\">0.9</td><td class=\"right \" data-stat=\"stl_per_g\">0.4</td><td class=\"right \" data-stat=\"blk_per_g\">3.8</td><td class=\"right \" data-stat=\"tov_per_g\">1.2</td><td class=\"right \" data-stat=\"pf_per_g\">2.5</td><td class=\"right \" data-stat=\"pts_per_g\">9.8</td><td class=\"right \" data-stat=\"zzz\"></td><td class=\"left \" data-stat=\"awards\"></td></tr>"
      ]
     },
     "execution_count": 53,
     "metadata": {},
     "output_type": "execute_result"
    }
   ],
   "source": [
    "soup.select(\"#players_per_game > tbody > tr\")[0]"
   ]
  },
  {
   "cell_type": "code",
   "execution_count": 54,
   "metadata": {
    "collapsed": false
   },
   "outputs": [
    {
     "data": {
      "text/plain": [
       "[]"
      ]
     },
     "execution_count": 54,
     "metadata": {},
     "output_type": "execute_result"
    }
   ],
   "source": [
    "soup.select(\"#players_totals\")"
   ]
  },
  {
   "cell_type": "code",
   "execution_count": 55,
   "metadata": {
    "collapsed": false
   },
   "outputs": [],
   "source": [
    "soup2 = BeautifulSoup(html3, \"html5lib\")"
   ]
  },
  {
   "cell_type": "code",
   "execution_count": 56,
   "metadata": {
    "collapsed": false
   },
   "outputs": [
    {
     "data": {
      "text/plain": [
       "<tr id=\"players_per_game.1994\"><th class=\"left \" data-stat=\"season\" scope=\"row\"><a href=\"/cbb/seasons/1994.html\">1993-94</a></th><td class=\"left \" data-stat=\"school_name\"><a href=\"/cbb/schools/wake-forest/1994.html\">Wake Forest</a></td><td class=\"left \" data-stat=\"conf_abbr\"><a href=\"/cbb/conferences/acc/1994.html\">ACC</a></td><td class=\"right \" data-stat=\"g\">33</td><td class=\"right \" data-stat=\"mp_per_g\">30.2</td><td class=\"right \" data-stat=\"fg_per_g\">3.6</td><td class=\"right \" data-stat=\"fga_per_g\">6.7</td><td class=\"right \" data-stat=\"fg_pct\">.545</td><td class=\"right \" data-stat=\"fg2_per_g\">3.6</td><td class=\"right \" data-stat=\"fg2a_per_g\">6.6</td><td class=\"right \" data-stat=\"fg2_pct\">.543</td><td class=\"right \" data-stat=\"fg3_per_g\">0.0</td><td class=\"right \" data-stat=\"fg3a_per_g\">0.0</td><td class=\"right \" data-stat=\"fg3_pct\">1.000</td><td class=\"right \" data-stat=\"ft_per_g\">2.5</td><td class=\"right \" data-stat=\"fta_per_g\">3.3</td><td class=\"right \" data-stat=\"ft_pct\">.745</td><td class=\"right \" data-stat=\"trb_per_g\">9.6</td><td class=\"right \" data-stat=\"ast_per_g\">0.9</td><td class=\"right \" data-stat=\"stl_per_g\">0.4</td><td class=\"right \" data-stat=\"blk_per_g\">3.8</td><td class=\"right \" data-stat=\"tov_per_g\">1.2</td><td class=\"right \" data-stat=\"pf_per_g\">2.5</td><td class=\"right \" data-stat=\"pts_per_g\">9.8</td><td class=\"right \" data-stat=\"zzz\"></td><td class=\"left \" data-stat=\"awards\"></td></tr>"
      ]
     },
     "execution_count": 56,
     "metadata": {},
     "output_type": "execute_result"
    }
   ],
   "source": [
    "soup2.select(\"#players_per_game > tbody > tr\")[0]"
   ]
  },
  {
   "cell_type": "code",
   "execution_count": 57,
   "metadata": {
    "collapsed": false
   },
   "outputs": [
    {
     "data": {
      "text/plain": [
       "[<table class=\"row_summable sortable stats_table\" data-cols-to-freeze=\"1\" id=\"players_per_game\"><caption>Per Game Table</caption>\n",
       "    <colgroup><col></col><col></col><col></col><col></col><col></col><col></col><col></col><col></col><col></col><col></col><col></col><col></col><col></col><col></col><col></col><col></col><col></col><col></col><col></col><col></col><col></col><col></col><col></col><col></col><col></col><col></col></colgroup>\n",
       "    <thead>      \n",
       "       <tr>\n",
       "          <th aria-label=\"Season\" class=\" poptip sort_default_asc center\" data-stat=\"season\" scope=\"col\">Season</th>\n",
       "          <th aria-label=\"* = NCAA Tournament appearance\" class=\" poptip sort_default_asc center\" data-stat=\"school_name\" data-tip=\"* = NCAA Tournament appearance\" scope=\"col\">School</th>\n",
       "          <th aria-label=\"Conference\" class=\" poptip sort_default_asc center\" data-stat=\"conf_abbr\" data-tip=\"Conference\" scope=\"col\">Conf</th>\n",
       "          <th aria-label=\"Games\" class=\" poptip center\" data-stat=\"g\" data-tip=\"Games\" scope=\"col\">G</th>\n",
       "          <th aria-label=\"Minutes Played Per Game\" class=\" poptip center\" data-filter=\"1\" data-name=\"Minutes Played Per Game\" data-stat=\"mp_per_g\" data-tip=\"Minutes Played Per Game\" scope=\"col\">MP</th>\n",
       "          <th aria-label=\"Field Goals Per Game\" class=\" poptip center\" data-stat=\"fg_per_g\" data-tip=\"Field Goals Per Game\" scope=\"col\">FG</th>\n",
       "          <th aria-label=\"Field Goal Attempts Per Game\" class=\" poptip center\" data-stat=\"fga_per_g\" data-tip=\"Field Goal Attempts Per Game\" scope=\"col\">FGA</th>\n",
       "          <th aria-label=\"Field Goal Percentage\" class=\" poptip center\" data-filter=\"1\" data-name=\"Field Goal Percentage\" data-stat=\"fg_pct\" data-tip=\"Field Goal Percentage\" scope=\"col\">FG%</th>\n",
       "          <th aria-label=\"2-Point Field Goals Per Game\" class=\" poptip center\" data-stat=\"fg2_per_g\" data-tip=\"2-Point Field Goals Per Game\" scope=\"col\">2P</th>\n",
       "          <th aria-label=\"2-Point Field Goal Attempts Per Game\" class=\" poptip center\" data-stat=\"fg2a_per_g\" data-tip=\"2-Point Field Goal Attempts Per Game\" scope=\"col\">2PA</th>\n",
       "          <th aria-label=\"2-Point Field Goal Percentage\" class=\" poptip center\" data-filter=\"1\" data-name=\"2-Point Field Goal Percentage\" data-stat=\"fg2_pct\" data-tip=\"2-Point Field Goal Percentage\" scope=\"col\">2P%</th>\n",
       "          <th aria-label=\"3-Point Field Goals Per Game\" class=\" poptip center\" data-stat=\"fg3_per_g\" data-tip=\"3-Point Field Goals Per Game\" scope=\"col\">3P</th>\n",
       "          <th aria-label=\"3-Point Field Goal Attempts Per Game\" class=\" poptip center\" data-stat=\"fg3a_per_g\" data-tip=\"3-Point Field Goal Attempts Per Game\" scope=\"col\">3PA</th>\n",
       "          <th aria-label=\"3-Point Field Goal Percentage\" class=\" poptip center\" data-filter=\"1\" data-name=\"3-Point Field Goal Percentage\" data-stat=\"fg3_pct\" data-tip=\"3-Point Field Goal Percentage\" scope=\"col\">3P%</th>\n",
       "          <th aria-label=\"Free Throws Per Game\" class=\" poptip center\" data-stat=\"ft_per_g\" data-tip=\"Free Throws Per Game\" scope=\"col\">FT</th>\n",
       "          <th aria-label=\"Free Throw Attempts Per Game\" class=\" poptip center\" data-stat=\"fta_per_g\" data-tip=\"Free Throw Attempts Per Game\" scope=\"col\">FTA</th>\n",
       "          <th aria-label=\"Free Throw Percentage\" class=\" poptip center\" data-filter=\"1\" data-name=\"Free Throw Percentage\" data-stat=\"ft_pct\" data-tip=\"Free Throw Percentage\" scope=\"col\">FT%</th>\n",
       "          <th aria-label=\"Total Rebounds Per Game\" class=\" poptip center\" data-filter=\"1\" data-name=\"Total Rebounds Per Game\" data-stat=\"trb_per_g\" data-tip=\"Total Rebounds Per Game\" scope=\"col\">TRB</th>\n",
       "          <th aria-label=\"Assists Per Game\" class=\" poptip center\" data-filter=\"1\" data-name=\"Assists Per Game\" data-stat=\"ast_per_g\" data-tip=\"Assists Per Game\" scope=\"col\">AST</th>\n",
       "          <th aria-label=\"Steals Per Game\" class=\" poptip center\" data-filter=\"1\" data-name=\"Steals Per Game\" data-stat=\"stl_per_g\" data-tip=\"Steals Per Game\" scope=\"col\">STL</th>\n",
       "          <th aria-label=\"Blocks Per Game\" class=\" poptip center\" data-filter=\"1\" data-name=\"Blocks Per Game\" data-stat=\"blk_per_g\" data-tip=\"Blocks Per Game\" scope=\"col\">BLK</th>\n",
       "          <th aria-label=\"Turnovers Per Game\" class=\" poptip center\" data-stat=\"tov_per_g\" data-tip=\"Turnovers Per Game\" scope=\"col\">TOV</th>\n",
       "          <th aria-label=\"Personal Fouls Per Game\" class=\" poptip center\" data-stat=\"pf_per_g\" data-tip=\"Personal Fouls Per Game\" scope=\"col\">PF</th>\n",
       "          <th aria-label=\"Points Per Game\" class=\" poptip center\" data-filter=\"1\" data-name=\"Points Per Game\" data-stat=\"pts_per_g\" data-tip=\"Points Per Game\" scope=\"col\">PTS</th>\n",
       "          <th aria-label=\" \" class=\" poptip center\" data-stat=\"zzz\" scope=\"col\"> </th>\n",
       "          <th aria-label=\"Awards\" class=\" poptip sort_default_asc left\" data-stat=\"awards\" scope=\"col\">Awards</th>\n",
       "       </tr>\n",
       "       \n",
       "    </thead>\n",
       "    <tbody>\n",
       " <tr id=\"players_per_game.1994\"><th class=\"left \" data-stat=\"season\" scope=\"row\"><a href=\"/cbb/seasons/1994.html\">1993-94</a></th><td class=\"left \" data-stat=\"school_name\"><a href=\"/cbb/schools/wake-forest/1994.html\">Wake Forest</a></td><td class=\"left \" data-stat=\"conf_abbr\"><a href=\"/cbb/conferences/acc/1994.html\">ACC</a></td><td class=\"right \" data-stat=\"g\">33</td><td class=\"right \" data-stat=\"mp_per_g\">30.2</td><td class=\"right \" data-stat=\"fg_per_g\">3.6</td><td class=\"right \" data-stat=\"fga_per_g\">6.7</td><td class=\"right \" data-stat=\"fg_pct\">.545</td><td class=\"right \" data-stat=\"fg2_per_g\">3.6</td><td class=\"right \" data-stat=\"fg2a_per_g\">6.6</td><td class=\"right \" data-stat=\"fg2_pct\">.543</td><td class=\"right \" data-stat=\"fg3_per_g\">0.0</td><td class=\"right \" data-stat=\"fg3a_per_g\">0.0</td><td class=\"right \" data-stat=\"fg3_pct\">1.000</td><td class=\"right \" data-stat=\"ft_per_g\">2.5</td><td class=\"right \" data-stat=\"fta_per_g\">3.3</td><td class=\"right \" data-stat=\"ft_pct\">.745</td><td class=\"right \" data-stat=\"trb_per_g\">9.6</td><td class=\"right \" data-stat=\"ast_per_g\">0.9</td><td class=\"right \" data-stat=\"stl_per_g\">0.4</td><td class=\"right \" data-stat=\"blk_per_g\">3.8</td><td class=\"right \" data-stat=\"tov_per_g\">1.2</td><td class=\"right \" data-stat=\"pf_per_g\">2.5</td><td class=\"right \" data-stat=\"pts_per_g\">9.8</td><td class=\"right \" data-stat=\"zzz\"></td><td class=\"left \" data-stat=\"awards\"></td></tr>\n",
       " <tr id=\"players_per_game.1995\"><th class=\"left \" data-stat=\"season\" scope=\"row\"><a href=\"/cbb/seasons/1995.html\">1994-95</a></th><td class=\"left \" data-stat=\"school_name\"><a href=\"/cbb/schools/wake-forest/1995.html\">Wake Forest</a></td><td class=\"left \" data-stat=\"conf_abbr\"><a href=\"/cbb/conferences/acc/1995.html\">ACC</a></td><td class=\"right \" data-stat=\"g\">32</td><td class=\"right \" data-stat=\"mp_per_g\">36.5</td><td class=\"right \" data-stat=\"fg_per_g\">6.5</td><td class=\"right \" data-stat=\"fga_per_g\">11.0</td><td class=\"right \" data-stat=\"fg_pct\">.591</td><td class=\"right \" data-stat=\"fg2_per_g\">6.4</td><td class=\"right \" data-stat=\"fg2a_per_g\">10.8</td><td class=\"right \" data-stat=\"fg2_pct\">.594</td><td class=\"right \" data-stat=\"fg3_per_g\">0.1</td><td class=\"right \" data-stat=\"fg3a_per_g\">0.2</td><td class=\"right \" data-stat=\"fg3_pct\">.429</td><td class=\"right \" data-stat=\"ft_per_g\">3.7</td><td class=\"right \" data-stat=\"fta_per_g\">5.0</td><td class=\"right \" data-stat=\"ft_pct\">.742</td><td class=\"right \" data-stat=\"trb_per_g\">12.5</td><td class=\"right \" data-stat=\"ast_per_g\">2.1</td><td class=\"right \" data-stat=\"stl_per_g\">0.4</td><td class=\"right \" data-stat=\"blk_per_g\">4.2</td><td class=\"right \" data-stat=\"tov_per_g\">2.8</td><td class=\"right \" data-stat=\"pf_per_g\">2.4</td><td class=\"right \" data-stat=\"pts_per_g\">16.8</td><td class=\"right \" data-stat=\"zzz\"></td><td class=\"left \" data-stat=\"awards\"></td></tr>\n",
       " <tr id=\"players_per_game.1996\"><th class=\"left \" data-stat=\"season\" scope=\"row\"><a href=\"/cbb/seasons/1996.html\">1995-96</a></th><td class=\"left \" data-stat=\"school_name\"><a href=\"/cbb/schools/wake-forest/1996.html\">Wake Forest</a></td><td class=\"left \" data-stat=\"conf_abbr\"><a href=\"/cbb/conferences/acc/1996.html\">ACC</a></td><td class=\"right \" data-stat=\"g\">32</td><td class=\"right \" data-stat=\"mp_per_g\">37.2</td><td class=\"right \" data-stat=\"fg_per_g\">7.1</td><td class=\"right \" data-stat=\"fga_per_g\">12.8</td><td class=\"right \" data-stat=\"fg_pct\">.555</td><td class=\"right \" data-stat=\"fg2_per_g\">6.9</td><td class=\"right \" data-stat=\"fg2a_per_g\">12.1</td><td class=\"right \" data-stat=\"fg2_pct\">.570</td><td class=\"right \" data-stat=\"fg3_per_g\">0.2</td><td class=\"right \" data-stat=\"fg3a_per_g\">0.7</td><td class=\"right \" data-stat=\"fg3_pct\">.304</td><td class=\"right \" data-stat=\"ft_per_g\">4.7</td><td class=\"right \" data-stat=\"fta_per_g\">6.8</td><td class=\"right \" data-stat=\"ft_pct\">.687</td><td class=\"right \" data-stat=\"trb_per_g\">12.3</td><td class=\"right \" data-stat=\"ast_per_g\">2.9</td><td class=\"right \" data-stat=\"stl_per_g\">0.7</td><td class=\"right \" data-stat=\"blk_per_g\">3.8</td><td class=\"right \" data-stat=\"tov_per_g\">3.3</td><td class=\"right \" data-stat=\"pf_per_g\">2.3</td><td class=\"right \" data-stat=\"pts_per_g\">19.1</td><td class=\"right \" data-stat=\"zzz\"></td><td class=\"left \" data-stat=\"awards\">ACC POY</td></tr>\n",
       " <tr id=\"players_per_game.1997\"><th class=\"left \" data-stat=\"season\" scope=\"row\"><a href=\"/cbb/seasons/1997.html\">1996-97</a></th><td class=\"left \" data-stat=\"school_name\"><a href=\"/cbb/schools/wake-forest/1997.html\">Wake Forest</a></td><td class=\"left \" data-stat=\"conf_abbr\"><a href=\"/cbb/conferences/acc/1997.html\">ACC</a></td><td class=\"right \" data-stat=\"g\">31</td><td class=\"right \" data-stat=\"mp_per_g\">36.7</td><td class=\"right \" data-stat=\"fg_per_g\">7.5</td><td class=\"right \" data-stat=\"fga_per_g\">12.4</td><td class=\"right \" data-stat=\"fg_pct\">.608</td><td class=\"right \" data-stat=\"fg2_per_g\">7.4</td><td class=\"right \" data-stat=\"fg2a_per_g\">11.7</td><td class=\"right \" data-stat=\"fg2_pct\">.628</td><td class=\"right \" data-stat=\"fg3_per_g\">0.2</td><td class=\"right \" data-stat=\"fg3a_per_g\">0.7</td><td class=\"right \" data-stat=\"fg3_pct\">.273</td><td class=\"right \" data-stat=\"ft_per_g\">5.5</td><td class=\"right \" data-stat=\"fta_per_g\">8.7</td><td class=\"right \" data-stat=\"ft_pct\">.636</td><td class=\"right \" data-stat=\"trb_per_g\">14.7</td><td class=\"right \" data-stat=\"ast_per_g\">3.2</td><td class=\"right \" data-stat=\"stl_per_g\">0.7</td><td class=\"right \" data-stat=\"blk_per_g\">3.3</td><td class=\"right \" data-stat=\"tov_per_g\">3.2</td><td class=\"right \" data-stat=\"pf_per_g\">2.2</td><td class=\"right \" data-stat=\"pts_per_g\">20.8</td><td class=\"right \" data-stat=\"zzz\"></td><td class=\"left \" data-stat=\"awards\">AP POY; NABC POY; TSN POY<span class=\"tooltip\" tip=\"Other awards: USBWA POY; ACC POY; \"><strong> ...</strong></span></td></tr>\n",
       " \n",
       "    </tbody>\n",
       "    <tfoot><tr class=\"thead\"><th class=\"left \" data-stat=\"season\" scope=\"row\">Career</th><td class=\"left \" data-stat=\"school_name\">Wake Forest</td><td class=\"left \" data-stat=\"conf_abbr\"></td><td class=\"right \" data-stat=\"g\">128</td><td class=\"right \" data-stat=\"mp_per_g\">35.1</td><td class=\"right \" data-stat=\"fg_per_g\">6.2</td><td class=\"right \" data-stat=\"fga_per_g\">10.7</td><td class=\"right \" data-stat=\"fg_pct\">.577</td><td class=\"right \" data-stat=\"fg2_per_g\">6.0</td><td class=\"right \" data-stat=\"fg2a_per_g\">10.3</td><td class=\"right \" data-stat=\"fg2_pct\">.588</td><td class=\"right \" data-stat=\"fg3_per_g\">0.1</td><td class=\"right \" data-stat=\"fg3a_per_g\">0.4</td><td class=\"right \" data-stat=\"fg3_pct\">.321</td><td class=\"right \" data-stat=\"ft_per_g\">4.1</td><td class=\"right \" data-stat=\"fta_per_g\">5.9</td><td class=\"right \" data-stat=\"ft_pct\">.689</td><td class=\"right \" data-stat=\"trb_per_g\">12.3</td><td class=\"right \" data-stat=\"ast_per_g\">2.3</td><td class=\"right \" data-stat=\"stl_per_g\">0.5</td><td class=\"right \" data-stat=\"blk_per_g\">3.8</td><td class=\"right \" data-stat=\"tov_per_g\">2.6</td><td class=\"right \" data-stat=\"pf_per_g\">2.4</td><td class=\"right \" data-stat=\"pts_per_g\">16.5</td><td class=\"right \" data-stat=\"zzz\"></td><td class=\"left \" data-stat=\"awards\"></td></tr>\n",
       " \n",
       "    </tfoot>\n",
       " \n",
       " </table>]"
      ]
     },
     "execution_count": 57,
     "metadata": {},
     "output_type": "execute_result"
    }
   ],
   "source": [
    "soup2.select(\"#players_per_game\")"
   ]
  },
  {
   "cell_type": "code",
   "execution_count": 58,
   "metadata": {
    "collapsed": true
   },
   "outputs": [],
   "source": [
    "soup3 = BeautifulSoup(html3, \"html.parser\")"
   ]
  },
  {
   "cell_type": "code",
   "execution_count": 59,
   "metadata": {
    "collapsed": false
   },
   "outputs": [
    {
     "data": {
      "text/plain": [
       "6"
      ]
     },
     "execution_count": 59,
     "metadata": {},
     "output_type": "execute_result"
    }
   ],
   "source": [
    "len(soup3.find_all(\"tr\"))"
   ]
  },
  {
   "cell_type": "code",
   "execution_count": 60,
   "metadata": {
    "collapsed": false
   },
   "outputs": [
    {
     "data": {
      "text/plain": [
       "1"
      ]
     },
     "execution_count": 60,
     "metadata": {},
     "output_type": "execute_result"
    }
   ],
   "source": [
    "len(soup.find_all(\"table\"))"
   ]
  },
  {
   "cell_type": "code",
   "execution_count": 61,
   "metadata": {
    "collapsed": false
   },
   "outputs": [
    {
     "data": {
      "text/plain": [
       "[<tr#totals.2011.full_table>, <tr#totals.2012.full_table>, <tr#totals.2013.full_table>, <tr#totals.2014.full_table>, <tr#totals.2015.full_table>, <tr#totals.2016.full_table>, <tr#totals.2017.full_table>]"
      ]
     },
     "execution_count": 61,
     "metadata": {},
     "output_type": "execute_result"
    }
   ],
   "source": [
    "d(\"#totals > tbody > tr\")"
   ]
  }
 ],
 "metadata": {
  "kernelspec": {
   "display_name": "Python 3",
   "language": "python",
   "name": "python3"
  },
  "language_info": {
   "codemirror_mode": {
    "name": "ipython",
    "version": 3
   },
   "file_extension": ".py",
   "mimetype": "text/x-python",
   "name": "python",
   "nbconvert_exporter": "python",
   "pygments_lexer": "ipython3",
   "version": "3.6.0"
  }
 },
 "nbformat": 4,
 "nbformat_minor": 2
}
