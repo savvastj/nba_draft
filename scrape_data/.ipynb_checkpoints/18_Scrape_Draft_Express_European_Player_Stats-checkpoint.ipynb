{
 "cells": [
  {
   "cell_type": "code",
   "execution_count": 1,
   "metadata": {
    "collapsed": true
   },
   "outputs": [],
   "source": [
    "import requests\n",
    "import pandas as pd\n",
    "from pyquery import PyQuery as pq\n",
    "import helpers"
   ]
  },
  {
   "cell_type": "code",
   "execution_count": 2,
   "metadata": {
    "collapsed": true
   },
   "outputs": [],
   "source": [
    "leagues = [\"euroleague\", \"eurocup\", \"acb\", \"italian\", \"french\", \"greek\"]\n",
    "stats = [\"basic\", \"usage\", \"efficiency\"]"
   ]
  },
  {
   "cell_type": "code",
   "execution_count": 3,
   "metadata": {
    "collapsed": true
   },
   "outputs": [],
   "source": [
    "url_template = \"http://www.draftexpress.com/stats/{league}/{year}/all/{stat}/\"\\\n",
    "                \"pace/0/all/all/{pg}\""
   ]
  },
  {
   "cell_type": "code",
   "execution_count": 4,
   "metadata": {
    "collapsed": false
   },
   "outputs": [],
   "source": [
    "# dict to store scraped dfs and errors for each league and stat type\n",
    "data_dict = {lg: {stat: {\"dfs\": [], \"errors\": []} for stat in stats} \n",
    "             for lg in leagues}"
   ]
  },
  {
   "cell_type": "code",
   "execution_count": 5,
   "metadata": {
    "collapsed": false
   },
   "outputs": [
    {
     "data": {
      "text/plain": [
       "{'acb': {'basic': {'dfs': [], 'errors': []},\n",
       "  'efficiency': {'dfs': [], 'errors': []},\n",
       "  'usage': {'dfs': [], 'errors': []}},\n",
       " 'eurocup': {'basic': {'dfs': [], 'errors': []},\n",
       "  'efficiency': {'dfs': [], 'errors': []},\n",
       "  'usage': {'dfs': [], 'errors': []}},\n",
       " 'euroleague': {'basic': {'dfs': [], 'errors': []},\n",
       "  'efficiency': {'dfs': [], 'errors': []},\n",
       "  'usage': {'dfs': [], 'errors': []}},\n",
       " 'french': {'basic': {'dfs': [], 'errors': []},\n",
       "  'efficiency': {'dfs': [], 'errors': []},\n",
       "  'usage': {'dfs': [], 'errors': []}},\n",
       " 'greek': {'basic': {'dfs': [], 'errors': []},\n",
       "  'efficiency': {'dfs': [], 'errors': []},\n",
       "  'usage': {'dfs': [], 'errors': []}},\n",
       " 'italian': {'basic': {'dfs': [], 'errors': []},\n",
       "  'efficiency': {'dfs': [], 'errors': []},\n",
       "  'usage': {'dfs': [], 'errors': []}}}"
      ]
     },
     "execution_count": 5,
     "metadata": {},
     "output_type": "execute_result"
    }
   ],
   "source": [
    "data_dict"
   ]
  },
  {
   "cell_type": "code",
   "execution_count": 6,
   "metadata": {
    "collapsed": true
   },
   "outputs": [],
   "source": [
    "col_dict = {\"basic\": helpers.basic_stats_cols,\n",
    "            \"usage\": helpers.usage_cols,\n",
    "            \"efficiency\": helpers.eff_cols}"
   ]
  },
  {
   "cell_type": "code",
   "execution_count": 7,
   "metadata": {
    "collapsed": false
   },
   "outputs": [
    {
     "name": "stdout",
     "output_type": "stream",
     "text": [
      "{'basic': ['box', 'Player', 'Team_Logo', 'Team', 'G', 'MP', 'PTS', 'FG_2P', 'FG_2PA', 'FG_2P_Pct', 'FG_3P', 'FGA_3P', 'FG_3P_Pct', 'FT', 'FTA', 'FT_Pct', 'OREB', 'DREB', 'REB', 'AST', 'STL', 'BLK', 'TO', 'PF'], 'usage': ['box', 'Player', 'Team_Logo', 'Team', 'G', 'MP', 'PER', 'EFF', 'EFF_per_40', 'EWA', 'Poss_per_G', 'Tm_Poss_per_G', 'Pct_of_Tm_Poss', 'Pts_per_Poss', 'FGA_per_Poss', 'FTA_per_Poss', 'AST_per_Poss', 'TO_per_Poss'], 'efficiency': ['box', 'Player', 'Team_Logo', 'Team', 'G', 'MP', 'PTS', 'FGA', 'PTS_per_Play', 'TS_Pct', 'eFG_Pct', 'FT_Rate', 'Three_Pt_Rate', 'AST', 'AST_to_FGA_Ratio', 'AST_to_TO_Ratio', 'PPR', 'STL', 'BLK', 'PF']}\n"
     ]
    }
   ],
   "source": [
    "print(col_dict)"
   ]
  },
  {
   "cell_type": "code",
   "execution_count": 8,
   "metadata": {
    "collapsed": false
   },
   "outputs": [],
   "source": [
    "for lg in leagues:\n",
    "    for stat in stats:\n",
    "        for yr in range(2003, 2018):\n",
    "            # For each year find the last page number, if there isn't\n",
    "            # one then there are no stats for that page and move on to a \n",
    "            # different year\n",
    "            last_pg_url = url_template.format(league=lg, year=yr, stat=stat, \n",
    "                                              pg=1)\n",
    "            try:\n",
    "                last_pg = helpers.get_last_pg(last_pg_url)\n",
    "            except Exception as e:\n",
    "                data_dict[lg][stat][\"errors\"].append([lg, stat, yr,\n",
    "                                                      last_pg_url, e])\n",
    "                continue\n",
    "            for pg in range(1, int(last_pg)):\n",
    "                url = url_template.format(league=lg,year=yr,stat=stat, pg=pg)\n",
    "                try:\n",
    "                    df = helpers.create_df(url, col_dict[stat])\n",
    "                    df[\"Season\"] = yr\n",
    "                    df[\"League\"] = lg\n",
    "                    df.drop([\"box\", \"Team_Logo\"], axis=1, inplace=True)\n",
    "                    df[\"DX_Player_ID\"] = (df.Player_Link.str\n",
    "                                          .extract(\"/.*/(.*)/\", expand=False))\n",
    "                    df[\"DX_Team_ID\"] = (df.Team_Link.str\n",
    "                                        .extract(\"/.*/.*/.*/(.*)\", expand=False))\n",
    "                    df[\"Team\"] = df.Team.str.strip()\n",
    "                    data_dict[lg][stat][\"dfs\"].append(df)\n",
    "                except Exception as e:\n",
    "                    data_dict[lg][stat][\"errors\"].append([lg, stat, yr, url, \n",
    "                                                          e])"
   ]
  },
  {
   "cell_type": "code",
   "execution_count": 9,
   "metadata": {
    "collapsed": false
   },
   "outputs": [
    {
     "name": "stdout",
     "output_type": "stream",
     "text": [
      "0\n",
      "0\n",
      "0\n",
      "0\n",
      "0\n",
      "0\n",
      "0\n",
      "0\n",
      "0\n",
      "0\n",
      "0\n",
      "0\n",
      "2\n",
      "2\n",
      "2\n",
      "6\n",
      "6\n",
      "6\n"
     ]
    }
   ],
   "source": [
    "for lg in leagues:\n",
    "    for stat in stats:\n",
    "        print(len(data_dict[lg][stat][\"errors\"]))"
   ]
  },
  {
   "cell_type": "code",
   "execution_count": 10,
   "metadata": {
    "collapsed": false
   },
   "outputs": [
    {
     "name": "stdout",
     "output_type": "stream",
     "text": [
      "194\n",
      "194\n",
      "194\n",
      "278\n",
      "278\n",
      "278\n",
      "157\n",
      "157\n",
      "157\n",
      "154\n",
      "154\n",
      "154\n",
      "127\n",
      "127\n",
      "127\n",
      "84\n",
      "84\n",
      "84\n"
     ]
    }
   ],
   "source": [
    "for lg in leagues:\n",
    "    for stat in stats:\n",
    "        print(len(data_dict[lg][stat][\"dfs\"]))"
   ]
  },
  {
   "cell_type": "code",
   "execution_count": 11,
   "metadata": {
    "collapsed": false,
    "scrolled": false
   },
   "outputs": [
    {
     "name": "stdout",
     "output_type": "stream",
     "text": [
      "[] \n",
      "\n",
      "[] \n",
      "\n",
      "[] \n",
      "\n",
      "[] \n",
      "\n",
      "[] \n",
      "\n",
      "[] \n",
      "\n",
      "[] \n",
      "\n",
      "[] \n",
      "\n",
      "[] \n",
      "\n",
      "[] \n",
      "\n",
      "[] \n",
      "\n",
      "[] \n",
      "\n",
      "[['french', 'basic', 2003, 'http://www.draftexpress.com/stats/french/2003/all/basic/pace/0/all/all/1', IndexError('list index out of range',)], ['french', 'basic', 2004, 'http://www.draftexpress.com/stats/french/2004/all/basic/pace/0/all/all/1', IndexError('list index out of range',)]] \n",
      "\n",
      "[['french', 'usage', 2003, 'http://www.draftexpress.com/stats/french/2003/all/usage/pace/0/all/all/1', IndexError('list index out of range',)], ['french', 'usage', 2004, 'http://www.draftexpress.com/stats/french/2004/all/usage/pace/0/all/all/1', IndexError('list index out of range',)]] \n",
      "\n",
      "[['french', 'efficiency', 2003, 'http://www.draftexpress.com/stats/french/2003/all/efficiency/pace/0/all/all/1', IndexError('list index out of range',)], ['french', 'efficiency', 2004, 'http://www.draftexpress.com/stats/french/2004/all/efficiency/pace/0/all/all/1', IndexError('list index out of range',)]] \n",
      "\n",
      "[['greek', 'basic', 2003, 'http://www.draftexpress.com/stats/greek/2003/all/basic/pace/0/all/all/1', IndexError('list index out of range',)], ['greek', 'basic', 2004, 'http://www.draftexpress.com/stats/greek/2004/all/basic/pace/0/all/all/1', IndexError('list index out of range',)], ['greek', 'basic', 2005, 'http://www.draftexpress.com/stats/greek/2005/all/basic/pace/0/all/all/1', IndexError('list index out of range',)], ['greek', 'basic', 2006, 'http://www.draftexpress.com/stats/greek/2006/all/basic/pace/0/all/all/1', IndexError('list index out of range',)], ['greek', 'basic', 2007, 'http://www.draftexpress.com/stats/greek/2007/all/basic/pace/0/all/all/1', IndexError('list index out of range',)], ['greek', 'basic', 2008, 'http://www.draftexpress.com/stats/greek/2008/all/basic/pace/0/all/all/1', IndexError('list index out of range',)]] \n",
      "\n",
      "[['greek', 'usage', 2003, 'http://www.draftexpress.com/stats/greek/2003/all/usage/pace/0/all/all/1', IndexError('list index out of range',)], ['greek', 'usage', 2004, 'http://www.draftexpress.com/stats/greek/2004/all/usage/pace/0/all/all/1', IndexError('list index out of range',)], ['greek', 'usage', 2005, 'http://www.draftexpress.com/stats/greek/2005/all/usage/pace/0/all/all/1', IndexError('list index out of range',)], ['greek', 'usage', 2006, 'http://www.draftexpress.com/stats/greek/2006/all/usage/pace/0/all/all/1', IndexError('list index out of range',)], ['greek', 'usage', 2007, 'http://www.draftexpress.com/stats/greek/2007/all/usage/pace/0/all/all/1', IndexError('list index out of range',)], ['greek', 'usage', 2008, 'http://www.draftexpress.com/stats/greek/2008/all/usage/pace/0/all/all/1', IndexError('list index out of range',)]] \n",
      "\n",
      "[['greek', 'efficiency', 2003, 'http://www.draftexpress.com/stats/greek/2003/all/efficiency/pace/0/all/all/1', IndexError('list index out of range',)], ['greek', 'efficiency', 2004, 'http://www.draftexpress.com/stats/greek/2004/all/efficiency/pace/0/all/all/1', IndexError('list index out of range',)], ['greek', 'efficiency', 2005, 'http://www.draftexpress.com/stats/greek/2005/all/efficiency/pace/0/all/all/1', IndexError('list index out of range',)], ['greek', 'efficiency', 2006, 'http://www.draftexpress.com/stats/greek/2006/all/efficiency/pace/0/all/all/1', IndexError('list index out of range',)], ['greek', 'efficiency', 2007, 'http://www.draftexpress.com/stats/greek/2007/all/efficiency/pace/0/all/all/1', IndexError('list index out of range',)], ['greek', 'efficiency', 2008, 'http://www.draftexpress.com/stats/greek/2008/all/efficiency/pace/0/all/all/1', IndexError('list index out of range',)]] \n",
      "\n"
     ]
    }
   ],
   "source": [
    "for lg in leagues:\n",
    "    for stat in stats:\n",
    "        print(data_dict[lg][stat][\"errors\"],\"\\n\")"
   ]
  },
  {
   "cell_type": "code",
   "execution_count": 12,
   "metadata": {
    "collapsed": false
   },
   "outputs": [],
   "source": [
    "for lg in leagues:\n",
    "    for stat in stats:\n",
    "        df = pd.concat(data_dict[lg][stat][\"dfs\"])\n",
    "        if stat == \"basic\":\n",
    "            file = \"raw_data/draft_express_{}_player_basic_stats_pace_adj_\"\\\n",
    "                   \"07_11_17.csv\"\n",
    "            df.to_csv(file.format(lg), index=False)\n",
    "        else:\n",
    "            file = \"raw_data/draft_express_{}_player_{}_07_11_17.csv\"\n",
    "            df.to_csv(file.format(lg, stat), index=False)"
   ]
  }
 ],
 "metadata": {
  "kernelspec": {
   "display_name": "Python 3",
   "language": "python",
   "name": "python3"
  },
  "language_info": {
   "codemirror_mode": {
    "name": "ipython",
    "version": 3
   },
   "file_extension": ".py",
   "mimetype": "text/x-python",
   "name": "python",
   "nbconvert_exporter": "python",
   "pygments_lexer": "ipython3",
   "version": "3.6.0"
  }
 },
 "nbformat": 4,
 "nbformat_minor": 2
}
