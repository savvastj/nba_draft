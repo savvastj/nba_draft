{
 "cells": [
  {
   "cell_type": "code",
   "execution_count": 1,
   "metadata": {
    "collapsed": true
   },
   "outputs": [],
   "source": [
    "import requests\n",
    "from pyquery import PyQuery as pq\n",
    "import pandas as pd"
   ]
  },
  {
   "cell_type": "code",
   "execution_count": 2,
   "metadata": {
    "collapsed": true
   },
   "outputs": [],
   "source": [
    "url_template = \"http://www.sports-reference.com/cbb/play-index/psl_finder.cgi\"\\\n",
    "               \"?request=1&match=single&year_min=&year_max=&conf_id=&school\"\\\n",
    "               \"_id=&class_is_fr=Y&class_is_so=Y&class_is_jr=Y&class_is_sr=Y\"\\\n",
    "               \"&pos_is_g=Y&pos_is_gf=Y&pos_is_fg=Y&pos_is_f=Y&pos_is_fc=Y&\"\\\n",
    "               \"pos_is_cf=Y&pos_is_c=Y&games_type=A&qual=&c1stat=&c1comp=&c1\"\\\n",
    "               \"val=&c2stat=&c2comp=&c2val=&c3stat=&c3comp=&c3val=&c4stat=&c4\"\\\n",
    "               \"comp=&c4val=&order_by=pts&order_by_asc=&offset={}\""
   ]
  },
  {
   "cell_type": "code",
   "execution_count": 3,
   "metadata": {
    "collapsed": true
   },
   "outputs": [],
   "source": [
    "def get_cbb_link_and_data(idx, td):\n",
    "    \"\"\"Helps get the player link as you scrape the data\"\"\" \n",
    "    \n",
    "    if idx == 1:\n",
    "        return td.text_content(), td.getchildren()[0].attrib[\"href\"]\n",
    "    else:\n",
    "        return td.text_content()\n",
    "\n",
    "def create_pq(url):\n",
    "    \"\"\"Creates PyQuery object used for scraping\"\"\"\n",
    "    \n",
    "    response = requests.get(url)\n",
    "    html = response.text.replace('<!--', '').replace('-->', '')\n",
    "    return pq(html)\n",
    "\n",
    "def get_table(url, table_id_selector):\n",
    "    \"\"\"Scrapes the data and returns it as a DataFrame\"\"\"\n",
    "    \n",
    "    pq_obj = create_pq(url)\n",
    "    \n",
    "    rows = pq_obj(\"{} > tbody > tr\".format(table_id_selector))\n",
    "    headers = pq_obj(\"{} > thead > tr > th\".format(table_id_selector))\n",
    "    \n",
    "    # get data from each row and coll\n",
    "    data = [[get_cbb_link_and_data(idx, td) \n",
    "             for idx, td in enumerate(row.iterchildren())] \n",
    "            for row in rows if row.attrib == \"\"]\n",
    "    cols = [th.text_content() for th in headers[2:]]\n",
    "    df = pd.DataFrame(data=data, columns=cols)\n",
    "    \n",
    "    return df\n",
    "\n",
    "def scrape_data(offset):\n",
    "    url = url_template.format(offset)\n",
    "    try:\n",
    "        return get_table(url, \"#stats\")\n",
    "    except Exception as e:\n",
    "        return [url, e]"
   ]
  },
  {
   "cell_type": "code",
   "execution_count": 4,
   "metadata": {
    "collapsed": false
   },
   "outputs": [],
   "source": [
    "dfs = [scrape_data(offset) for offset in range(0, 108601, 100)]"
   ]
  },
  {
   "cell_type": "code",
   "execution_count": 5,
   "metadata": {
    "collapsed": false
   },
   "outputs": [
    {
     "data": {
      "text/plain": [
       "1087"
      ]
     },
     "execution_count": 5,
     "metadata": {},
     "output_type": "execute_result"
    }
   ],
   "source": [
    "len(dfs)"
   ]
  },
  {
   "cell_type": "code",
   "execution_count": 6,
   "metadata": {
    "collapsed": true
   },
   "outputs": [],
   "source": [
    "errors = [error for error in dfs if isinstance(error, list)]"
   ]
  },
  {
   "cell_type": "code",
   "execution_count": 7,
   "metadata": {
    "collapsed": false
   },
   "outputs": [
    {
     "data": {
      "text/plain": [
       "1"
      ]
     },
     "execution_count": 7,
     "metadata": {},
     "output_type": "execute_result"
    }
   ],
   "source": [
    "len(errors)"
   ]
  },
  {
   "cell_type": "code",
   "execution_count": 8,
   "metadata": {
    "collapsed": false
   },
   "outputs": [
    {
     "data": {
      "text/html": [
       "<div>\n",
       "<style>\n",
       "    .dataframe thead tr:only-child th {\n",
       "        text-align: right;\n",
       "    }\n",
       "\n",
       "    .dataframe thead th {\n",
       "        text-align: left;\n",
       "    }\n",
       "\n",
       "    .dataframe tbody tr th {\n",
       "        vertical-align: top;\n",
       "    }\n",
       "</style>\n",
       "<table border=\"1\" class=\"dataframe\">\n",
       "  <thead>\n",
       "    <tr style=\"text-align: right;\">\n",
       "      <th></th>\n",
       "      <th>Rk</th>\n",
       "      <th>Player</th>\n",
       "      <th>Class</th>\n",
       "      <th>Season</th>\n",
       "      <th>Pos</th>\n",
       "      <th>School</th>\n",
       "      <th>Conf</th>\n",
       "      <th>G</th>\n",
       "      <th>MP</th>\n",
       "      <th>FG</th>\n",
       "      <th>...</th>\n",
       "      <th>FTA</th>\n",
       "      <th>ORB</th>\n",
       "      <th>DRB</th>\n",
       "      <th>TRB</th>\n",
       "      <th>AST</th>\n",
       "      <th>STL</th>\n",
       "      <th>BLK</th>\n",
       "      <th>TOV</th>\n",
       "      <th>PF</th>\n",
       "      <th>PTS</th>\n",
       "    </tr>\n",
       "  </thead>\n",
       "  <tbody>\n",
       "    <tr>\n",
       "      <th>0</th>\n",
       "      <td>1</td>\n",
       "      <td>(Jimmer Fredette, /cbb/players/jimmer-fredette...</td>\n",
       "      <td>SR</td>\n",
       "      <td>2010-11</td>\n",
       "      <td>G</td>\n",
       "      <td>Brigham Young</td>\n",
       "      <td>MWC</td>\n",
       "      <td>37</td>\n",
       "      <td>1323</td>\n",
       "      <td>346</td>\n",
       "      <td>...</td>\n",
       "      <td>282</td>\n",
       "      <td>24</td>\n",
       "      <td>103</td>\n",
       "      <td>127</td>\n",
       "      <td>160</td>\n",
       "      <td>49</td>\n",
       "      <td>1</td>\n",
       "      <td>131</td>\n",
       "      <td>49</td>\n",
       "      <td>1068</td>\n",
       "    </tr>\n",
       "    <tr>\n",
       "      <th>1</th>\n",
       "      <td>2</td>\n",
       "      <td>(Glenn Robinson, /cbb/players/glenn-robinson-1...</td>\n",
       "      <td>JR</td>\n",
       "      <td>1993-94</td>\n",
       "      <td>F</td>\n",
       "      <td>Purdue</td>\n",
       "      <td>Big Ten</td>\n",
       "      <td>34</td>\n",
       "      <td>1166</td>\n",
       "      <td>368</td>\n",
       "      <td>...</td>\n",
       "      <td>270</td>\n",
       "      <td></td>\n",
       "      <td></td>\n",
       "      <td>344</td>\n",
       "      <td>66</td>\n",
       "      <td>56</td>\n",
       "      <td>31</td>\n",
       "      <td>139</td>\n",
       "      <td>88</td>\n",
       "      <td>1030</td>\n",
       "    </tr>\n",
       "    <tr>\n",
       "      <th>2</th>\n",
       "      <td>3</td>\n",
       "      <td>(Stephen Curry, /cbb/players/stephen-curry-1.h...</td>\n",
       "      <td>JR</td>\n",
       "      <td>2008-09</td>\n",
       "      <td>G</td>\n",
       "      <td>Davidson</td>\n",
       "      <td>Southern</td>\n",
       "      <td>34</td>\n",
       "      <td></td>\n",
       "      <td>312</td>\n",
       "      <td>...</td>\n",
       "      <td>251</td>\n",
       "      <td></td>\n",
       "      <td></td>\n",
       "      <td>151</td>\n",
       "      <td>189</td>\n",
       "      <td>86</td>\n",
       "      <td>8</td>\n",
       "      <td>126</td>\n",
       "      <td></td>\n",
       "      <td>974</td>\n",
       "    </tr>\n",
       "    <tr>\n",
       "      <th>3</th>\n",
       "      <td>4</td>\n",
       "      <td>(Kemba Walker, /cbb/players/kemba-walker-1.html)</td>\n",
       "      <td>JR</td>\n",
       "      <td>2010-11</td>\n",
       "      <td>G</td>\n",
       "      <td>Connecticut</td>\n",
       "      <td>Big East</td>\n",
       "      <td>41</td>\n",
       "      <td>1543</td>\n",
       "      <td>316</td>\n",
       "      <td>...</td>\n",
       "      <td>315</td>\n",
       "      <td>53</td>\n",
       "      <td>170</td>\n",
       "      <td>223</td>\n",
       "      <td>184</td>\n",
       "      <td>77</td>\n",
       "      <td>7</td>\n",
       "      <td>93</td>\n",
       "      <td>56</td>\n",
       "      <td>965</td>\n",
       "    </tr>\n",
       "    <tr>\n",
       "      <th>4</th>\n",
       "      <td>5</td>\n",
       "      <td>(J.J. Redick, /cbb/players/jj-redick-1.html)</td>\n",
       "      <td>SR</td>\n",
       "      <td>2005-06</td>\n",
       "      <td>G</td>\n",
       "      <td>Duke</td>\n",
       "      <td>ACC</td>\n",
       "      <td>36</td>\n",
       "      <td>1336</td>\n",
       "      <td>302</td>\n",
       "      <td>...</td>\n",
       "      <td>256</td>\n",
       "      <td></td>\n",
       "      <td></td>\n",
       "      <td>71</td>\n",
       "      <td>95</td>\n",
       "      <td>52</td>\n",
       "      <td>2</td>\n",
       "      <td></td>\n",
       "      <td></td>\n",
       "      <td>964</td>\n",
       "    </tr>\n",
       "  </tbody>\n",
       "</table>\n",
       "<p>5 rows × 26 columns</p>\n",
       "</div>"
      ],
      "text/plain": [
       "  Rk                                             Player Class   Season Pos  \\\n",
       "0  1  (Jimmer Fredette, /cbb/players/jimmer-fredette...    SR  2010-11   G   \n",
       "1  2  (Glenn Robinson, /cbb/players/glenn-robinson-1...    JR  1993-94   F   \n",
       "2  3  (Stephen Curry, /cbb/players/stephen-curry-1.h...    JR  2008-09   G   \n",
       "3  4   (Kemba Walker, /cbb/players/kemba-walker-1.html)    JR  2010-11   G   \n",
       "4  5       (J.J. Redick, /cbb/players/jj-redick-1.html)    SR  2005-06   G   \n",
       "\n",
       "          School      Conf   G    MP   FG  ...   FTA ORB  DRB  TRB  AST STL  \\\n",
       "0  Brigham Young       MWC  37  1323  346  ...   282  24  103  127  160  49   \n",
       "1         Purdue   Big Ten  34  1166  368  ...   270           344   66  56   \n",
       "2       Davidson  Southern  34        312  ...   251           151  189  86   \n",
       "3    Connecticut  Big East  41  1543  316  ...   315  53  170  223  184  77   \n",
       "4           Duke       ACC  36  1336  302  ...   256            71   95  52   \n",
       "\n",
       "  BLK  TOV  PF   PTS  \n",
       "0   1  131  49  1068  \n",
       "1  31  139  88  1030  \n",
       "2   8  126       974  \n",
       "3   7   93  56   965  \n",
       "4   2            964  \n",
       "\n",
       "[5 rows x 26 columns]"
      ]
     },
     "execution_count": 8,
     "metadata": {},
     "output_type": "execute_result"
    }
   ],
   "source": [
    "dfs[0].head()"
   ]
  },
  {
   "cell_type": "code",
   "execution_count": 9,
   "metadata": {
    "collapsed": true
   },
   "outputs": [],
   "source": [
    "actual_dfs = [df for df in dfs if isinstance(df, pd.DataFrame)]"
   ]
  },
  {
   "cell_type": "code",
   "execution_count": 10,
   "metadata": {
    "collapsed": false
   },
   "outputs": [
    {
     "data": {
      "text/plain": [
       "1086"
      ]
     },
     "execution_count": 10,
     "metadata": {},
     "output_type": "execute_result"
    }
   ],
   "source": [
    "len(actual_dfs)"
   ]
  },
  {
   "cell_type": "code",
   "execution_count": 11,
   "metadata": {
    "collapsed": true
   },
   "outputs": [],
   "source": [
    "df = pd.concat(actual_dfs, ignore_index=True)"
   ]
  },
  {
   "cell_type": "code",
   "execution_count": 12,
   "metadata": {
    "collapsed": false
   },
   "outputs": [
    {
     "data": {
      "text/html": [
       "<div>\n",
       "<style>\n",
       "    .dataframe thead tr:only-child th {\n",
       "        text-align: right;\n",
       "    }\n",
       "\n",
       "    .dataframe thead th {\n",
       "        text-align: left;\n",
       "    }\n",
       "\n",
       "    .dataframe tbody tr th {\n",
       "        vertical-align: top;\n",
       "    }\n",
       "</style>\n",
       "<table border=\"1\" class=\"dataframe\">\n",
       "  <thead>\n",
       "    <tr style=\"text-align: right;\">\n",
       "      <th></th>\n",
       "      <th>Rk</th>\n",
       "      <th>Player</th>\n",
       "      <th>Class</th>\n",
       "      <th>Season</th>\n",
       "      <th>Pos</th>\n",
       "      <th>School</th>\n",
       "      <th>Conf</th>\n",
       "      <th>G</th>\n",
       "      <th>MP</th>\n",
       "      <th>FG</th>\n",
       "      <th>...</th>\n",
       "      <th>FTA</th>\n",
       "      <th>ORB</th>\n",
       "      <th>DRB</th>\n",
       "      <th>TRB</th>\n",
       "      <th>AST</th>\n",
       "      <th>STL</th>\n",
       "      <th>BLK</th>\n",
       "      <th>TOV</th>\n",
       "      <th>PF</th>\n",
       "      <th>PTS</th>\n",
       "    </tr>\n",
       "  </thead>\n",
       "  <tbody>\n",
       "    <tr>\n",
       "      <th>0</th>\n",
       "      <td>1</td>\n",
       "      <td>(Jimmer Fredette, /cbb/players/jimmer-fredette...</td>\n",
       "      <td>SR</td>\n",
       "      <td>2010-11</td>\n",
       "      <td>G</td>\n",
       "      <td>Brigham Young</td>\n",
       "      <td>MWC</td>\n",
       "      <td>37</td>\n",
       "      <td>1323</td>\n",
       "      <td>346</td>\n",
       "      <td>...</td>\n",
       "      <td>282</td>\n",
       "      <td>24</td>\n",
       "      <td>103</td>\n",
       "      <td>127</td>\n",
       "      <td>160</td>\n",
       "      <td>49</td>\n",
       "      <td>1</td>\n",
       "      <td>131</td>\n",
       "      <td>49</td>\n",
       "      <td>1068</td>\n",
       "    </tr>\n",
       "    <tr>\n",
       "      <th>1</th>\n",
       "      <td>2</td>\n",
       "      <td>(Glenn Robinson, /cbb/players/glenn-robinson-1...</td>\n",
       "      <td>JR</td>\n",
       "      <td>1993-94</td>\n",
       "      <td>F</td>\n",
       "      <td>Purdue</td>\n",
       "      <td>Big Ten</td>\n",
       "      <td>34</td>\n",
       "      <td>1166</td>\n",
       "      <td>368</td>\n",
       "      <td>...</td>\n",
       "      <td>270</td>\n",
       "      <td></td>\n",
       "      <td></td>\n",
       "      <td>344</td>\n",
       "      <td>66</td>\n",
       "      <td>56</td>\n",
       "      <td>31</td>\n",
       "      <td>139</td>\n",
       "      <td>88</td>\n",
       "      <td>1030</td>\n",
       "    </tr>\n",
       "    <tr>\n",
       "      <th>2</th>\n",
       "      <td>3</td>\n",
       "      <td>(Stephen Curry, /cbb/players/stephen-curry-1.h...</td>\n",
       "      <td>JR</td>\n",
       "      <td>2008-09</td>\n",
       "      <td>G</td>\n",
       "      <td>Davidson</td>\n",
       "      <td>Southern</td>\n",
       "      <td>34</td>\n",
       "      <td></td>\n",
       "      <td>312</td>\n",
       "      <td>...</td>\n",
       "      <td>251</td>\n",
       "      <td></td>\n",
       "      <td></td>\n",
       "      <td>151</td>\n",
       "      <td>189</td>\n",
       "      <td>86</td>\n",
       "      <td>8</td>\n",
       "      <td>126</td>\n",
       "      <td></td>\n",
       "      <td>974</td>\n",
       "    </tr>\n",
       "    <tr>\n",
       "      <th>3</th>\n",
       "      <td>4</td>\n",
       "      <td>(Kemba Walker, /cbb/players/kemba-walker-1.html)</td>\n",
       "      <td>JR</td>\n",
       "      <td>2010-11</td>\n",
       "      <td>G</td>\n",
       "      <td>Connecticut</td>\n",
       "      <td>Big East</td>\n",
       "      <td>41</td>\n",
       "      <td>1543</td>\n",
       "      <td>316</td>\n",
       "      <td>...</td>\n",
       "      <td>315</td>\n",
       "      <td>53</td>\n",
       "      <td>170</td>\n",
       "      <td>223</td>\n",
       "      <td>184</td>\n",
       "      <td>77</td>\n",
       "      <td>7</td>\n",
       "      <td>93</td>\n",
       "      <td>56</td>\n",
       "      <td>965</td>\n",
       "    </tr>\n",
       "    <tr>\n",
       "      <th>4</th>\n",
       "      <td>5</td>\n",
       "      <td>(J.J. Redick, /cbb/players/jj-redick-1.html)</td>\n",
       "      <td>SR</td>\n",
       "      <td>2005-06</td>\n",
       "      <td>G</td>\n",
       "      <td>Duke</td>\n",
       "      <td>ACC</td>\n",
       "      <td>36</td>\n",
       "      <td>1336</td>\n",
       "      <td>302</td>\n",
       "      <td>...</td>\n",
       "      <td>256</td>\n",
       "      <td></td>\n",
       "      <td></td>\n",
       "      <td>71</td>\n",
       "      <td>95</td>\n",
       "      <td>52</td>\n",
       "      <td>2</td>\n",
       "      <td></td>\n",
       "      <td></td>\n",
       "      <td>964</td>\n",
       "    </tr>\n",
       "  </tbody>\n",
       "</table>\n",
       "<p>5 rows × 26 columns</p>\n",
       "</div>"
      ],
      "text/plain": [
       "  Rk                                             Player Class   Season Pos  \\\n",
       "0  1  (Jimmer Fredette, /cbb/players/jimmer-fredette...    SR  2010-11   G   \n",
       "1  2  (Glenn Robinson, /cbb/players/glenn-robinson-1...    JR  1993-94   F   \n",
       "2  3  (Stephen Curry, /cbb/players/stephen-curry-1.h...    JR  2008-09   G   \n",
       "3  4   (Kemba Walker, /cbb/players/kemba-walker-1.html)    JR  2010-11   G   \n",
       "4  5       (J.J. Redick, /cbb/players/jj-redick-1.html)    SR  2005-06   G   \n",
       "\n",
       "          School      Conf   G    MP   FG  ...   FTA ORB  DRB  TRB  AST STL  \\\n",
       "0  Brigham Young       MWC  37  1323  346  ...   282  24  103  127  160  49   \n",
       "1         Purdue   Big Ten  34  1166  368  ...   270           344   66  56   \n",
       "2       Davidson  Southern  34        312  ...   251           151  189  86   \n",
       "3    Connecticut  Big East  41  1543  316  ...   315  53  170  223  184  77   \n",
       "4           Duke       ACC  36  1336  302  ...   256            71   95  52   \n",
       "\n",
       "  BLK  TOV  PF   PTS  \n",
       "0   1  131  49  1068  \n",
       "1  31  139  88  1030  \n",
       "2   8  126       974  \n",
       "3   7   93  56   965  \n",
       "4   2            964  \n",
       "\n",
       "[5 rows x 26 columns]"
      ]
     },
     "execution_count": 12,
     "metadata": {},
     "output_type": "execute_result"
    }
   ],
   "source": [
    "df.head()"
   ]
  },
  {
   "cell_type": "code",
   "execution_count": 13,
   "metadata": {
    "collapsed": false
   },
   "outputs": [
    {
     "data": {
      "text/html": [
       "<div>\n",
       "<style>\n",
       "    .dataframe thead tr:only-child th {\n",
       "        text-align: right;\n",
       "    }\n",
       "\n",
       "    .dataframe thead th {\n",
       "        text-align: left;\n",
       "    }\n",
       "\n",
       "    .dataframe tbody tr th {\n",
       "        vertical-align: top;\n",
       "    }\n",
       "</style>\n",
       "<table border=\"1\" class=\"dataframe\">\n",
       "  <thead>\n",
       "    <tr style=\"text-align: right;\">\n",
       "      <th></th>\n",
       "      <th>Rk</th>\n",
       "      <th>Player</th>\n",
       "      <th>Class</th>\n",
       "      <th>Season</th>\n",
       "      <th>Pos</th>\n",
       "      <th>School</th>\n",
       "      <th>Conf</th>\n",
       "      <th>G</th>\n",
       "      <th>MP</th>\n",
       "      <th>FG</th>\n",
       "      <th>...</th>\n",
       "      <th>FTA</th>\n",
       "      <th>ORB</th>\n",
       "      <th>DRB</th>\n",
       "      <th>TRB</th>\n",
       "      <th>AST</th>\n",
       "      <th>STL</th>\n",
       "      <th>BLK</th>\n",
       "      <th>TOV</th>\n",
       "      <th>PF</th>\n",
       "      <th>PTS</th>\n",
       "    </tr>\n",
       "  </thead>\n",
       "  <tbody>\n",
       "    <tr>\n",
       "      <th>108525</th>\n",
       "      <td>108626</td>\n",
       "      <td>(Milos Zivanovic, /cbb/players/milos-zivanovic...</td>\n",
       "      <td>SR</td>\n",
       "      <td>2005-06</td>\n",
       "      <td>C</td>\n",
       "      <td>Hawaii</td>\n",
       "      <td>WAC</td>\n",
       "      <td>1</td>\n",
       "      <td></td>\n",
       "      <td>0</td>\n",
       "      <td>...</td>\n",
       "      <td>0</td>\n",
       "      <td></td>\n",
       "      <td></td>\n",
       "      <td>1</td>\n",
       "      <td>0</td>\n",
       "      <td>0</td>\n",
       "      <td>0</td>\n",
       "      <td></td>\n",
       "      <td></td>\n",
       "      <td>0</td>\n",
       "    </tr>\n",
       "    <tr>\n",
       "      <th>108526</th>\n",
       "      <td>108627</td>\n",
       "      <td>(Paul Zorad, /cbb/players/paul-zorad-1.html)</td>\n",
       "      <td>SO</td>\n",
       "      <td>1995-96</td>\n",
       "      <td>F</td>\n",
       "      <td>Southern Methodist</td>\n",
       "      <td>SWC</td>\n",
       "      <td>3</td>\n",
       "      <td></td>\n",
       "      <td></td>\n",
       "      <td>...</td>\n",
       "      <td></td>\n",
       "      <td></td>\n",
       "      <td></td>\n",
       "      <td>2</td>\n",
       "      <td>1</td>\n",
       "      <td>0</td>\n",
       "      <td>0</td>\n",
       "      <td></td>\n",
       "      <td></td>\n",
       "      <td>0</td>\n",
       "    </tr>\n",
       "    <tr>\n",
       "      <th>108527</th>\n",
       "      <td>108628</td>\n",
       "      <td>(Paul Zorad, /cbb/players/paul-zorad-1.html)</td>\n",
       "      <td>JR</td>\n",
       "      <td>1996-97</td>\n",
       "      <td>F</td>\n",
       "      <td>Southern Methodist</td>\n",
       "      <td>WAC</td>\n",
       "      <td>3</td>\n",
       "      <td></td>\n",
       "      <td>0</td>\n",
       "      <td>...</td>\n",
       "      <td>0</td>\n",
       "      <td></td>\n",
       "      <td></td>\n",
       "      <td>0</td>\n",
       "      <td>0</td>\n",
       "      <td>0</td>\n",
       "      <td>0</td>\n",
       "      <td></td>\n",
       "      <td></td>\n",
       "      <td>0</td>\n",
       "    </tr>\n",
       "    <tr>\n",
       "      <th>108528</th>\n",
       "      <td>108629</td>\n",
       "      <td>(Stephen Zurich, /cbb/players/stephen-zurich-1...</td>\n",
       "      <td>JR</td>\n",
       "      <td>2014-15</td>\n",
       "      <td>F</td>\n",
       "      <td>Rutgers</td>\n",
       "      <td>Big Ten</td>\n",
       "      <td>8</td>\n",
       "      <td>29</td>\n",
       "      <td>0</td>\n",
       "      <td>...</td>\n",
       "      <td>2</td>\n",
       "      <td>0</td>\n",
       "      <td>2</td>\n",
       "      <td>2</td>\n",
       "      <td>1</td>\n",
       "      <td>0</td>\n",
       "      <td>1</td>\n",
       "      <td>2</td>\n",
       "      <td>4</td>\n",
       "      <td>0</td>\n",
       "    </tr>\n",
       "    <tr>\n",
       "      <th>108529</th>\n",
       "      <td>108630</td>\n",
       "      <td>(Brian Zvonceck, /cbb/players/brian-zvonceck-1...</td>\n",
       "      <td>SR</td>\n",
       "      <td>1992-93</td>\n",
       "      <td>C</td>\n",
       "      <td>Baylor</td>\n",
       "      <td>SWC</td>\n",
       "      <td>3</td>\n",
       "      <td></td>\n",
       "      <td>0</td>\n",
       "      <td>...</td>\n",
       "      <td></td>\n",
       "      <td></td>\n",
       "      <td></td>\n",
       "      <td>1</td>\n",
       "      <td>0</td>\n",
       "      <td>0</td>\n",
       "      <td>0</td>\n",
       "      <td></td>\n",
       "      <td></td>\n",
       "      <td>0</td>\n",
       "    </tr>\n",
       "  </tbody>\n",
       "</table>\n",
       "<p>5 rows × 26 columns</p>\n",
       "</div>"
      ],
      "text/plain": [
       "            Rk                                             Player Class  \\\n",
       "108525  108626  (Milos Zivanovic, /cbb/players/milos-zivanovic...    SR   \n",
       "108526  108627       (Paul Zorad, /cbb/players/paul-zorad-1.html)    SO   \n",
       "108527  108628       (Paul Zorad, /cbb/players/paul-zorad-1.html)    JR   \n",
       "108528  108629  (Stephen Zurich, /cbb/players/stephen-zurich-1...    JR   \n",
       "108529  108630  (Brian Zvonceck, /cbb/players/brian-zvonceck-1...    SR   \n",
       "\n",
       "         Season Pos              School     Conf  G  MP FG ... FTA ORB DRB  \\\n",
       "108525  2005-06   C              Hawaii      WAC  1      0 ...   0           \n",
       "108526  1995-96   F  Southern Methodist      SWC  3        ...               \n",
       "108527  1996-97   F  Southern Methodist      WAC  3      0 ...   0           \n",
       "108528  2014-15   F             Rutgers  Big Ten  8  29  0 ...   2   0   2   \n",
       "108529  1992-93   C              Baylor      SWC  3      0 ...               \n",
       "\n",
       "       TRB AST STL BLK TOV PF PTS  \n",
       "108525   1   0   0   0          0  \n",
       "108526   2   1   0   0          0  \n",
       "108527   0   0   0   0          0  \n",
       "108528   2   1   0   1   2  4   0  \n",
       "108529   1   0   0   0          0  \n",
       "\n",
       "[5 rows x 26 columns]"
      ]
     },
     "execution_count": 13,
     "metadata": {},
     "output_type": "execute_result"
    }
   ],
   "source": [
    "df.tail()"
   ]
  },
  {
   "cell_type": "code",
   "execution_count": 14,
   "metadata": {
    "collapsed": false
   },
   "outputs": [
    {
     "name": "stdout",
     "output_type": "stream",
     "text": [
      "<class 'pandas.core.frame.DataFrame'>\n",
      "RangeIndex: 108530 entries, 0 to 108529\n",
      "Data columns (total 26 columns):\n",
      "Rk        108530 non-null object\n",
      "Player    108530 non-null object\n",
      "Class     108530 non-null object\n",
      "Season    108530 non-null object\n",
      "Pos       108530 non-null object\n",
      "School    108530 non-null object\n",
      "Conf      108530 non-null object\n",
      "G         108530 non-null object\n",
      "MP        108530 non-null object\n",
      "FG        108530 non-null object\n",
      "FGA       108530 non-null object\n",
      "2P        108530 non-null object\n",
      "2PA       108530 non-null object\n",
      "3P        108530 non-null object\n",
      "3PA       108530 non-null object\n",
      "FT        108530 non-null object\n",
      "FTA       108530 non-null object\n",
      "ORB       108530 non-null object\n",
      "DRB       108530 non-null object\n",
      "TRB       108530 non-null object\n",
      "AST       108530 non-null object\n",
      "STL       108530 non-null object\n",
      "BLK       108530 non-null object\n",
      "TOV       108530 non-null object\n",
      "PF        108530 non-null object\n",
      "PTS       108530 non-null object\n",
      "dtypes: object(26)\n",
      "memory usage: 21.5+ MB\n"
     ]
    }
   ],
   "source": [
    "df.info()"
   ]
  },
  {
   "cell_type": "code",
   "execution_count": 15,
   "metadata": {
    "collapsed": true
   },
   "outputs": [],
   "source": [
    "df.to_csv(\"raw_data/cbb_player_season_trad_stats_07_08_17_raw.csv\",\n",
    "          index=False)"
   ]
  },
  {
   "cell_type": "code",
   "execution_count": 16,
   "metadata": {
    "collapsed": false
   },
   "outputs": [
    {
     "data": {
      "text/plain": [
       "[['http://www.sports-reference.com/cbb/play-index/psl_finder.cgi?request=1&match=single&year_min=&year_max=&conf_id=&school_id=&class_is_fr=Y&class_is_so=Y&class_is_jr=Y&class_is_sr=Y&pos_is_g=Y&pos_is_gf=Y&pos_is_fg=Y&pos_is_f=Y&pos_is_fc=Y&pos_is_cf=Y&pos_is_c=Y&games_type=A&qual=&c1stat=&c1comp=&c1val=&c2stat=&c2comp=&c2val=&c3stat=&c3comp=&c3val=&c4stat=&c4comp=&c4val=&order_by=pts&order_by_asc=&offset=105800',\n",
       "  IndexError('list index out of range')]]"
      ]
     },
     "execution_count": 16,
     "metadata": {},
     "output_type": "execute_result"
    }
   ],
   "source": [
    "errors"
   ]
  },
  {
   "cell_type": "code",
   "execution_count": 18,
   "metadata": {
    "collapsed": false
   },
   "outputs": [
    {
     "data": {
      "text/plain": [
       "'http://www.sports-reference.com/cbb/play-index/psl_finder.cgi?request=1&match=single&year_min=&year_max=&conf_id=&school_id=&class_is_fr=Y&class_is_so=Y&class_is_jr=Y&class_is_sr=Y&pos_is_g=Y&pos_is_gf=Y&pos_is_fg=Y&pos_is_f=Y&pos_is_fc=Y&pos_is_cf=Y&pos_is_c=Y&games_type=A&qual=&c1stat=&c1comp=&c1val=&c2stat=&c2comp=&c2val=&c3stat=&c3comp=&c3val=&c4stat=&c4comp=&c4val=&order_by=pts&order_by_asc=&offset=105800'"
      ]
     },
     "execution_count": 18,
     "metadata": {},
     "output_type": "execute_result"
    }
   ],
   "source": [
    "errors[0][0]"
   ]
  }
 ],
 "metadata": {
  "kernelspec": {
   "display_name": "Python 3",
   "language": "python",
   "name": "python3"
  },
  "language_info": {
   "codemirror_mode": {
    "name": "ipython",
    "version": 3
   },
   "file_extension": ".py",
   "mimetype": "text/x-python",
   "name": "python",
   "nbconvert_exporter": "python",
   "pygments_lexer": "ipython3",
   "version": "3.6.0"
  }
 },
 "nbformat": 4,
 "nbformat_minor": 2
}
