{
 "cells": [
  {
   "cell_type": "code",
   "execution_count": 1,
   "metadata": {
    "collapsed": true
   },
   "outputs": [],
   "source": [
    "import requests\n",
    "import pandas as pd\n",
    "from pyquery import PyQuery as pq"
   ]
  },
  {
   "cell_type": "code",
   "execution_count": 2,
   "metadata": {
    "collapsed": true
   },
   "outputs": [],
   "source": [
    "url_template = \"http://www.draftexpress.com/RSCI/{}/\""
   ]
  },
  {
   "cell_type": "code",
   "execution_count": 3,
   "metadata": {
    "collapsed": false
   },
   "outputs": [],
   "source": [
    "def create_pq(url):\n",
    "    \"\"\"Creates PyQuery object used for scraping\"\"\"\n",
    "    response = requests.get(url)\n",
    "    html = response.text\n",
    "    return pq(html)\n",
    "\n",
    "def get_links(pq_obj, url_selector):\n",
    "    \"\"\"Gets the links associated with the given css selector\"\"\"\n",
    "    urls = pq_obj(url_selector)\n",
    "    links = [url.get(\"href\") for url in urls]\n",
    "    return links\n",
    "\n",
    "def get_data(pq_obj, row_selector):\n",
    "    \"\"\"Get table data\"\"\"\n",
    "    rows = pq_obj(row_selector)\n",
    "    # only select a subset of the coulmns, don't need each individual\n",
    "    # scouting rank and the NCAA team column is fucked\n",
    "    data = [[td.text_content() for td in row[:2]] +\n",
    "            [td.text_content() for td in row[-3:]]\n",
    "             for row in rows]\n",
    "    return data\n",
    "\n",
    "def create_df(url, cols):\n",
    "    \"\"\"Scrapes data from url and returns a DataFrame with given columns\"\"\"\n",
    "    pq_obj = create_pq(url)\n",
    "    \n",
    "    # Extract the links for the players and teams\n",
    "    player_selector = \".key:nth-child(2) a\"\n",
    "    player_links = get_links(pq_obj, player_selector)\n",
    "    \n",
    "    # get the table data\n",
    "    row_selector = \"tr\"\n",
    "    data = get_data(pq_obj, row_selector)\n",
    "\n",
    "    # note data[1:], because first row contains table headers\n",
    "    df = pd.DataFrame(data=data[1:], columns=cols)\n",
    "    df[\"Player_Link\"] = player_links\n",
    "    \n",
    "    return df"
   ]
  },
  {
   "cell_type": "code",
   "execution_count": 4,
   "metadata": {
    "collapsed": true
   },
   "outputs": [],
   "source": [
    "cols = [\"RSCI_Rank\", \"Player\", \"Draft_Pick\", \"Draft_Year\", \"NBA_EWA\"]"
   ]
  },
  {
   "cell_type": "code",
   "execution_count": 5,
   "metadata": {
    "collapsed": true
   },
   "outputs": [],
   "source": [
    "dfs = []\n",
    "errors = []"
   ]
  },
  {
   "cell_type": "code",
   "execution_count": 6,
   "metadata": {
    "collapsed": false
   },
   "outputs": [],
   "source": [
    "for year in range(1998, 2017):\n",
    "    url = url_template.format(year)\n",
    "    try:\n",
    "        df = create_df(url, cols)\n",
    "        df[\"Rank_Year\"] = year\n",
    "        dfs.append(df)\n",
    "    except Exception as e:\n",
    "        errors.append([url, e])"
   ]
  },
  {
   "cell_type": "code",
   "execution_count": 7,
   "metadata": {
    "collapsed": false
   },
   "outputs": [
    {
     "data": {
      "text/plain": [
       "19"
      ]
     },
     "execution_count": 7,
     "metadata": {},
     "output_type": "execute_result"
    }
   ],
   "source": [
    "len(dfs)"
   ]
  },
  {
   "cell_type": "code",
   "execution_count": 8,
   "metadata": {
    "collapsed": false
   },
   "outputs": [
    {
     "data": {
      "text/plain": [
       "0"
      ]
     },
     "execution_count": 8,
     "metadata": {},
     "output_type": "execute_result"
    }
   ],
   "source": [
    "len(errors)"
   ]
  },
  {
   "cell_type": "code",
   "execution_count": 9,
   "metadata": {
    "collapsed": true
   },
   "outputs": [],
   "source": [
    "df = pd.concat(dfs, ignore_index=True)"
   ]
  },
  {
   "cell_type": "code",
   "execution_count": 10,
   "metadata": {
    "collapsed": false
   },
   "outputs": [
    {
     "name": "stdout",
     "output_type": "stream",
     "text": [
      "<class 'pandas.core.frame.DataFrame'>\n",
      "RangeIndex: 3556 entries, 0 to 3555\n",
      "Data columns (total 7 columns):\n",
      "RSCI_Rank      3556 non-null object\n",
      "Player         3556 non-null object\n",
      "Draft_Pick     3556 non-null object\n",
      "Draft_Year     3556 non-null object\n",
      "NBA_EWA        3556 non-null object\n",
      "Player_Link    3556 non-null object\n",
      "Rank_Year      3556 non-null int64\n",
      "dtypes: int64(1), object(6)\n",
      "memory usage: 194.5+ KB\n"
     ]
    }
   ],
   "source": [
    "df.info()"
   ]
  },
  {
   "cell_type": "code",
   "execution_count": 11,
   "metadata": {
    "collapsed": false
   },
   "outputs": [
    {
     "data": {
      "text/html": [
       "<div>\n",
       "<style>\n",
       "    .dataframe thead tr:only-child th {\n",
       "        text-align: right;\n",
       "    }\n",
       "\n",
       "    .dataframe thead th {\n",
       "        text-align: left;\n",
       "    }\n",
       "\n",
       "    .dataframe tbody tr th {\n",
       "        vertical-align: top;\n",
       "    }\n",
       "</style>\n",
       "<table border=\"1\" class=\"dataframe\">\n",
       "  <thead>\n",
       "    <tr style=\"text-align: right;\">\n",
       "      <th></th>\n",
       "      <th>RSCI_Rank</th>\n",
       "      <th>Player</th>\n",
       "      <th>Draft_Pick</th>\n",
       "      <th>Draft_Year</th>\n",
       "      <th>NBA_EWA</th>\n",
       "      <th>Player_Link</th>\n",
       "      <th>Rank_Year</th>\n",
       "    </tr>\n",
       "  </thead>\n",
       "  <tbody>\n",
       "    <tr>\n",
       "      <th>0</th>\n",
       "      <td>1</td>\n",
       "      <td>\\t\\t\\t\\n\\t\\t\\t\\t\\t\\t\\t\\t\\t\\t\\t\\tAl Harrington\\...</td>\n",
       "      <td>\\n\\t\\t\\t\\t\\t\\t\\t\\t\\t\\t\\t\\t\\t25\\n\\t\\t\\t\\t\\t\\t\\t...</td>\n",
       "      <td>\\n\\t\\t\\t\\t\\t\\t\\t\\t\\t\\t\\t\\t1998\\n\\t\\t\\t\\t\\t\\t\\...</td>\n",
       "      <td>2.65</td>\n",
       "      <td>/profile/Al-Harrington-2734/</td>\n",
       "      <td>1998</td>\n",
       "    </tr>\n",
       "    <tr>\n",
       "      <th>1</th>\n",
       "      <td>2</td>\n",
       "      <td>\\t\\t\\t\\n\\t\\t\\t\\t\\t\\t\\t\\t\\t\\t\\t\\tRashard Lewis\\...</td>\n",
       "      <td>\\n\\t\\t\\t\\t\\t\\t\\t\\t\\t\\t\\t\\t\\t32\\n\\t\\t\\t\\t\\t\\t\\t...</td>\n",
       "      <td>\\n\\t\\t\\t\\t\\t\\t\\t\\t\\t\\t\\t\\t1998\\n\\t\\t\\t\\t\\t\\t\\...</td>\n",
       "      <td>5.85</td>\n",
       "      <td>/profile/Rashard-Lewis-3314/</td>\n",
       "      <td>1998</td>\n",
       "    </tr>\n",
       "    <tr>\n",
       "      <th>2</th>\n",
       "      <td>3</td>\n",
       "      <td>\\t\\t\\t\\n\\t\\t\\t\\t\\t\\t\\t\\t\\t\\t\\t\\tKorleone Young...</td>\n",
       "      <td>\\n\\t\\t\\t\\t\\t\\t\\t\\t\\t\\t\\t\\t\\t40\\n\\t\\t\\t\\t\\t\\t\\t...</td>\n",
       "      <td>\\n\\t\\t\\t\\t\\t\\t\\t\\t\\t\\t\\t\\t1998\\n\\t\\t\\t\\t\\t\\t\\...</td>\n",
       "      <td>0.15</td>\n",
       "      <td>/profile/Korleone-Young-5007/</td>\n",
       "      <td>1998</td>\n",
       "    </tr>\n",
       "    <tr>\n",
       "      <th>3</th>\n",
       "      <td>4</td>\n",
       "      <td>\\t\\t\\t\\n\\t\\t\\t\\t\\t\\t\\t\\t\\t\\t\\t\\tDan Gadzuric\\n...</td>\n",
       "      <td>\\n\\t\\t\\t\\t\\t\\t\\t\\t\\t\\t\\t\\t\\t33\\n\\t\\t\\t\\t\\t\\t\\t...</td>\n",
       "      <td>\\n\\t\\t\\t\\t\\t\\t\\t\\t\\t\\t\\t\\t2002\\n\\t\\t\\t\\t\\t\\t\\...</td>\n",
       "      <td>1.30</td>\n",
       "      <td>/profile/Dan-Gadzuric-2495/</td>\n",
       "      <td>1998</td>\n",
       "    </tr>\n",
       "    <tr>\n",
       "      <th>4</th>\n",
       "      <td>5</td>\n",
       "      <td>\\t\\t\\t\\n\\t\\t\\t\\t\\t\\t\\t\\t\\t\\t\\t\\tStromile Swift...</td>\n",
       "      <td>\\n\\t\\t\\t\\t\\t\\t\\t\\t\\t\\t\\t\\t\\t2\\n\\t\\t\\t\\t\\t\\t\\t\\...</td>\n",
       "      <td>\\n\\t\\t\\t\\t\\t\\t\\t\\t\\t\\t\\t\\t2000\\n\\t\\t\\t\\t\\t\\t\\...</td>\n",
       "      <td>2.57</td>\n",
       "      <td>/profile/Stromile-Swift-4529/</td>\n",
       "      <td>1998</td>\n",
       "    </tr>\n",
       "  </tbody>\n",
       "</table>\n",
       "</div>"
      ],
      "text/plain": [
       "  RSCI_Rank                                             Player  \\\n",
       "0         1  \\t\\t\\t\\n\\t\\t\\t\\t\\t\\t\\t\\t\\t\\t\\t\\tAl Harrington\\...   \n",
       "1         2  \\t\\t\\t\\n\\t\\t\\t\\t\\t\\t\\t\\t\\t\\t\\t\\tRashard Lewis\\...   \n",
       "2         3  \\t\\t\\t\\n\\t\\t\\t\\t\\t\\t\\t\\t\\t\\t\\t\\tKorleone Young...   \n",
       "3         4  \\t\\t\\t\\n\\t\\t\\t\\t\\t\\t\\t\\t\\t\\t\\t\\tDan Gadzuric\\n...   \n",
       "4         5  \\t\\t\\t\\n\\t\\t\\t\\t\\t\\t\\t\\t\\t\\t\\t\\tStromile Swift...   \n",
       "\n",
       "                                          Draft_Pick  \\\n",
       "0  \\n\\t\\t\\t\\t\\t\\t\\t\\t\\t\\t\\t\\t\\t25\\n\\t\\t\\t\\t\\t\\t\\t...   \n",
       "1  \\n\\t\\t\\t\\t\\t\\t\\t\\t\\t\\t\\t\\t\\t32\\n\\t\\t\\t\\t\\t\\t\\t...   \n",
       "2  \\n\\t\\t\\t\\t\\t\\t\\t\\t\\t\\t\\t\\t\\t40\\n\\t\\t\\t\\t\\t\\t\\t...   \n",
       "3  \\n\\t\\t\\t\\t\\t\\t\\t\\t\\t\\t\\t\\t\\t33\\n\\t\\t\\t\\t\\t\\t\\t...   \n",
       "4  \\n\\t\\t\\t\\t\\t\\t\\t\\t\\t\\t\\t\\t\\t2\\n\\t\\t\\t\\t\\t\\t\\t\\...   \n",
       "\n",
       "                                          Draft_Year NBA_EWA  \\\n",
       "0   \\n\\t\\t\\t\\t\\t\\t\\t\\t\\t\\t\\t\\t1998\\n\\t\\t\\t\\t\\t\\t\\...    2.65   \n",
       "1   \\n\\t\\t\\t\\t\\t\\t\\t\\t\\t\\t\\t\\t1998\\n\\t\\t\\t\\t\\t\\t\\...    5.85   \n",
       "2   \\n\\t\\t\\t\\t\\t\\t\\t\\t\\t\\t\\t\\t1998\\n\\t\\t\\t\\t\\t\\t\\...    0.15   \n",
       "3   \\n\\t\\t\\t\\t\\t\\t\\t\\t\\t\\t\\t\\t2002\\n\\t\\t\\t\\t\\t\\t\\...    1.30   \n",
       "4   \\n\\t\\t\\t\\t\\t\\t\\t\\t\\t\\t\\t\\t2000\\n\\t\\t\\t\\t\\t\\t\\...    2.57   \n",
       "\n",
       "                     Player_Link  Rank_Year  \n",
       "0   /profile/Al-Harrington-2734/       1998  \n",
       "1   /profile/Rashard-Lewis-3314/       1998  \n",
       "2  /profile/Korleone-Young-5007/       1998  \n",
       "3    /profile/Dan-Gadzuric-2495/       1998  \n",
       "4  /profile/Stromile-Swift-4529/       1998  "
      ]
     },
     "execution_count": 11,
     "metadata": {},
     "output_type": "execute_result"
    }
   ],
   "source": [
    "df.head()"
   ]
  },
  {
   "cell_type": "code",
   "execution_count": 12,
   "metadata": {
    "collapsed": false
   },
   "outputs": [
    {
     "data": {
      "text/html": [
       "<div>\n",
       "<style>\n",
       "    .dataframe thead tr:only-child th {\n",
       "        text-align: right;\n",
       "    }\n",
       "\n",
       "    .dataframe thead th {\n",
       "        text-align: left;\n",
       "    }\n",
       "\n",
       "    .dataframe tbody tr th {\n",
       "        vertical-align: top;\n",
       "    }\n",
       "</style>\n",
       "<table border=\"1\" class=\"dataframe\">\n",
       "  <thead>\n",
       "    <tr style=\"text-align: right;\">\n",
       "      <th></th>\n",
       "      <th>RSCI_Rank</th>\n",
       "      <th>Player</th>\n",
       "      <th>Draft_Pick</th>\n",
       "      <th>Draft_Year</th>\n",
       "      <th>NBA_EWA</th>\n",
       "      <th>Player_Link</th>\n",
       "      <th>Rank_Year</th>\n",
       "    </tr>\n",
       "  </thead>\n",
       "  <tbody>\n",
       "    <tr>\n",
       "      <th>3551</th>\n",
       "      <td>251</td>\n",
       "      <td>\\t\\t\\t\\n\\t\\t\\t\\t\\t\\t\\t\\t\\t\\t\\t\\tJavien William...</td>\n",
       "      <td>\\n\\t\\t\\t\\t\\t\\t\\t\\t\\t\\t\\t</td>\n",
       "      <td>\\n\\t\\t\\t\\t\\t\\t\\t\\t\\t\\t\\t</td>\n",
       "      <td>-</td>\n",
       "      <td>/profile/Javien-Williams-102571/</td>\n",
       "      <td>2016</td>\n",
       "    </tr>\n",
       "    <tr>\n",
       "      <th>3552</th>\n",
       "      <td>252</td>\n",
       "      <td>\\t\\t\\t\\n\\t\\t\\t\\t\\t\\t\\t\\t\\t\\t\\t\\tCordell Pemsl\\...</td>\n",
       "      <td>\\n\\t\\t\\t\\t\\t\\t\\t\\t\\t\\t\\t</td>\n",
       "      <td>\\n\\t\\t\\t\\t\\t\\t\\t\\t\\t\\t\\t</td>\n",
       "      <td>-</td>\n",
       "      <td>/profile/Cordell-Pemsl-83160/</td>\n",
       "      <td>2016</td>\n",
       "    </tr>\n",
       "    <tr>\n",
       "      <th>3553</th>\n",
       "      <td>253</td>\n",
       "      <td>\\t\\t\\t\\n\\t\\t\\t\\t\\t\\t\\t\\t\\t\\t\\t\\tJoe Hampton\\n\\...</td>\n",
       "      <td>\\n\\t\\t\\t\\t\\t\\t\\t\\t\\t\\t\\t</td>\n",
       "      <td>\\n\\t\\t\\t\\t\\t\\t\\t\\t\\t\\t\\t</td>\n",
       "      <td>-</td>\n",
       "      <td>/profile/Joe-Hampton-83273/</td>\n",
       "      <td>2016</td>\n",
       "    </tr>\n",
       "    <tr>\n",
       "      <th>3554</th>\n",
       "      <td>254</td>\n",
       "      <td>\\t\\t\\t\\n\\t\\t\\t\\t\\t\\t\\t\\t\\t\\t\\t\\tMichael Hurt\\n...</td>\n",
       "      <td>\\n\\t\\t\\t\\t\\t\\t\\t\\t\\t\\t\\t</td>\n",
       "      <td>\\n\\t\\t\\t\\t\\t\\t\\t\\t\\t\\t\\t</td>\n",
       "      <td>-</td>\n",
       "      <td>/profile/Michael-Hurt-84437/</td>\n",
       "      <td>2016</td>\n",
       "    </tr>\n",
       "    <tr>\n",
       "      <th>3555</th>\n",
       "      <td>255</td>\n",
       "      <td>\\t\\t\\t\\n\\t\\t\\t\\t\\t\\t\\t\\t\\t\\t\\t\\tJosh Parrish\\n...</td>\n",
       "      <td>\\n\\t\\t\\t\\t\\t\\t\\t\\t\\t\\t\\t</td>\n",
       "      <td>\\n\\t\\t\\t\\t\\t\\t\\t\\t\\t\\t\\t</td>\n",
       "      <td>-</td>\n",
       "      <td>/profile/Josh-Parrish-82193/</td>\n",
       "      <td>2016</td>\n",
       "    </tr>\n",
       "  </tbody>\n",
       "</table>\n",
       "</div>"
      ],
      "text/plain": [
       "     RSCI_Rank                                             Player  \\\n",
       "3551       251  \\t\\t\\t\\n\\t\\t\\t\\t\\t\\t\\t\\t\\t\\t\\t\\tJavien William...   \n",
       "3552       252  \\t\\t\\t\\n\\t\\t\\t\\t\\t\\t\\t\\t\\t\\t\\t\\tCordell Pemsl\\...   \n",
       "3553       253  \\t\\t\\t\\n\\t\\t\\t\\t\\t\\t\\t\\t\\t\\t\\t\\tJoe Hampton\\n\\...   \n",
       "3554       254  \\t\\t\\t\\n\\t\\t\\t\\t\\t\\t\\t\\t\\t\\t\\t\\tMichael Hurt\\n...   \n",
       "3555       255  \\t\\t\\t\\n\\t\\t\\t\\t\\t\\t\\t\\t\\t\\t\\t\\tJosh Parrish\\n...   \n",
       "\n",
       "                    Draft_Pick                 Draft_Year NBA_EWA  \\\n",
       "3551  \\n\\t\\t\\t\\t\\t\\t\\t\\t\\t\\t\\t   \\n\\t\\t\\t\\t\\t\\t\\t\\t\\t\\t\\t       -   \n",
       "3552  \\n\\t\\t\\t\\t\\t\\t\\t\\t\\t\\t\\t   \\n\\t\\t\\t\\t\\t\\t\\t\\t\\t\\t\\t       -   \n",
       "3553  \\n\\t\\t\\t\\t\\t\\t\\t\\t\\t\\t\\t   \\n\\t\\t\\t\\t\\t\\t\\t\\t\\t\\t\\t       -   \n",
       "3554  \\n\\t\\t\\t\\t\\t\\t\\t\\t\\t\\t\\t   \\n\\t\\t\\t\\t\\t\\t\\t\\t\\t\\t\\t       -   \n",
       "3555  \\n\\t\\t\\t\\t\\t\\t\\t\\t\\t\\t\\t   \\n\\t\\t\\t\\t\\t\\t\\t\\t\\t\\t\\t       -   \n",
       "\n",
       "                           Player_Link  Rank_Year  \n",
       "3551  /profile/Javien-Williams-102571/       2016  \n",
       "3552     /profile/Cordell-Pemsl-83160/       2016  \n",
       "3553       /profile/Joe-Hampton-83273/       2016  \n",
       "3554      /profile/Michael-Hurt-84437/       2016  \n",
       "3555      /profile/Josh-Parrish-82193/       2016  "
      ]
     },
     "execution_count": 12,
     "metadata": {},
     "output_type": "execute_result"
    }
   ],
   "source": [
    "df.tail()"
   ]
  },
  {
   "cell_type": "code",
   "execution_count": 13,
   "metadata": {
    "collapsed": false
   },
   "outputs": [
    {
     "data": {
      "text/html": [
       "<div>\n",
       "<style>\n",
       "    .dataframe thead tr:only-child th {\n",
       "        text-align: right;\n",
       "    }\n",
       "\n",
       "    .dataframe thead th {\n",
       "        text-align: left;\n",
       "    }\n",
       "\n",
       "    .dataframe tbody tr th {\n",
       "        vertical-align: top;\n",
       "    }\n",
       "</style>\n",
       "<table border=\"1\" class=\"dataframe\">\n",
       "  <thead>\n",
       "    <tr style=\"text-align: right;\">\n",
       "      <th></th>\n",
       "      <th>RSCI_Rank</th>\n",
       "      <th>Player</th>\n",
       "      <th>Draft_Pick</th>\n",
       "      <th>Draft_Year</th>\n",
       "      <th>NBA_EWA</th>\n",
       "      <th>Player_Link</th>\n",
       "      <th>Rank_Year</th>\n",
       "      <th>DX_Player_ID</th>\n",
       "    </tr>\n",
       "  </thead>\n",
       "  <tbody>\n",
       "    <tr>\n",
       "      <th>0</th>\n",
       "      <td>1</td>\n",
       "      <td>\\t\\t\\t\\n\\t\\t\\t\\t\\t\\t\\t\\t\\t\\t\\t\\tAl Harrington\\...</td>\n",
       "      <td>\\n\\t\\t\\t\\t\\t\\t\\t\\t\\t\\t\\t\\t\\t25\\n\\t\\t\\t\\t\\t\\t\\t...</td>\n",
       "      <td>\\n\\t\\t\\t\\t\\t\\t\\t\\t\\t\\t\\t\\t1998\\n\\t\\t\\t\\t\\t\\t\\...</td>\n",
       "      <td>2.65</td>\n",
       "      <td>/profile/Al-Harrington-2734/</td>\n",
       "      <td>1998</td>\n",
       "      <td>Al-Harrington-2734</td>\n",
       "    </tr>\n",
       "    <tr>\n",
       "      <th>1</th>\n",
       "      <td>2</td>\n",
       "      <td>\\t\\t\\t\\n\\t\\t\\t\\t\\t\\t\\t\\t\\t\\t\\t\\tRashard Lewis\\...</td>\n",
       "      <td>\\n\\t\\t\\t\\t\\t\\t\\t\\t\\t\\t\\t\\t\\t32\\n\\t\\t\\t\\t\\t\\t\\t...</td>\n",
       "      <td>\\n\\t\\t\\t\\t\\t\\t\\t\\t\\t\\t\\t\\t1998\\n\\t\\t\\t\\t\\t\\t\\...</td>\n",
       "      <td>5.85</td>\n",
       "      <td>/profile/Rashard-Lewis-3314/</td>\n",
       "      <td>1998</td>\n",
       "      <td>Rashard-Lewis-3314</td>\n",
       "    </tr>\n",
       "    <tr>\n",
       "      <th>2</th>\n",
       "      <td>3</td>\n",
       "      <td>\\t\\t\\t\\n\\t\\t\\t\\t\\t\\t\\t\\t\\t\\t\\t\\tKorleone Young...</td>\n",
       "      <td>\\n\\t\\t\\t\\t\\t\\t\\t\\t\\t\\t\\t\\t\\t40\\n\\t\\t\\t\\t\\t\\t\\t...</td>\n",
       "      <td>\\n\\t\\t\\t\\t\\t\\t\\t\\t\\t\\t\\t\\t1998\\n\\t\\t\\t\\t\\t\\t\\...</td>\n",
       "      <td>0.15</td>\n",
       "      <td>/profile/Korleone-Young-5007/</td>\n",
       "      <td>1998</td>\n",
       "      <td>Korleone-Young-5007</td>\n",
       "    </tr>\n",
       "    <tr>\n",
       "      <th>3</th>\n",
       "      <td>4</td>\n",
       "      <td>\\t\\t\\t\\n\\t\\t\\t\\t\\t\\t\\t\\t\\t\\t\\t\\tDan Gadzuric\\n...</td>\n",
       "      <td>\\n\\t\\t\\t\\t\\t\\t\\t\\t\\t\\t\\t\\t\\t33\\n\\t\\t\\t\\t\\t\\t\\t...</td>\n",
       "      <td>\\n\\t\\t\\t\\t\\t\\t\\t\\t\\t\\t\\t\\t2002\\n\\t\\t\\t\\t\\t\\t\\...</td>\n",
       "      <td>1.30</td>\n",
       "      <td>/profile/Dan-Gadzuric-2495/</td>\n",
       "      <td>1998</td>\n",
       "      <td>Dan-Gadzuric-2495</td>\n",
       "    </tr>\n",
       "    <tr>\n",
       "      <th>4</th>\n",
       "      <td>5</td>\n",
       "      <td>\\t\\t\\t\\n\\t\\t\\t\\t\\t\\t\\t\\t\\t\\t\\t\\tStromile Swift...</td>\n",
       "      <td>\\n\\t\\t\\t\\t\\t\\t\\t\\t\\t\\t\\t\\t\\t2\\n\\t\\t\\t\\t\\t\\t\\t\\...</td>\n",
       "      <td>\\n\\t\\t\\t\\t\\t\\t\\t\\t\\t\\t\\t\\t2000\\n\\t\\t\\t\\t\\t\\t\\...</td>\n",
       "      <td>2.57</td>\n",
       "      <td>/profile/Stromile-Swift-4529/</td>\n",
       "      <td>1998</td>\n",
       "      <td>Stromile-Swift-4529</td>\n",
       "    </tr>\n",
       "  </tbody>\n",
       "</table>\n",
       "</div>"
      ],
      "text/plain": [
       "  RSCI_Rank                                             Player  \\\n",
       "0         1  \\t\\t\\t\\n\\t\\t\\t\\t\\t\\t\\t\\t\\t\\t\\t\\tAl Harrington\\...   \n",
       "1         2  \\t\\t\\t\\n\\t\\t\\t\\t\\t\\t\\t\\t\\t\\t\\t\\tRashard Lewis\\...   \n",
       "2         3  \\t\\t\\t\\n\\t\\t\\t\\t\\t\\t\\t\\t\\t\\t\\t\\tKorleone Young...   \n",
       "3         4  \\t\\t\\t\\n\\t\\t\\t\\t\\t\\t\\t\\t\\t\\t\\t\\tDan Gadzuric\\n...   \n",
       "4         5  \\t\\t\\t\\n\\t\\t\\t\\t\\t\\t\\t\\t\\t\\t\\t\\tStromile Swift...   \n",
       "\n",
       "                                          Draft_Pick  \\\n",
       "0  \\n\\t\\t\\t\\t\\t\\t\\t\\t\\t\\t\\t\\t\\t25\\n\\t\\t\\t\\t\\t\\t\\t...   \n",
       "1  \\n\\t\\t\\t\\t\\t\\t\\t\\t\\t\\t\\t\\t\\t32\\n\\t\\t\\t\\t\\t\\t\\t...   \n",
       "2  \\n\\t\\t\\t\\t\\t\\t\\t\\t\\t\\t\\t\\t\\t40\\n\\t\\t\\t\\t\\t\\t\\t...   \n",
       "3  \\n\\t\\t\\t\\t\\t\\t\\t\\t\\t\\t\\t\\t\\t33\\n\\t\\t\\t\\t\\t\\t\\t...   \n",
       "4  \\n\\t\\t\\t\\t\\t\\t\\t\\t\\t\\t\\t\\t\\t2\\n\\t\\t\\t\\t\\t\\t\\t\\...   \n",
       "\n",
       "                                          Draft_Year NBA_EWA  \\\n",
       "0   \\n\\t\\t\\t\\t\\t\\t\\t\\t\\t\\t\\t\\t1998\\n\\t\\t\\t\\t\\t\\t\\...    2.65   \n",
       "1   \\n\\t\\t\\t\\t\\t\\t\\t\\t\\t\\t\\t\\t1998\\n\\t\\t\\t\\t\\t\\t\\...    5.85   \n",
       "2   \\n\\t\\t\\t\\t\\t\\t\\t\\t\\t\\t\\t\\t1998\\n\\t\\t\\t\\t\\t\\t\\...    0.15   \n",
       "3   \\n\\t\\t\\t\\t\\t\\t\\t\\t\\t\\t\\t\\t2002\\n\\t\\t\\t\\t\\t\\t\\...    1.30   \n",
       "4   \\n\\t\\t\\t\\t\\t\\t\\t\\t\\t\\t\\t\\t2000\\n\\t\\t\\t\\t\\t\\t\\...    2.57   \n",
       "\n",
       "                     Player_Link  Rank_Year         DX_Player_ID  \n",
       "0   /profile/Al-Harrington-2734/       1998   Al-Harrington-2734  \n",
       "1   /profile/Rashard-Lewis-3314/       1998   Rashard-Lewis-3314  \n",
       "2  /profile/Korleone-Young-5007/       1998  Korleone-Young-5007  \n",
       "3    /profile/Dan-Gadzuric-2495/       1998    Dan-Gadzuric-2495  \n",
       "4  /profile/Stromile-Swift-4529/       1998  Stromile-Swift-4529  "
      ]
     },
     "execution_count": 13,
     "metadata": {},
     "output_type": "execute_result"
    }
   ],
   "source": [
    "df[\"DX_Player_ID\"] = df.Player_Link.str.extract(\"/.*/(.*)/\", expand=False)\n",
    "df.head()"
   ]
  },
  {
   "cell_type": "code",
   "execution_count": 14,
   "metadata": {
    "collapsed": true
   },
   "outputs": [],
   "source": [
    "df.to_csv(\"raw_data/draft_express_player_RSCI_ranks_07_10_17.csv\", \n",
    "          index=False)"
   ]
  }
 ],
 "metadata": {
  "kernelspec": {
   "display_name": "Python 3",
   "language": "python",
   "name": "python3"
  },
  "language_info": {
   "codemirror_mode": {
    "name": "ipython",
    "version": 3
   },
   "file_extension": ".py",
   "mimetype": "text/x-python",
   "name": "python",
   "nbconvert_exporter": "python",
   "pygments_lexer": "ipython3",
   "version": "3.6.0"
  }
 },
 "nbformat": 4,
 "nbformat_minor": 2
}
