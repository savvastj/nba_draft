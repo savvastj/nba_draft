{
 "cells": [
  {
   "cell_type": "code",
   "execution_count": 1,
   "metadata": {
    "collapsed": true
   },
   "outputs": [],
   "source": [
    "import requests\n",
    "from pyquery import PyQuery as pq\n",
    "import pandas as pd"
   ]
  },
  {
   "cell_type": "code",
   "execution_count": 2,
   "metadata": {
    "collapsed": true
   },
   "outputs": [],
   "source": [
    "player_df = pd.read_csv(\"processed_data/bref_player_info_and_id_06_06_17.csv\")"
   ]
  },
  {
   "cell_type": "code",
   "execution_count": 3,
   "metadata": {
    "collapsed": false
   },
   "outputs": [
    {
     "name": "stdout",
     "output_type": "stream",
     "text": [
      "<class 'pandas.core.frame.DataFrame'>\n",
      "RangeIndex: 4460 entries, 0 to 4459\n",
      "Data columns (total 12 columns):\n",
      "Player        4460 non-null object\n",
      "From          4460 non-null int64\n",
      "To            4460 non-null int64\n",
      "Pos           4459 non-null object\n",
      "Ht            4459 non-null object\n",
      "Wt            4454 non-null float64\n",
      "Birth_Date    4429 non-null object\n",
      "College       4169 non-null object\n",
      "Link          4460 non-null object\n",
      "Bref_ID       4460 non-null object\n",
      "HOF           4460 non-null int64\n",
      "Ht_Inches     4459 non-null float64\n",
      "dtypes: float64(2), int64(3), object(7)\n",
      "memory usage: 418.2+ KB\n"
     ]
    }
   ],
   "source": [
    "player_df.info()"
   ]
  },
  {
   "cell_type": "code",
   "execution_count": 4,
   "metadata": {
    "collapsed": false
   },
   "outputs": [
    {
     "data": {
      "text/html": [
       "<div>\n",
       "<style>\n",
       "    .dataframe thead tr:only-child th {\n",
       "        text-align: right;\n",
       "    }\n",
       "\n",
       "    .dataframe thead th {\n",
       "        text-align: left;\n",
       "    }\n",
       "\n",
       "    .dataframe tbody tr th {\n",
       "        vertical-align: top;\n",
       "    }\n",
       "</style>\n",
       "<table border=\"1\" class=\"dataframe\">\n",
       "  <thead>\n",
       "    <tr style=\"text-align: right;\">\n",
       "      <th></th>\n",
       "      <th>Player</th>\n",
       "      <th>From</th>\n",
       "      <th>To</th>\n",
       "      <th>Pos</th>\n",
       "      <th>Ht</th>\n",
       "      <th>Wt</th>\n",
       "      <th>Birth_Date</th>\n",
       "      <th>College</th>\n",
       "      <th>Link</th>\n",
       "      <th>Bref_ID</th>\n",
       "      <th>HOF</th>\n",
       "      <th>Ht_Inches</th>\n",
       "    </tr>\n",
       "  </thead>\n",
       "  <tbody>\n",
       "    <tr>\n",
       "      <th>0</th>\n",
       "      <td>Alaa Abdelnaby</td>\n",
       "      <td>1991</td>\n",
       "      <td>1995</td>\n",
       "      <td>F-C</td>\n",
       "      <td>6-10</td>\n",
       "      <td>240.0</td>\n",
       "      <td>1968-06-24</td>\n",
       "      <td>Duke University</td>\n",
       "      <td>/players/a/abdelal01.html</td>\n",
       "      <td>abdelal01</td>\n",
       "      <td>0</td>\n",
       "      <td>82.0</td>\n",
       "    </tr>\n",
       "    <tr>\n",
       "      <th>1</th>\n",
       "      <td>Zaid Abdul-Aziz</td>\n",
       "      <td>1969</td>\n",
       "      <td>1978</td>\n",
       "      <td>C-F</td>\n",
       "      <td>6-9</td>\n",
       "      <td>235.0</td>\n",
       "      <td>1946-04-07</td>\n",
       "      <td>Iowa State University</td>\n",
       "      <td>/players/a/abdulza01.html</td>\n",
       "      <td>abdulza01</td>\n",
       "      <td>0</td>\n",
       "      <td>81.0</td>\n",
       "    </tr>\n",
       "    <tr>\n",
       "      <th>2</th>\n",
       "      <td>Kareem Abdul-Jabbar</td>\n",
       "      <td>1970</td>\n",
       "      <td>1989</td>\n",
       "      <td>C</td>\n",
       "      <td>7-2</td>\n",
       "      <td>225.0</td>\n",
       "      <td>1947-04-16</td>\n",
       "      <td>University of California, Los Angeles</td>\n",
       "      <td>/players/a/abdulka01.html</td>\n",
       "      <td>abdulka01</td>\n",
       "      <td>1</td>\n",
       "      <td>86.0</td>\n",
       "    </tr>\n",
       "    <tr>\n",
       "      <th>3</th>\n",
       "      <td>Mahmoud Abdul-Rauf</td>\n",
       "      <td>1991</td>\n",
       "      <td>2001</td>\n",
       "      <td>G</td>\n",
       "      <td>6-1</td>\n",
       "      <td>162.0</td>\n",
       "      <td>1969-03-09</td>\n",
       "      <td>Louisiana State University</td>\n",
       "      <td>/players/a/abdulma02.html</td>\n",
       "      <td>abdulma02</td>\n",
       "      <td>0</td>\n",
       "      <td>73.0</td>\n",
       "    </tr>\n",
       "    <tr>\n",
       "      <th>4</th>\n",
       "      <td>Tariq Abdul-Wahad</td>\n",
       "      <td>1998</td>\n",
       "      <td>2003</td>\n",
       "      <td>F</td>\n",
       "      <td>6-6</td>\n",
       "      <td>223.0</td>\n",
       "      <td>1974-11-03</td>\n",
       "      <td>San Jose State University</td>\n",
       "      <td>/players/a/abdulta01.html</td>\n",
       "      <td>abdulta01</td>\n",
       "      <td>0</td>\n",
       "      <td>78.0</td>\n",
       "    </tr>\n",
       "  </tbody>\n",
       "</table>\n",
       "</div>"
      ],
      "text/plain": [
       "                Player  From    To  Pos    Ht     Wt  Birth_Date  \\\n",
       "0       Alaa Abdelnaby  1991  1995  F-C  6-10  240.0  1968-06-24   \n",
       "1      Zaid Abdul-Aziz  1969  1978  C-F   6-9  235.0  1946-04-07   \n",
       "2  Kareem Abdul-Jabbar  1970  1989    C   7-2  225.0  1947-04-16   \n",
       "3   Mahmoud Abdul-Rauf  1991  2001    G   6-1  162.0  1969-03-09   \n",
       "4    Tariq Abdul-Wahad  1998  2003    F   6-6  223.0  1974-11-03   \n",
       "\n",
       "                                 College                       Link  \\\n",
       "0                        Duke University  /players/a/abdelal01.html   \n",
       "1                  Iowa State University  /players/a/abdulza01.html   \n",
       "2  University of California, Los Angeles  /players/a/abdulka01.html   \n",
       "3             Louisiana State University  /players/a/abdulma02.html   \n",
       "4              San Jose State University  /players/a/abdulta01.html   \n",
       "\n",
       "     Bref_ID  HOF  Ht_Inches  \n",
       "0  abdelal01    0       82.0  \n",
       "1  abdulza01    0       81.0  \n",
       "2  abdulka01    1       86.0  \n",
       "3  abdulma02    0       73.0  \n",
       "4  abdulta01    0       78.0  "
      ]
     },
     "execution_count": 4,
     "metadata": {},
     "output_type": "execute_result"
    }
   ],
   "source": [
    "player_df.head()"
   ]
  },
  {
   "cell_type": "code",
   "execution_count": 5,
   "metadata": {
    "collapsed": true
   },
   "outputs": [],
   "source": [
    "def scrape_cbb_id(link):\n",
    "    try:\n",
    "        url = \"http://www.basketball-reference.com\" + link\n",
    "        response = requests.get(url)\n",
    "        html = response.text.replace('<!--', '').replace('-->', '')\n",
    "        d = pq(html)\n",
    "        inner_nav_links = d(\"#inner_nav > ul > li.condensed.hasmore > div > ul > li > a\")\n",
    "        list_text = [i.text_content() for i in inner_nav_links]\n",
    "        # get the index of the sublist that contains the substring about \n",
    "        # college stats\n",
    "        college_text = \"College Basketball at Sports-Reference.com\"\n",
    "        idx = [i for i, s in enumerate(list_text) if college_text in s][0]\n",
    "        college_li = inner_nav_links[idx]\n",
    "        link = college_li.attrib[\"href\"]\n",
    "        return link\n",
    "    except Exception as e:\n",
    "        return [url, e]"
   ]
  },
  {
   "cell_type": "code",
   "execution_count": 6,
   "metadata": {
    "collapsed": true
   },
   "outputs": [],
   "source": [
    "test_run = player_df.loc[:5, \"Link\"].apply(scrape_cbb_id)"
   ]
  },
  {
   "cell_type": "code",
   "execution_count": 7,
   "metadata": {
    "collapsed": false
   },
   "outputs": [
    {
     "data": {
      "text/plain": [
       "0    http://www.sports-reference.com/cbb/players/al...\n",
       "1    [http://www.basketball-reference.com/players/a...\n",
       "2    http://www.sports-reference.com/cbb/players/ka...\n",
       "3    http://www.sports-reference.com/cbb/players/ma...\n",
       "4    [http://www.basketball-reference.com/players/a...\n",
       "5    http://www.sports-reference.com/cbb/players/sh...\n",
       "Name: Link, dtype: object"
      ]
     },
     "execution_count": 7,
     "metadata": {},
     "output_type": "execute_result"
    }
   ],
   "source": [
    "test_run"
   ]
  },
  {
   "cell_type": "code",
   "execution_count": 8,
   "metadata": {
    "collapsed": false
   },
   "outputs": [
    {
     "data": {
      "text/plain": [
       "'http://www.sports-reference.com/cbb/players/alaa-abdelnaby-1.html'"
      ]
     },
     "execution_count": 8,
     "metadata": {},
     "output_type": "execute_result"
    }
   ],
   "source": [
    "test_run[0]"
   ]
  },
  {
   "cell_type": "code",
   "execution_count": 9,
   "metadata": {
    "collapsed": false
   },
   "outputs": [
    {
     "data": {
      "text/plain": [
       "['http://www.basketball-reference.com/players/a/abdulza01.html',\n",
       " IndexError('list index out of range')]"
      ]
     },
     "execution_count": 9,
     "metadata": {},
     "output_type": "execute_result"
    }
   ],
   "source": [
    "test_run[1]"
   ]
  },
  {
   "cell_type": "code",
   "execution_count": 12,
   "metadata": {
    "collapsed": true
   },
   "outputs": [],
   "source": [
    "cbb_ids = player_df.Link.apply(scrape_cbb_id)"
   ]
  },
  {
   "cell_type": "code",
   "execution_count": 13,
   "metadata": {
    "collapsed": false
   },
   "outputs": [],
   "source": [
    "player_df[\"cbb_info\"] = cbb_ids\n",
    "player_df.to_csv(\"raw_data/cbb_id_info.csv\", index=False)"
   ]
  },
  {
   "cell_type": "code",
   "execution_count": 15,
   "metadata": {
    "collapsed": false
   },
   "outputs": [
    {
     "data": {
      "text/plain": [
       "0        <class 'str'>\n",
       "1       <class 'list'>\n",
       "2        <class 'str'>\n",
       "3        <class 'str'>\n",
       "4       <class 'list'>\n",
       "5        <class 'str'>\n",
       "6        <class 'str'>\n",
       "7       <class 'list'>\n",
       "8       <class 'list'>\n",
       "9       <class 'list'>\n",
       "10       <class 'str'>\n",
       "11      <class 'list'>\n",
       "12       <class 'str'>\n",
       "13      <class 'list'>\n",
       "14       <class 'str'>\n",
       "15       <class 'str'>\n",
       "16      <class 'list'>\n",
       "17      <class 'list'>\n",
       "18       <class 'str'>\n",
       "19       <class 'str'>\n",
       "20       <class 'str'>\n",
       "21       <class 'str'>\n",
       "22       <class 'str'>\n",
       "23      <class 'list'>\n",
       "24       <class 'str'>\n",
       "25       <class 'str'>\n",
       "26       <class 'str'>\n",
       "27       <class 'str'>\n",
       "28       <class 'str'>\n",
       "29       <class 'str'>\n",
       "             ...      \n",
       "4430     <class 'str'>\n",
       "4431     <class 'str'>\n",
       "4432     <class 'str'>\n",
       "4433    <class 'list'>\n",
       "4434     <class 'str'>\n",
       "4435     <class 'str'>\n",
       "4436     <class 'str'>\n",
       "4437     <class 'str'>\n",
       "4438     <class 'str'>\n",
       "4439    <class 'list'>\n",
       "4440    <class 'list'>\n",
       "4441     <class 'str'>\n",
       "4442    <class 'list'>\n",
       "4443     <class 'str'>\n",
       "4444    <class 'list'>\n",
       "4445    <class 'list'>\n",
       "4446    <class 'list'>\n",
       "4447     <class 'str'>\n",
       "4448     <class 'str'>\n",
       "4449     <class 'str'>\n",
       "4450     <class 'str'>\n",
       "4451    <class 'list'>\n",
       "4452     <class 'str'>\n",
       "4453     <class 'str'>\n",
       "4454     <class 'str'>\n",
       "4455    <class 'list'>\n",
       "4456     <class 'str'>\n",
       "4457    <class 'list'>\n",
       "4458    <class 'list'>\n",
       "4459    <class 'list'>\n",
       "Name: Link, Length: 4460, dtype: object"
      ]
     },
     "execution_count": 15,
     "metadata": {},
     "output_type": "execute_result"
    }
   ],
   "source": [
    "cbb_ids.apply(type)"
   ]
  },
  {
   "cell_type": "code",
   "execution_count": 16,
   "metadata": {
    "collapsed": false
   },
   "outputs": [
    {
     "data": {
      "text/html": [
       "<div>\n",
       "<style>\n",
       "    .dataframe thead tr:only-child th {\n",
       "        text-align: right;\n",
       "    }\n",
       "\n",
       "    .dataframe thead th {\n",
       "        text-align: left;\n",
       "    }\n",
       "\n",
       "    .dataframe tbody tr th {\n",
       "        vertical-align: top;\n",
       "    }\n",
       "</style>\n",
       "<table border=\"1\" class=\"dataframe\">\n",
       "  <thead>\n",
       "    <tr style=\"text-align: right;\">\n",
       "      <th></th>\n",
       "      <th>Player</th>\n",
       "      <th>From</th>\n",
       "      <th>To</th>\n",
       "      <th>Pos</th>\n",
       "      <th>Ht</th>\n",
       "      <th>Wt</th>\n",
       "      <th>Birth_Date</th>\n",
       "      <th>College</th>\n",
       "      <th>Link</th>\n",
       "      <th>Bref_ID</th>\n",
       "      <th>HOF</th>\n",
       "      <th>Ht_Inches</th>\n",
       "      <th>cbb_info</th>\n",
       "    </tr>\n",
       "  </thead>\n",
       "  <tbody>\n",
       "    <tr>\n",
       "      <th>0</th>\n",
       "      <td>Alaa Abdelnaby</td>\n",
       "      <td>1991</td>\n",
       "      <td>1995</td>\n",
       "      <td>F-C</td>\n",
       "      <td>6-10</td>\n",
       "      <td>240.0</td>\n",
       "      <td>1968-06-24</td>\n",
       "      <td>Duke University</td>\n",
       "      <td>/players/a/abdelal01.html</td>\n",
       "      <td>abdelal01</td>\n",
       "      <td>0</td>\n",
       "      <td>82.0</td>\n",
       "      <td>http://www.sports-reference.com/cbb/players/al...</td>\n",
       "    </tr>\n",
       "    <tr>\n",
       "      <th>1</th>\n",
       "      <td>Zaid Abdul-Aziz</td>\n",
       "      <td>1969</td>\n",
       "      <td>1978</td>\n",
       "      <td>C-F</td>\n",
       "      <td>6-9</td>\n",
       "      <td>235.0</td>\n",
       "      <td>1946-04-07</td>\n",
       "      <td>Iowa State University</td>\n",
       "      <td>/players/a/abdulza01.html</td>\n",
       "      <td>abdulza01</td>\n",
       "      <td>0</td>\n",
       "      <td>81.0</td>\n",
       "      <td>[http://www.basketball-reference.com/players/a...</td>\n",
       "    </tr>\n",
       "    <tr>\n",
       "      <th>2</th>\n",
       "      <td>Kareem Abdul-Jabbar</td>\n",
       "      <td>1970</td>\n",
       "      <td>1989</td>\n",
       "      <td>C</td>\n",
       "      <td>7-2</td>\n",
       "      <td>225.0</td>\n",
       "      <td>1947-04-16</td>\n",
       "      <td>University of California, Los Angeles</td>\n",
       "      <td>/players/a/abdulka01.html</td>\n",
       "      <td>abdulka01</td>\n",
       "      <td>1</td>\n",
       "      <td>86.0</td>\n",
       "      <td>http://www.sports-reference.com/cbb/players/ka...</td>\n",
       "    </tr>\n",
       "    <tr>\n",
       "      <th>3</th>\n",
       "      <td>Mahmoud Abdul-Rauf</td>\n",
       "      <td>1991</td>\n",
       "      <td>2001</td>\n",
       "      <td>G</td>\n",
       "      <td>6-1</td>\n",
       "      <td>162.0</td>\n",
       "      <td>1969-03-09</td>\n",
       "      <td>Louisiana State University</td>\n",
       "      <td>/players/a/abdulma02.html</td>\n",
       "      <td>abdulma02</td>\n",
       "      <td>0</td>\n",
       "      <td>73.0</td>\n",
       "      <td>http://www.sports-reference.com/cbb/players/ma...</td>\n",
       "    </tr>\n",
       "    <tr>\n",
       "      <th>4</th>\n",
       "      <td>Tariq Abdul-Wahad</td>\n",
       "      <td>1998</td>\n",
       "      <td>2003</td>\n",
       "      <td>F</td>\n",
       "      <td>6-6</td>\n",
       "      <td>223.0</td>\n",
       "      <td>1974-11-03</td>\n",
       "      <td>San Jose State University</td>\n",
       "      <td>/players/a/abdulta01.html</td>\n",
       "      <td>abdulta01</td>\n",
       "      <td>0</td>\n",
       "      <td>78.0</td>\n",
       "      <td>[http://www.basketball-reference.com/players/a...</td>\n",
       "    </tr>\n",
       "  </tbody>\n",
       "</table>\n",
       "</div>"
      ],
      "text/plain": [
       "                Player  From    To  Pos    Ht     Wt  Birth_Date  \\\n",
       "0       Alaa Abdelnaby  1991  1995  F-C  6-10  240.0  1968-06-24   \n",
       "1      Zaid Abdul-Aziz  1969  1978  C-F   6-9  235.0  1946-04-07   \n",
       "2  Kareem Abdul-Jabbar  1970  1989    C   7-2  225.0  1947-04-16   \n",
       "3   Mahmoud Abdul-Rauf  1991  2001    G   6-1  162.0  1969-03-09   \n",
       "4    Tariq Abdul-Wahad  1998  2003    F   6-6  223.0  1974-11-03   \n",
       "\n",
       "                                 College                       Link  \\\n",
       "0                        Duke University  /players/a/abdelal01.html   \n",
       "1                  Iowa State University  /players/a/abdulza01.html   \n",
       "2  University of California, Los Angeles  /players/a/abdulka01.html   \n",
       "3             Louisiana State University  /players/a/abdulma02.html   \n",
       "4              San Jose State University  /players/a/abdulta01.html   \n",
       "\n",
       "     Bref_ID  HOF  Ht_Inches  \\\n",
       "0  abdelal01    0       82.0   \n",
       "1  abdulza01    0       81.0   \n",
       "2  abdulka01    1       86.0   \n",
       "3  abdulma02    0       73.0   \n",
       "4  abdulta01    0       78.0   \n",
       "\n",
       "                                            cbb_info  \n",
       "0  http://www.sports-reference.com/cbb/players/al...  \n",
       "1  [http://www.basketball-reference.com/players/a...  \n",
       "2  http://www.sports-reference.com/cbb/players/ka...  \n",
       "3  http://www.sports-reference.com/cbb/players/ma...  \n",
       "4  [http://www.basketball-reference.com/players/a...  "
      ]
     },
     "execution_count": 16,
     "metadata": {},
     "output_type": "execute_result"
    }
   ],
   "source": [
    "player_df.head()"
   ]
  },
  {
   "cell_type": "code",
   "execution_count": 25,
   "metadata": {
    "collapsed": false
   },
   "outputs": [],
   "source": [
    "is_list = player_df.cbb_info.apply(isinstance, args=(list,))"
   ]
  },
  {
   "cell_type": "code",
   "execution_count": 29,
   "metadata": {
    "collapsed": false
   },
   "outputs": [
    {
     "data": {
      "text/plain": [
       "1968"
      ]
     },
     "execution_count": 29,
     "metadata": {},
     "output_type": "execute_result"
    }
   ],
   "source": [
    "len(player_df.loc[is_list, \"cbb_info\"])"
   ]
  },
  {
   "cell_type": "code",
   "execution_count": 30,
   "metadata": {
    "collapsed": true
   },
   "outputs": [],
   "source": [
    "player_df.loc[is_list, \"cbb_info\"] = \"\""
   ]
  },
  {
   "cell_type": "code",
   "execution_count": 31,
   "metadata": {
    "collapsed": true
   },
   "outputs": [],
   "source": [
    "player_df2 = player_df.loc[:, [\"Bref_ID\", \"cbb_info\"]]"
   ]
  },
  {
   "cell_type": "code",
   "execution_count": 33,
   "metadata": {
    "collapsed": false
   },
   "outputs": [],
   "source": [
    "player_df2.rename(columns={\"cbb_info\": \"Sref_Cbb_ID\"}, inplace=True)"
   ]
  },
  {
   "cell_type": "code",
   "execution_count": 35,
   "metadata": {
    "collapsed": false
   },
   "outputs": [],
   "source": [
    "player_df2[\"Sref_Cbb_ID\"] = player_df2.Sref_Cbb_ID.str.extract(\"/.*/.*/(.*)\\.\", \n",
    "                                                               expand=False)"
   ]
  },
  {
   "cell_type": "code",
   "execution_count": 36,
   "metadata": {
    "collapsed": true
   },
   "outputs": [],
   "source": [
    "player_df2.to_csv(\"processed_data/sref_cbb_ids_07_07_17.csv\", index=False)"
   ]
  }
 ],
 "metadata": {
  "kernelspec": {
   "display_name": "Python 3",
   "language": "python",
   "name": "python3"
  },
  "language_info": {
   "codemirror_mode": {
    "name": "ipython",
    "version": 3
   },
   "file_extension": ".py",
   "mimetype": "text/x-python",
   "name": "python",
   "nbconvert_exporter": "python",
   "pygments_lexer": "ipython3",
   "version": "3.6.0"
  }
 },
 "nbformat": 4,
 "nbformat_minor": 2
}
