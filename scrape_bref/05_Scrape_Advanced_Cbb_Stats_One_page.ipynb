{
 "cells": [
  {
   "cell_type": "code",
   "execution_count": 1,
   "metadata": {
    "collapsed": true
   },
   "outputs": [],
   "source": [
    "import requests\n",
    "from pyquery import PyQuery as pq\n",
    "import pandas as pd"
   ]
  },
  {
   "cell_type": "markdown",
   "metadata": {},
   "source": [
    "## Play around for one page"
   ]
  },
  {
   "cell_type": "code",
   "execution_count": 2,
   "metadata": {
    "collapsed": true
   },
   "outputs": [],
   "source": [
    "url = \"http://www.sports-reference.com/cbb/play-index/psl_finder.cgi?request=1&match=single&year_min=1996&year_max=&conf_id=&school_id=&class_is_fr=Y&class_is_so=Y&class_is_jr=Y&class_is_sr=Y&pos_is_g=Y&pos_is_gf=Y&pos_is_fg=Y&pos_is_f=Y&pos_is_fc=Y&pos_is_cf=Y&pos_is_c=Y&games_type=A&qual=&c1stat=&c1comp=&c1val=&c2stat=&c2comp=&c2val=&c3stat=&c3comp=&c3val=&c4stat=&c4comp=&c4val=&order_by=ws&order_by_asc=&offset=96700\""
   ]
  },
  {
   "cell_type": "code",
   "execution_count": 3,
   "metadata": {
    "collapsed": true
   },
   "outputs": [],
   "source": [
    "response = requests.get(url)\n",
    "\n",
    "# looks like this helps fix any issues with any scraping library\n",
    "# can now just use pandas to scrape all dfs on player page\n",
    "html = response.text\n",
    "html = html.replace('<!--', '').replace('-->', '')"
   ]
  },
  {
   "cell_type": "code",
   "execution_count": 4,
   "metadata": {
    "collapsed": false
   },
   "outputs": [],
   "source": [
    "d = pq(html)\n",
    "rows = d(\"#stats tbody > tr\")"
   ]
  },
  {
   "cell_type": "code",
   "execution_count": 5,
   "metadata": {
    "collapsed": false
   },
   "outputs": [
    {
     "data": {
      "text/plain": [
       "[<tr>, <tr>, <tr>, <tr>, <tr>, <tr>, <tr>, <tr>, <tr>, <tr>, <tr>, <tr>, <tr>, <tr>, <tr>, <tr>, <tr>, <tr>, <tr>, <tr>, <tr.over_header.thead>, <tr.thead>, <tr>, <tr>, <tr>, <tr>, <tr>, <tr>, <tr>, <tr>, <tr>, <tr>, <tr>, <tr>, <tr>, <tr>, <tr>, <tr>, <tr>, <tr>, <tr>, <tr>, <tr.over_header.thead>, <tr.thead>, <tr>, <tr>, <tr>, <tr>, <tr>, <tr>, <tr>, <tr>, <tr>, <tr>, <tr>, <tr>, <tr>, <tr>, <tr>, <tr>, <tr>, <tr>, <tr>, <tr>, <tr.over_header.thead>, <tr.thead>, <tr>, <tr>, <tr>, <tr>, <tr>, <tr>, <tr>, <tr>, <tr>, <tr>, <tr>, <tr>, <tr>, <tr>, <tr>, <tr>, <tr>, <tr>, <tr>, <tr>, <tr.over_header.thead>, <tr.thead>, <tr>, <tr>, <tr>, <tr>, <tr>, <tr>, <tr>, <tr>, <tr>]"
      ]
     },
     "execution_count": 5,
     "metadata": {},
     "output_type": "execute_result"
    }
   ],
   "source": [
    "rows"
   ]
  },
  {
   "cell_type": "code",
   "execution_count": 6,
   "metadata": {
    "collapsed": false
   },
   "outputs": [
    {
     "data": {
      "text/plain": [
       "lxml.html.HtmlElement"
      ]
     },
     "execution_count": 6,
     "metadata": {},
     "output_type": "execute_result"
    }
   ],
   "source": [
    "type(rows[0])"
   ]
  },
  {
   "cell_type": "code",
   "execution_count": 7,
   "metadata": {
    "collapsed": false
   },
   "outputs": [],
   "source": [
    "header_drop = rows[21]"
   ]
  },
  {
   "cell_type": "code",
   "execution_count": 8,
   "metadata": {
    "collapsed": false
   },
   "outputs": [
    {
     "data": {
      "text/plain": [
       "{'class': 'thead'}"
      ]
     },
     "execution_count": 8,
     "metadata": {},
     "output_type": "execute_result"
    }
   ],
   "source": [
    "header_drop.attrib"
   ]
  },
  {
   "cell_type": "code",
   "execution_count": 9,
   "metadata": {
    "collapsed": false
   },
   "outputs": [
    {
     "data": {
      "text/plain": [
       "{'class': 'over_header thead'}"
      ]
     },
     "execution_count": 9,
     "metadata": {},
     "output_type": "execute_result"
    }
   ],
   "source": [
    "rows[20].attrib"
   ]
  },
  {
   "cell_type": "code",
   "execution_count": 10,
   "metadata": {
    "collapsed": false
   },
   "outputs": [
    {
     "data": {
      "text/plain": [
       "{}"
      ]
     },
     "execution_count": 10,
     "metadata": {},
     "output_type": "execute_result"
    }
   ],
   "source": [
    "rows[0].attrib"
   ]
  },
  {
   "cell_type": "code",
   "execution_count": 11,
   "metadata": {
    "collapsed": false
   },
   "outputs": [
    {
     "data": {
      "text/plain": [
       "False"
      ]
     },
     "execution_count": 11,
     "metadata": {},
     "output_type": "execute_result"
    }
   ],
   "source": [
    "rows[20].attrib == \"\""
   ]
  },
  {
   "cell_type": "code",
   "execution_count": 12,
   "metadata": {
    "collapsed": false
   },
   "outputs": [],
   "source": [
    "data = [[td.text_content() for td in row.iterchildren()] for row in rows]"
   ]
  },
  {
   "cell_type": "code",
   "execution_count": 13,
   "metadata": {
    "collapsed": false,
    "scrolled": true
   },
   "outputs": [
    {
     "data": {
      "text/plain": [
       "97"
      ]
     },
     "execution_count": 13,
     "metadata": {},
     "output_type": "execute_result"
    }
   ],
   "source": [
    "len(data)"
   ]
  },
  {
   "cell_type": "code",
   "execution_count": 14,
   "metadata": {
    "collapsed": true
   },
   "outputs": [],
   "source": [
    "data2 = [[td.text_content() for td in row.iterchildren()] \n",
    "         for row in rows if row.attrib == \"\"]"
   ]
  },
  {
   "cell_type": "code",
   "execution_count": 15,
   "metadata": {
    "collapsed": false
   },
   "outputs": [
    {
     "data": {
      "text/plain": [
       "89"
      ]
     },
     "execution_count": 15,
     "metadata": {},
     "output_type": "execute_result"
    }
   ],
   "source": [
    "len(data2)"
   ]
  },
  {
   "cell_type": "code",
   "execution_count": 16,
   "metadata": {
    "collapsed": true
   },
   "outputs": [],
   "source": [
    "first_row = rows[0]"
   ]
  },
  {
   "cell_type": "code",
   "execution_count": 17,
   "metadata": {
    "collapsed": false
   },
   "outputs": [],
   "source": [
    "player = first_row.getchildren()[1]"
   ]
  },
  {
   "cell_type": "code",
   "execution_count": 18,
   "metadata": {
    "collapsed": false
   },
   "outputs": [
    {
     "data": {
      "text/plain": [
       "'/cbb/players/steve-stoll-1.html'"
      ]
     },
     "execution_count": 18,
     "metadata": {},
     "output_type": "execute_result"
    }
   ],
   "source": [
    "player.getchildren()[0].attrib[\"href\"]"
   ]
  },
  {
   "cell_type": "code",
   "execution_count": 19,
   "metadata": {
    "collapsed": true
   },
   "outputs": [],
   "source": [
    "def get_cbb_link_and_data(idx, td):\n",
    "    \"\"\"Helps get the player link as you scrape the data\"\"\"\n",
    "    if idx == 1:\n",
    "        return td.text_content(), player.getchildren()[0].attrib[\"href\"]\n",
    "    else:\n",
    "        return td.text_content()"
   ]
  },
  {
   "cell_type": "code",
   "execution_count": 20,
   "metadata": {
    "collapsed": true
   },
   "outputs": [],
   "source": [
    "data3 = [[get_cbb_link_and_data(idx, td) \n",
    "          for idx, td in enumerate(row.iterchildren())] \n",
    "         for row in rows if row.attrib == \"\"]"
   ]
  },
  {
   "cell_type": "code",
   "execution_count": 21,
   "metadata": {
    "collapsed": false
   },
   "outputs": [
    {
     "data": {
      "text/plain": [
       "89"
      ]
     },
     "execution_count": 21,
     "metadata": {},
     "output_type": "execute_result"
    }
   ],
   "source": [
    "len(data3)"
   ]
  },
  {
   "cell_type": "code",
   "execution_count": 22,
   "metadata": {
    "collapsed": false,
    "scrolled": false
   },
   "outputs": [
    {
     "data": {
      "text/plain": [
       "[['96701',\n",
       "  ('Steve Stoll', '/cbb/players/steve-stoll-1.html'),\n",
       "  'SO',\n",
       "  '2004-05',\n",
       "  'G',\n",
       "  'Army',\n",
       "  'Patriot',\n",
       "  '25',\n",
       "  '',\n",
       "  '',\n",
       "  '.350',\n",
       "  '.346',\n",
       "  '',\n",
       "  '',\n",
       "  '',\n",
       "  '',\n",
       "  '',\n",
       "  '',\n",
       "  '',\n",
       "  '',\n",
       "  '',\n",
       "  '',\n",
       "  '',\n",
       "  '-0.7',\n",
       "  '-0.1',\n",
       "  '-0.8',\n",
       "  '',\n",
       "  '',\n",
       "  ''],\n",
       " ['96702',\n",
       "  ('Anthony Taylor', '/cbb/players/steve-stoll-1.html'),\n",
       "  'FR',\n",
       "  '2011-12',\n",
       "  'G',\n",
       "  'Longwood',\n",
       "  'Ind',\n",
       "  '22',\n",
       "  '281',\n",
       "  '3.3',\n",
       "  '.430',\n",
       "  '.379',\n",
       "  '3.0',\n",
       "  '8.3',\n",
       "  '5.5',\n",
       "  '14.2',\n",
       "  '1.8',\n",
       "  '0.0',\n",
       "  '33.9',\n",
       "  '21.9',\n",
       "  '79',\n",
       "  '68.4',\n",
       "  '119.7',\n",
       "  '-0.6',\n",
       "  '-0.1',\n",
       "  '-0.8',\n",
       "  '-10.1',\n",
       "  '-5.9',\n",
       "  '-16.0']]"
      ]
     },
     "execution_count": 22,
     "metadata": {},
     "output_type": "execute_result"
    }
   ],
   "source": [
    "data3[:2]"
   ]
  },
  {
   "cell_type": "code",
   "execution_count": 39,
   "metadata": {
    "collapsed": false
   },
   "outputs": [],
   "source": [
    "poptip = pq(\".poptip\")"
   ]
  },
  {
   "cell_type": "code",
   "execution_count": 41,
   "metadata": {
    "collapsed": false
   },
   "outputs": [
    {
     "data": {
      "text/plain": [
       "[]"
      ]
     },
     "execution_count": 41,
     "metadata": {},
     "output_type": "execute_result"
    }
   ],
   "source": [
    "poptip.text"
   ]
  },
  {
   "cell_type": "code",
   "execution_count": 43,
   "metadata": {
    "collapsed": false
   },
   "outputs": [],
   "source": [
    "headers = d(\"#stats > thead > tr > th\")"
   ]
  },
  {
   "cell_type": "code",
   "execution_count": 48,
   "metadata": {
    "collapsed": false
   },
   "outputs": [
    {
     "data": {
      "text/plain": [
       "[<th..over_header.center>, <th..over_header.center>, <th.ranker.poptip.sort_default_asc.center>, <th..poptip.sort_default_asc.center>, <th..poptip.sort_default_asc.center>, <th..poptip.sort_default_asc.center>, <th..poptip.center>, <th..poptip.sort_default_asc.center>, <th..poptip.sort_default_asc.center>, <th..poptip.center>, <th..poptip.center>, <th..poptip.center>, <th..poptip.center>, <th..poptip.center>, <th..poptip.center>, <th..poptip.center>, <th..poptip.center>, <th..poptip.center>, <th..poptip.center>, <th..poptip.center>, <th..poptip.sort_default_asc.center>, <th..poptip.center>, <th..poptip.center>, <th..poptip.center>, <th..poptip.sort_default_asc.center>, <th..poptip.center>, <th..poptip.center>, <th..poptip.sort_col.center>, <th..poptip.center>, <th..poptip.center>, <th..poptip.center>]"
      ]
     },
     "execution_count": 48,
     "metadata": {},
     "output_type": "execute_result"
    }
   ],
   "source": [
    "headers"
   ]
  },
  {
   "cell_type": "code",
   "execution_count": 47,
   "metadata": {
    "collapsed": false
   },
   "outputs": [
    {
     "data": {
      "text/plain": [
       "['Rk',\n",
       " 'Player',\n",
       " 'Class',\n",
       " 'Season',\n",
       " 'Pos',\n",
       " 'School',\n",
       " 'Conf',\n",
       " 'G',\n",
       " 'MP',\n",
       " 'PER',\n",
       " 'TS%',\n",
       " 'eFG%',\n",
       " 'ORB%',\n",
       " 'DRB%',\n",
       " 'TRB%',\n",
       " 'AST%',\n",
       " 'STL%',\n",
       " 'BLK%',\n",
       " 'TOV%',\n",
       " 'USG%',\n",
       " 'PProd',\n",
       " 'ORtg',\n",
       " 'DRtg',\n",
       " 'OWS',\n",
       " 'DWS',\n",
       " 'WS',\n",
       " 'OBPM',\n",
       " 'DBPM',\n",
       " 'BPM']"
      ]
     },
     "execution_count": 47,
     "metadata": {},
     "output_type": "execute_result"
    }
   ],
   "source": [
    "[th.text_content() for th in headers[2:]]"
   ]
  },
  {
   "cell_type": "code",
   "execution_count": 57,
   "metadata": {
    "collapsed": true
   },
   "outputs": [],
   "source": [
    "def get_table(pq_obj, table_id_selector):\n",
    "    rows = pq_obj(\"{} > tbody > tr\".format(table_id_selector))\n",
    "    headers = pq_obj(\"{} > thead > tr > th\".format(table_id_selector))\n",
    "    # data from each row\n",
    "    data = [[get_cbb_link_and_data(idx, td) \n",
    "             for idx, td in enumerate(row.iterchildren())] \n",
    "            for row in rows if row.attrib == \"\"]\n",
    "    cols = [th.text_content() for th in headers[2:]]\n",
    "    df = pd.DataFrame(data=data, columns=cols)\n",
    "    return df"
   ]
  },
  {
   "cell_type": "code",
   "execution_count": 58,
   "metadata": {
    "collapsed": false
   },
   "outputs": [],
   "source": [
    "df = get_table(d, \"#stats\")"
   ]
  },
  {
   "cell_type": "code",
   "execution_count": 59,
   "metadata": {
    "collapsed": false
   },
   "outputs": [
    {
     "data": {
      "text/html": [
       "<div>\n",
       "<style>\n",
       "    .dataframe thead tr:only-child th {\n",
       "        text-align: right;\n",
       "    }\n",
       "\n",
       "    .dataframe thead th {\n",
       "        text-align: left;\n",
       "    }\n",
       "\n",
       "    .dataframe tbody tr th {\n",
       "        vertical-align: top;\n",
       "    }\n",
       "</style>\n",
       "<table border=\"1\" class=\"dataframe\">\n",
       "  <thead>\n",
       "    <tr style=\"text-align: right;\">\n",
       "      <th></th>\n",
       "      <th>Rk</th>\n",
       "      <th>Player</th>\n",
       "      <th>Class</th>\n",
       "      <th>Season</th>\n",
       "      <th>Pos</th>\n",
       "      <th>School</th>\n",
       "      <th>Conf</th>\n",
       "      <th>G</th>\n",
       "      <th>MP</th>\n",
       "      <th>PER</th>\n",
       "      <th>...</th>\n",
       "      <th>USG%</th>\n",
       "      <th>PProd</th>\n",
       "      <th>ORtg</th>\n",
       "      <th>DRtg</th>\n",
       "      <th>OWS</th>\n",
       "      <th>DWS</th>\n",
       "      <th>WS</th>\n",
       "      <th>OBPM</th>\n",
       "      <th>DBPM</th>\n",
       "      <th>BPM</th>\n",
       "    </tr>\n",
       "  </thead>\n",
       "  <tbody>\n",
       "    <tr>\n",
       "      <th>0</th>\n",
       "      <td>96701</td>\n",
       "      <td>(Steve Stoll, /cbb/players/steve-stoll-1.html)</td>\n",
       "      <td>SO</td>\n",
       "      <td>2004-05</td>\n",
       "      <td>G</td>\n",
       "      <td>Army</td>\n",
       "      <td>Patriot</td>\n",
       "      <td>25</td>\n",
       "      <td></td>\n",
       "      <td></td>\n",
       "      <td>...</td>\n",
       "      <td></td>\n",
       "      <td></td>\n",
       "      <td></td>\n",
       "      <td></td>\n",
       "      <td>-0.7</td>\n",
       "      <td>-0.1</td>\n",
       "      <td>-0.8</td>\n",
       "      <td></td>\n",
       "      <td></td>\n",
       "      <td></td>\n",
       "    </tr>\n",
       "    <tr>\n",
       "      <th>1</th>\n",
       "      <td>96702</td>\n",
       "      <td>(Anthony Taylor, /cbb/players/steve-stoll-1.html)</td>\n",
       "      <td>FR</td>\n",
       "      <td>2011-12</td>\n",
       "      <td>G</td>\n",
       "      <td>Longwood</td>\n",
       "      <td>Ind</td>\n",
       "      <td>22</td>\n",
       "      <td>281</td>\n",
       "      <td>3.3</td>\n",
       "      <td>...</td>\n",
       "      <td>21.9</td>\n",
       "      <td>79</td>\n",
       "      <td>68.4</td>\n",
       "      <td>119.7</td>\n",
       "      <td>-0.6</td>\n",
       "      <td>-0.1</td>\n",
       "      <td>-0.8</td>\n",
       "      <td>-10.1</td>\n",
       "      <td>-5.9</td>\n",
       "      <td>-16.0</td>\n",
       "    </tr>\n",
       "    <tr>\n",
       "      <th>2</th>\n",
       "      <td>96703</td>\n",
       "      <td>(Torrance Timothy, /cbb/players/steve-stoll-1....</td>\n",
       "      <td>FR</td>\n",
       "      <td>2007-08</td>\n",
       "      <td>F</td>\n",
       "      <td>Howard</td>\n",
       "      <td>MEAC</td>\n",
       "      <td>30</td>\n",
       "      <td></td>\n",
       "      <td></td>\n",
       "      <td>...</td>\n",
       "      <td></td>\n",
       "      <td></td>\n",
       "      <td></td>\n",
       "      <td></td>\n",
       "      <td>-0.8</td>\n",
       "      <td>0.0</td>\n",
       "      <td>-0.8</td>\n",
       "      <td></td>\n",
       "      <td></td>\n",
       "      <td></td>\n",
       "    </tr>\n",
       "    <tr>\n",
       "      <th>3</th>\n",
       "      <td>96704</td>\n",
       "      <td>(Jamaal Turner, /cbb/players/steve-stoll-1.html)</td>\n",
       "      <td>JR</td>\n",
       "      <td>2001-02</td>\n",
       "      <td>G</td>\n",
       "      <td>Morris Brown</td>\n",
       "      <td>Ind</td>\n",
       "      <td>21</td>\n",
       "      <td></td>\n",
       "      <td></td>\n",
       "      <td>...</td>\n",
       "      <td></td>\n",
       "      <td></td>\n",
       "      <td></td>\n",
       "      <td></td>\n",
       "      <td>-0.7</td>\n",
       "      <td>-0.1</td>\n",
       "      <td>-0.8</td>\n",
       "      <td></td>\n",
       "      <td></td>\n",
       "      <td></td>\n",
       "    </tr>\n",
       "    <tr>\n",
       "      <th>4</th>\n",
       "      <td>96705</td>\n",
       "      <td>(Justin Weidauer, /cbb/players/steve-stoll-1.h...</td>\n",
       "      <td>JR</td>\n",
       "      <td>1996-97</td>\n",
       "      <td>F</td>\n",
       "      <td>Brigham Young</td>\n",
       "      <td>WAC</td>\n",
       "      <td>19</td>\n",
       "      <td></td>\n",
       "      <td></td>\n",
       "      <td>...</td>\n",
       "      <td></td>\n",
       "      <td></td>\n",
       "      <td></td>\n",
       "      <td></td>\n",
       "      <td>-0.3</td>\n",
       "      <td>-0.4</td>\n",
       "      <td>-0.8</td>\n",
       "      <td></td>\n",
       "      <td></td>\n",
       "      <td></td>\n",
       "    </tr>\n",
       "  </tbody>\n",
       "</table>\n",
       "<p>5 rows × 29 columns</p>\n",
       "</div>"
      ],
      "text/plain": [
       "      Rk                                             Player Class   Season  \\\n",
       "0  96701     (Steve Stoll, /cbb/players/steve-stoll-1.html)    SO  2004-05   \n",
       "1  96702  (Anthony Taylor, /cbb/players/steve-stoll-1.html)    FR  2011-12   \n",
       "2  96703  (Torrance Timothy, /cbb/players/steve-stoll-1....    FR  2007-08   \n",
       "3  96704   (Jamaal Turner, /cbb/players/steve-stoll-1.html)    JR  2001-02   \n",
       "4  96705  (Justin Weidauer, /cbb/players/steve-stoll-1.h...    JR  1996-97   \n",
       "\n",
       "  Pos         School     Conf   G   MP  PER  ...    USG% PProd  ORtg   DRtg  \\\n",
       "0   G           Army  Patriot  25            ...                              \n",
       "1   G       Longwood      Ind  22  281  3.3  ...    21.9    79  68.4  119.7   \n",
       "2   F         Howard     MEAC  30            ...                              \n",
       "3   G   Morris Brown      Ind  21            ...                              \n",
       "4   F  Brigham Young      WAC  19            ...                              \n",
       "\n",
       "    OWS   DWS    WS   OBPM  DBPM    BPM  \n",
       "0  -0.7  -0.1  -0.8                      \n",
       "1  -0.6  -0.1  -0.8  -10.1  -5.9  -16.0  \n",
       "2  -0.8   0.0  -0.8                      \n",
       "3  -0.7  -0.1  -0.8                      \n",
       "4  -0.3  -0.4  -0.8                      \n",
       "\n",
       "[5 rows x 29 columns]"
      ]
     },
     "execution_count": 59,
     "metadata": {},
     "output_type": "execute_result"
    }
   ],
   "source": [
    "df.head()"
   ]
  }
 ],
 "metadata": {
  "kernelspec": {
   "display_name": "Python 3",
   "language": "python",
   "name": "python3"
  },
  "language_info": {
   "codemirror_mode": {
    "name": "ipython",
    "version": 3
   },
   "file_extension": ".py",
   "mimetype": "text/x-python",
   "name": "python",
   "nbconvert_exporter": "python",
   "pygments_lexer": "ipython3",
   "version": "3.6.0"
  }
 },
 "nbformat": 4,
 "nbformat_minor": 2
}
