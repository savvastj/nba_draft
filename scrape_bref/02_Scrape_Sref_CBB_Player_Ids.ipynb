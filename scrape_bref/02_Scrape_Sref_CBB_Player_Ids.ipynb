{
 "cells": [
  {
   "cell_type": "code",
   "execution_count": 1,
   "metadata": {
    "collapsed": true
   },
   "outputs": [],
   "source": [
    "import pandas as pd\n",
    "from bs4 import BeautifulSoup\n",
    "from urllib.request import urlopen\n",
    "import string"
   ]
  },
  {
   "cell_type": "code",
   "execution_count": 2,
   "metadata": {
    "collapsed": true
   },
   "outputs": [],
   "source": [
    "url = \"http://www.sports-reference.com/cbb/players/{}-index.html\""
   ]
  },
  {
   "cell_type": "code",
   "execution_count": 3,
   "metadata": {
    "collapsed": true
   },
   "outputs": [],
   "source": [
    "def scrape_data(url):\n",
    "    html = urlopen(url)\n",
    "    soup = BeautifulSoup(html, \"lxml\")\n",
    "    players = soup.select(\"#content div p\")\n",
    "    data = [[player.find(\"a\").attrs[\"href\"], player.get_text()] \n",
    "            for player in players]\n",
    "    df = pd.DataFrame(data, columns=[\"link\", \"text\"])\n",
    "    return df"
   ]
  },
  {
   "cell_type": "code",
   "execution_count": 4,
   "metadata": {
    "collapsed": true
   },
   "outputs": [],
   "source": [
    "abc = string.ascii_lowercase"
   ]
  },
  {
   "cell_type": "code",
   "execution_count": 5,
   "metadata": {
    "collapsed": true
   },
   "outputs": [],
   "source": [
    "dfs = [scrape_data(url.format(i)) for i in abc]"
   ]
  },
  {
   "cell_type": "code",
   "execution_count": 6,
   "metadata": {
    "collapsed": false
   },
   "outputs": [
    {
     "data": {
      "text/plain": [
       "26"
      ]
     },
     "execution_count": 6,
     "metadata": {},
     "output_type": "execute_result"
    }
   ],
   "source": [
    "len(dfs)"
   ]
  },
  {
   "cell_type": "code",
   "execution_count": 7,
   "metadata": {
    "collapsed": true
   },
   "outputs": [],
   "source": [
    "df = pd.concat(dfs, ignore_index=True)"
   ]
  },
  {
   "cell_type": "code",
   "execution_count": 8,
   "metadata": {
    "collapsed": false
   },
   "outputs": [
    {
     "data": {
      "text/html": [
       "<div>\n",
       "<style>\n",
       "    .dataframe thead tr:only-child th {\n",
       "        text-align: right;\n",
       "    }\n",
       "\n",
       "    .dataframe thead th {\n",
       "        text-align: left;\n",
       "    }\n",
       "\n",
       "    .dataframe tbody tr th {\n",
       "        vertical-align: top;\n",
       "    }\n",
       "</style>\n",
       "<table border=\"1\" class=\"dataframe\">\n",
       "  <thead>\n",
       "    <tr style=\"text-align: right;\">\n",
       "      <th></th>\n",
       "      <th>link</th>\n",
       "      <th>text</th>\n",
       "    </tr>\n",
       "  </thead>\n",
       "  <tbody>\n",
       "    <tr>\n",
       "      <th>0</th>\n",
       "      <td>/cbb/players/menghe-anyam-1.html</td>\n",
       "      <td>Menghe a'Nyam (2007-2008) Canisius</td>\n",
       "    </tr>\n",
       "    <tr>\n",
       "      <th>1</th>\n",
       "      <td>/cbb/players/jordan-aaberg-1.html</td>\n",
       "      <td>Jordan Aaberg (2010-2014) North Dakota State</td>\n",
       "    </tr>\n",
       "    <tr>\n",
       "      <th>2</th>\n",
       "      <td>/cbb/players/karl-aaker-1.html</td>\n",
       "      <td>Karl Aaker (2002-2005) Portland</td>\n",
       "    </tr>\n",
       "    <tr>\n",
       "      <th>3</th>\n",
       "      <td>/cbb/players/steve-aaker-1.html</td>\n",
       "      <td>Steve Aaker (1971-1973) Colorado</td>\n",
       "    </tr>\n",
       "    <tr>\n",
       "      <th>4</th>\n",
       "      <td>/cbb/players/waine-aalto-1.html</td>\n",
       "      <td>Waine Aalto (1971-1971) Fresno State</td>\n",
       "    </tr>\n",
       "  </tbody>\n",
       "</table>\n",
       "</div>"
      ],
      "text/plain": [
       "                                link  \\\n",
       "0   /cbb/players/menghe-anyam-1.html   \n",
       "1  /cbb/players/jordan-aaberg-1.html   \n",
       "2     /cbb/players/karl-aaker-1.html   \n",
       "3    /cbb/players/steve-aaker-1.html   \n",
       "4    /cbb/players/waine-aalto-1.html   \n",
       "\n",
       "                                           text  \n",
       "0            Menghe a'Nyam (2007-2008) Canisius  \n",
       "1  Jordan Aaberg (2010-2014) North Dakota State  \n",
       "2               Karl Aaker (2002-2005) Portland  \n",
       "3              Steve Aaker (1971-1973) Colorado  \n",
       "4          Waine Aalto (1971-1971) Fresno State  "
      ]
     },
     "execution_count": 8,
     "metadata": {},
     "output_type": "execute_result"
    }
   ],
   "source": [
    "df.head()"
   ]
  },
  {
   "cell_type": "code",
   "execution_count": 9,
   "metadata": {
    "collapsed": false
   },
   "outputs": [
    {
     "data": {
      "text/html": [
       "<div>\n",
       "<style>\n",
       "    .dataframe thead tr:only-child th {\n",
       "        text-align: right;\n",
       "    }\n",
       "\n",
       "    .dataframe thead th {\n",
       "        text-align: left;\n",
       "    }\n",
       "\n",
       "    .dataframe tbody tr th {\n",
       "        vertical-align: top;\n",
       "    }\n",
       "</style>\n",
       "<table border=\"1\" class=\"dataframe\">\n",
       "  <thead>\n",
       "    <tr style=\"text-align: right;\">\n",
       "      <th></th>\n",
       "      <th>link</th>\n",
       "      <th>text</th>\n",
       "    </tr>\n",
       "  </thead>\n",
       "  <tbody>\n",
       "    <tr>\n",
       "      <th>103503</th>\n",
       "      <td>/cbb/players/jack-zyla-1.html</td>\n",
       "      <td>Jack Zyla (1963-1965) New Hampshire</td>\n",
       "    </tr>\n",
       "    <tr>\n",
       "      <th>103504</th>\n",
       "      <td>/cbb/players/michal-zylinski-1.html</td>\n",
       "      <td>Michal Zylinski (2009-2009) Stony Brook</td>\n",
       "    </tr>\n",
       "    <tr>\n",
       "      <th>103505</th>\n",
       "      <td>/cbb/players/brock-zylstra-1.html</td>\n",
       "      <td>Brock Zylstra (2010-2013) Brigham Young</td>\n",
       "    </tr>\n",
       "    <tr>\n",
       "      <th>103506</th>\n",
       "      <td>/cbb/players/gene-zysda-1.html</td>\n",
       "      <td>Gene Zysda (1961-1961) Colorado</td>\n",
       "    </tr>\n",
       "    <tr>\n",
       "      <th>103507</th>\n",
       "      <td>/cbb/players/gene-zyzda-1.html</td>\n",
       "      <td>Gene Zyzda (1960-1962) Colorado</td>\n",
       "    </tr>\n",
       "  </tbody>\n",
       "</table>\n",
       "</div>"
      ],
      "text/plain": [
       "                                       link  \\\n",
       "103503        /cbb/players/jack-zyla-1.html   \n",
       "103504  /cbb/players/michal-zylinski-1.html   \n",
       "103505    /cbb/players/brock-zylstra-1.html   \n",
       "103506       /cbb/players/gene-zysda-1.html   \n",
       "103507       /cbb/players/gene-zyzda-1.html   \n",
       "\n",
       "                                           text  \n",
       "103503      Jack Zyla (1963-1965) New Hampshire  \n",
       "103504  Michal Zylinski (2009-2009) Stony Brook  \n",
       "103505  Brock Zylstra (2010-2013) Brigham Young  \n",
       "103506          Gene Zysda (1961-1961) Colorado  \n",
       "103507          Gene Zyzda (1960-1962) Colorado  "
      ]
     },
     "execution_count": 9,
     "metadata": {},
     "output_type": "execute_result"
    }
   ],
   "source": [
    "df.tail()"
   ]
  },
  {
   "cell_type": "code",
   "execution_count": 10,
   "metadata": {
    "collapsed": false
   },
   "outputs": [
    {
     "name": "stdout",
     "output_type": "stream",
     "text": [
      "<class 'pandas.core.frame.DataFrame'>\n",
      "RangeIndex: 103508 entries, 0 to 103507\n",
      "Data columns (total 2 columns):\n",
      "link    103508 non-null object\n",
      "text    103508 non-null object\n",
      "dtypes: object(2)\n",
      "memory usage: 1.6+ MB\n"
     ]
    }
   ],
   "source": [
    "df.info()"
   ]
  },
  {
   "cell_type": "code",
   "execution_count": 11,
   "metadata": {
    "collapsed": true
   },
   "outputs": [],
   "source": [
    "df[[\"Player\", \"Years\", \"College\"]] = df.text.str.split(\"( \\(.*\\) )\", expand=True)"
   ]
  },
  {
   "cell_type": "code",
   "execution_count": 12,
   "metadata": {
    "collapsed": false
   },
   "outputs": [
    {
     "data": {
      "text/html": [
       "<div>\n",
       "<style>\n",
       "    .dataframe thead tr:only-child th {\n",
       "        text-align: right;\n",
       "    }\n",
       "\n",
       "    .dataframe thead th {\n",
       "        text-align: left;\n",
       "    }\n",
       "\n",
       "    .dataframe tbody tr th {\n",
       "        vertical-align: top;\n",
       "    }\n",
       "</style>\n",
       "<table border=\"1\" class=\"dataframe\">\n",
       "  <thead>\n",
       "    <tr style=\"text-align: right;\">\n",
       "      <th></th>\n",
       "      <th>link</th>\n",
       "      <th>text</th>\n",
       "      <th>Player</th>\n",
       "      <th>Years</th>\n",
       "      <th>College</th>\n",
       "    </tr>\n",
       "  </thead>\n",
       "  <tbody>\n",
       "    <tr>\n",
       "      <th>0</th>\n",
       "      <td>/cbb/players/menghe-anyam-1.html</td>\n",
       "      <td>Menghe a'Nyam (2007-2008) Canisius</td>\n",
       "      <td>Menghe a'Nyam</td>\n",
       "      <td>(2007-2008)</td>\n",
       "      <td>Canisius</td>\n",
       "    </tr>\n",
       "    <tr>\n",
       "      <th>1</th>\n",
       "      <td>/cbb/players/jordan-aaberg-1.html</td>\n",
       "      <td>Jordan Aaberg (2010-2014) North Dakota State</td>\n",
       "      <td>Jordan Aaberg</td>\n",
       "      <td>(2010-2014)</td>\n",
       "      <td>North Dakota State</td>\n",
       "    </tr>\n",
       "    <tr>\n",
       "      <th>2</th>\n",
       "      <td>/cbb/players/karl-aaker-1.html</td>\n",
       "      <td>Karl Aaker (2002-2005) Portland</td>\n",
       "      <td>Karl Aaker</td>\n",
       "      <td>(2002-2005)</td>\n",
       "      <td>Portland</td>\n",
       "    </tr>\n",
       "    <tr>\n",
       "      <th>3</th>\n",
       "      <td>/cbb/players/steve-aaker-1.html</td>\n",
       "      <td>Steve Aaker (1971-1973) Colorado</td>\n",
       "      <td>Steve Aaker</td>\n",
       "      <td>(1971-1973)</td>\n",
       "      <td>Colorado</td>\n",
       "    </tr>\n",
       "    <tr>\n",
       "      <th>4</th>\n",
       "      <td>/cbb/players/waine-aalto-1.html</td>\n",
       "      <td>Waine Aalto (1971-1971) Fresno State</td>\n",
       "      <td>Waine Aalto</td>\n",
       "      <td>(1971-1971)</td>\n",
       "      <td>Fresno State</td>\n",
       "    </tr>\n",
       "  </tbody>\n",
       "</table>\n",
       "</div>"
      ],
      "text/plain": [
       "                                link  \\\n",
       "0   /cbb/players/menghe-anyam-1.html   \n",
       "1  /cbb/players/jordan-aaberg-1.html   \n",
       "2     /cbb/players/karl-aaker-1.html   \n",
       "3    /cbb/players/steve-aaker-1.html   \n",
       "4    /cbb/players/waine-aalto-1.html   \n",
       "\n",
       "                                           text         Player          Years  \\\n",
       "0            Menghe a'Nyam (2007-2008) Canisius  Menghe a'Nyam   (2007-2008)    \n",
       "1  Jordan Aaberg (2010-2014) North Dakota State  Jordan Aaberg   (2010-2014)    \n",
       "2               Karl Aaker (2002-2005) Portland     Karl Aaker   (2002-2005)    \n",
       "3              Steve Aaker (1971-1973) Colorado    Steve Aaker   (1971-1973)    \n",
       "4          Waine Aalto (1971-1971) Fresno State    Waine Aalto   (1971-1971)    \n",
       "\n",
       "              College  \n",
       "0            Canisius  \n",
       "1  North Dakota State  \n",
       "2            Portland  \n",
       "3            Colorado  \n",
       "4        Fresno State  "
      ]
     },
     "execution_count": 12,
     "metadata": {},
     "output_type": "execute_result"
    }
   ],
   "source": [
    "df.head()"
   ]
  },
  {
   "cell_type": "code",
   "execution_count": 13,
   "metadata": {
    "collapsed": false
   },
   "outputs": [
    {
     "data": {
      "text/plain": [
       "array([\"Menghe a'Nyam\", 'Jordan Aaberg', 'Karl Aaker', 'Steve Aaker',\n",
       "       'Waine Aalto', 'Mike Aaman', 'Craig Aamot', 'Art Aaron',\n",
       "       'Carlton Aaron', 'David Aaron'], dtype=object)"
      ]
     },
     "execution_count": 13,
     "metadata": {},
     "output_type": "execute_result"
    }
   ],
   "source": [
    "df.Player.values[:10]"
   ]
  },
  {
   "cell_type": "code",
   "execution_count": 14,
   "metadata": {
    "collapsed": false
   },
   "outputs": [
    {
     "data": {
      "text/plain": [
       "array([' (2007-2008) ', ' (2010-2014) ', ' (2002-2005) ', ' (1971-1973) ',\n",
       "       ' (1971-1971) ', ' (2013-2017) ', ' (1992-1993) ', ' (1981-1984) ',\n",
       "       ' (2003-2005) ', ' (1986-1989) '], dtype=object)"
      ]
     },
     "execution_count": 14,
     "metadata": {},
     "output_type": "execute_result"
    }
   ],
   "source": [
    "df.Years.values[:10]"
   ]
  },
  {
   "cell_type": "code",
   "execution_count": 16,
   "metadata": {
    "collapsed": false
   },
   "outputs": [
    {
     "data": {
      "text/plain": [
       "array(['Canisius', 'North Dakota State', 'Portland', 'Colorado',\n",
       "       'Fresno State', 'Rhode Island; Wagner', 'Marquette', 'Northwestern',\n",
       "       'Missouri-Kansas City', 'Santa Clara'], dtype=object)"
      ]
     },
     "execution_count": 16,
     "metadata": {},
     "output_type": "execute_result"
    }
   ],
   "source": [
    "df.College.values[:10]"
   ]
  },
  {
   "cell_type": "code",
   "execution_count": 24,
   "metadata": {
    "collapsed": true
   },
   "outputs": [],
   "source": [
    "df[[\"link\", \"text\"]].to_csv(\"raw_data/sref_cbb_player_info_07_06_17_raw.csv\", index=False)"
   ]
  },
  {
   "cell_type": "code",
   "execution_count": 19,
   "metadata": {
    "collapsed": false
   },
   "outputs": [],
   "source": [
    "df.loc[:, \"Years\"] = df.Years.str.replace(\"(\\(|\\))\", \"\").str.rstrip().str.lstrip()"
   ]
  },
  {
   "cell_type": "code",
   "execution_count": 20,
   "metadata": {
    "collapsed": false
   },
   "outputs": [
    {
     "data": {
      "text/html": [
       "<div>\n",
       "<style>\n",
       "    .dataframe thead tr:only-child th {\n",
       "        text-align: right;\n",
       "    }\n",
       "\n",
       "    .dataframe thead th {\n",
       "        text-align: left;\n",
       "    }\n",
       "\n",
       "    .dataframe tbody tr th {\n",
       "        vertical-align: top;\n",
       "    }\n",
       "</style>\n",
       "<table border=\"1\" class=\"dataframe\">\n",
       "  <thead>\n",
       "    <tr style=\"text-align: right;\">\n",
       "      <th></th>\n",
       "      <th>link</th>\n",
       "      <th>text</th>\n",
       "      <th>Player</th>\n",
       "      <th>Years</th>\n",
       "      <th>College</th>\n",
       "    </tr>\n",
       "  </thead>\n",
       "  <tbody>\n",
       "    <tr>\n",
       "      <th>0</th>\n",
       "      <td>/cbb/players/menghe-anyam-1.html</td>\n",
       "      <td>Menghe a'Nyam (2007-2008) Canisius</td>\n",
       "      <td>Menghe a'Nyam</td>\n",
       "      <td>2007-2008</td>\n",
       "      <td>Canisius</td>\n",
       "    </tr>\n",
       "    <tr>\n",
       "      <th>1</th>\n",
       "      <td>/cbb/players/jordan-aaberg-1.html</td>\n",
       "      <td>Jordan Aaberg (2010-2014) North Dakota State</td>\n",
       "      <td>Jordan Aaberg</td>\n",
       "      <td>2010-2014</td>\n",
       "      <td>North Dakota State</td>\n",
       "    </tr>\n",
       "    <tr>\n",
       "      <th>2</th>\n",
       "      <td>/cbb/players/karl-aaker-1.html</td>\n",
       "      <td>Karl Aaker (2002-2005) Portland</td>\n",
       "      <td>Karl Aaker</td>\n",
       "      <td>2002-2005</td>\n",
       "      <td>Portland</td>\n",
       "    </tr>\n",
       "    <tr>\n",
       "      <th>3</th>\n",
       "      <td>/cbb/players/steve-aaker-1.html</td>\n",
       "      <td>Steve Aaker (1971-1973) Colorado</td>\n",
       "      <td>Steve Aaker</td>\n",
       "      <td>1971-1973</td>\n",
       "      <td>Colorado</td>\n",
       "    </tr>\n",
       "    <tr>\n",
       "      <th>4</th>\n",
       "      <td>/cbb/players/waine-aalto-1.html</td>\n",
       "      <td>Waine Aalto (1971-1971) Fresno State</td>\n",
       "      <td>Waine Aalto</td>\n",
       "      <td>1971-1971</td>\n",
       "      <td>Fresno State</td>\n",
       "    </tr>\n",
       "  </tbody>\n",
       "</table>\n",
       "</div>"
      ],
      "text/plain": [
       "                                link  \\\n",
       "0   /cbb/players/menghe-anyam-1.html   \n",
       "1  /cbb/players/jordan-aaberg-1.html   \n",
       "2     /cbb/players/karl-aaker-1.html   \n",
       "3    /cbb/players/steve-aaker-1.html   \n",
       "4    /cbb/players/waine-aalto-1.html   \n",
       "\n",
       "                                           text         Player      Years  \\\n",
       "0            Menghe a'Nyam (2007-2008) Canisius  Menghe a'Nyam  2007-2008   \n",
       "1  Jordan Aaberg (2010-2014) North Dakota State  Jordan Aaberg  2010-2014   \n",
       "2               Karl Aaker (2002-2005) Portland     Karl Aaker  2002-2005   \n",
       "3              Steve Aaker (1971-1973) Colorado    Steve Aaker  1971-1973   \n",
       "4          Waine Aalto (1971-1971) Fresno State    Waine Aalto  1971-1971   \n",
       "\n",
       "              College  \n",
       "0            Canisius  \n",
       "1  North Dakota State  \n",
       "2            Portland  \n",
       "3            Colorado  \n",
       "4        Fresno State  "
      ]
     },
     "execution_count": 20,
     "metadata": {},
     "output_type": "execute_result"
    }
   ],
   "source": [
    "df.head()"
   ]
  },
  {
   "cell_type": "code",
   "execution_count": 21,
   "metadata": {
    "collapsed": false
   },
   "outputs": [
    {
     "ename": "ValueError",
     "evalue": "invalid literal for int() with base 10: 'Gordo Castillo 2011'",
     "output_type": "error",
     "traceback": [
      "\u001b[0;31m---------------------------------------------------------------------------\u001b[0m",
      "\u001b[0;31mValueError\u001b[0m                                Traceback (most recent call last)",
      "\u001b[0;32m<ipython-input-21-e7aedfce5d4f>\u001b[0m in \u001b[0;36m<module>\u001b[0;34m()\u001b[0m\n\u001b[0;32m----> 1\u001b[0;31m \u001b[0mdf\u001b[0m\u001b[0;34m[\u001b[0m\u001b[0;34m\"From\"\u001b[0m\u001b[0;34m]\u001b[0m \u001b[0;34m=\u001b[0m \u001b[0mdf\u001b[0m\u001b[0;34m.\u001b[0m\u001b[0mYears\u001b[0m\u001b[0;34m.\u001b[0m\u001b[0mstr\u001b[0m\u001b[0;34m.\u001b[0m\u001b[0msplit\u001b[0m\u001b[0;34m(\u001b[0m\u001b[0;34m\"-\"\u001b[0m\u001b[0;34m,\u001b[0m \u001b[0mexpand\u001b[0m\u001b[0;34m=\u001b[0m\u001b[0;32mTrue\u001b[0m\u001b[0;34m)\u001b[0m\u001b[0;34m[\u001b[0m\u001b[0;36m0\u001b[0m\u001b[0;34m]\u001b[0m\u001b[0;34m.\u001b[0m\u001b[0mastype\u001b[0m\u001b[0;34m(\u001b[0m\u001b[0mint\u001b[0m\u001b[0;34m)\u001b[0m\u001b[0;34m\u001b[0m\u001b[0m\n\u001b[0m\u001b[1;32m      2\u001b[0m \u001b[0mdf\u001b[0m\u001b[0;34m[\u001b[0m\u001b[0;34m\"To\"\u001b[0m\u001b[0;34m]\u001b[0m \u001b[0;34m=\u001b[0m \u001b[0mdf\u001b[0m\u001b[0;34m.\u001b[0m\u001b[0mYears\u001b[0m\u001b[0;34m.\u001b[0m\u001b[0mstr\u001b[0m\u001b[0;34m.\u001b[0m\u001b[0msplit\u001b[0m\u001b[0;34m(\u001b[0m\u001b[0;34m\"-\"\u001b[0m\u001b[0;34m,\u001b[0m \u001b[0mexpand\u001b[0m\u001b[0;34m=\u001b[0m\u001b[0;32mTrue\u001b[0m\u001b[0;34m)\u001b[0m\u001b[0;34m[\u001b[0m\u001b[0;36m1\u001b[0m\u001b[0;34m]\u001b[0m\u001b[0;34m.\u001b[0m\u001b[0mastype\u001b[0m\u001b[0;34m(\u001b[0m\u001b[0mint\u001b[0m\u001b[0;34m)\u001b[0m\u001b[0;34m\u001b[0m\u001b[0m\n",
      "\u001b[0;32m/home/savvas/miniconda3/envs/wvH2/lib/python3.6/site-packages/pandas/util/_decorators.py\u001b[0m in \u001b[0;36mwrapper\u001b[0;34m(*args, **kwargs)\u001b[0m\n\u001b[1;32m     89\u001b[0m                 \u001b[0;32melse\u001b[0m\u001b[0;34m:\u001b[0m\u001b[0;34m\u001b[0m\u001b[0m\n\u001b[1;32m     90\u001b[0m                     \u001b[0mkwargs\u001b[0m\u001b[0;34m[\u001b[0m\u001b[0mnew_arg_name\u001b[0m\u001b[0;34m]\u001b[0m \u001b[0;34m=\u001b[0m \u001b[0mnew_arg_value\u001b[0m\u001b[0;34m\u001b[0m\u001b[0m\n\u001b[0;32m---> 91\u001b[0;31m             \u001b[0;32mreturn\u001b[0m \u001b[0mfunc\u001b[0m\u001b[0;34m(\u001b[0m\u001b[0;34m*\u001b[0m\u001b[0margs\u001b[0m\u001b[0;34m,\u001b[0m \u001b[0;34m**\u001b[0m\u001b[0mkwargs\u001b[0m\u001b[0;34m)\u001b[0m\u001b[0;34m\u001b[0m\u001b[0m\n\u001b[0m\u001b[1;32m     92\u001b[0m         \u001b[0;32mreturn\u001b[0m \u001b[0mwrapper\u001b[0m\u001b[0;34m\u001b[0m\u001b[0m\n\u001b[1;32m     93\u001b[0m     \u001b[0;32mreturn\u001b[0m \u001b[0m_deprecate_kwarg\u001b[0m\u001b[0;34m\u001b[0m\u001b[0m\n",
      "\u001b[0;32m/home/savvas/miniconda3/envs/wvH2/lib/python3.6/site-packages/pandas/core/generic.py\u001b[0m in \u001b[0;36mastype\u001b[0;34m(self, dtype, copy, errors, **kwargs)\u001b[0m\n\u001b[1;32m   3408\u001b[0m         \u001b[0;31m# else, only a single dtype is given\u001b[0m\u001b[0;34m\u001b[0m\u001b[0;34m\u001b[0m\u001b[0m\n\u001b[1;32m   3409\u001b[0m         new_data = self._data.astype(dtype=dtype, copy=copy, errors=errors,\n\u001b[0;32m-> 3410\u001b[0;31m                                      **kwargs)\n\u001b[0m\u001b[1;32m   3411\u001b[0m         \u001b[0;32mreturn\u001b[0m \u001b[0mself\u001b[0m\u001b[0;34m.\u001b[0m\u001b[0m_constructor\u001b[0m\u001b[0;34m(\u001b[0m\u001b[0mnew_data\u001b[0m\u001b[0;34m)\u001b[0m\u001b[0;34m.\u001b[0m\u001b[0m__finalize__\u001b[0m\u001b[0;34m(\u001b[0m\u001b[0mself\u001b[0m\u001b[0;34m)\u001b[0m\u001b[0;34m\u001b[0m\u001b[0m\n\u001b[1;32m   3412\u001b[0m \u001b[0;34m\u001b[0m\u001b[0m\n",
      "\u001b[0;32m/home/savvas/miniconda3/envs/wvH2/lib/python3.6/site-packages/pandas/core/internals.py\u001b[0m in \u001b[0;36mastype\u001b[0;34m(self, dtype, **kwargs)\u001b[0m\n\u001b[1;32m   3222\u001b[0m \u001b[0;34m\u001b[0m\u001b[0m\n\u001b[1;32m   3223\u001b[0m     \u001b[0;32mdef\u001b[0m \u001b[0mastype\u001b[0m\u001b[0;34m(\u001b[0m\u001b[0mself\u001b[0m\u001b[0;34m,\u001b[0m \u001b[0mdtype\u001b[0m\u001b[0;34m,\u001b[0m \u001b[0;34m**\u001b[0m\u001b[0mkwargs\u001b[0m\u001b[0;34m)\u001b[0m\u001b[0;34m:\u001b[0m\u001b[0;34m\u001b[0m\u001b[0m\n\u001b[0;32m-> 3224\u001b[0;31m         \u001b[0;32mreturn\u001b[0m \u001b[0mself\u001b[0m\u001b[0;34m.\u001b[0m\u001b[0mapply\u001b[0m\u001b[0;34m(\u001b[0m\u001b[0;34m'astype'\u001b[0m\u001b[0;34m,\u001b[0m \u001b[0mdtype\u001b[0m\u001b[0;34m=\u001b[0m\u001b[0mdtype\u001b[0m\u001b[0;34m,\u001b[0m \u001b[0;34m**\u001b[0m\u001b[0mkwargs\u001b[0m\u001b[0;34m)\u001b[0m\u001b[0;34m\u001b[0m\u001b[0m\n\u001b[0m\u001b[1;32m   3225\u001b[0m \u001b[0;34m\u001b[0m\u001b[0m\n\u001b[1;32m   3226\u001b[0m     \u001b[0;32mdef\u001b[0m \u001b[0mconvert\u001b[0m\u001b[0;34m(\u001b[0m\u001b[0mself\u001b[0m\u001b[0;34m,\u001b[0m \u001b[0;34m**\u001b[0m\u001b[0mkwargs\u001b[0m\u001b[0;34m)\u001b[0m\u001b[0;34m:\u001b[0m\u001b[0;34m\u001b[0m\u001b[0m\n",
      "\u001b[0;32m/home/savvas/miniconda3/envs/wvH2/lib/python3.6/site-packages/pandas/core/internals.py\u001b[0m in \u001b[0;36mapply\u001b[0;34m(self, f, axes, filter, do_integrity_check, consolidate, **kwargs)\u001b[0m\n\u001b[1;32m   3089\u001b[0m \u001b[0;34m\u001b[0m\u001b[0m\n\u001b[1;32m   3090\u001b[0m             \u001b[0mkwargs\u001b[0m\u001b[0;34m[\u001b[0m\u001b[0;34m'mgr'\u001b[0m\u001b[0;34m]\u001b[0m \u001b[0;34m=\u001b[0m \u001b[0mself\u001b[0m\u001b[0;34m\u001b[0m\u001b[0m\n\u001b[0;32m-> 3091\u001b[0;31m             \u001b[0mapplied\u001b[0m \u001b[0;34m=\u001b[0m \u001b[0mgetattr\u001b[0m\u001b[0;34m(\u001b[0m\u001b[0mb\u001b[0m\u001b[0;34m,\u001b[0m \u001b[0mf\u001b[0m\u001b[0;34m)\u001b[0m\u001b[0;34m(\u001b[0m\u001b[0;34m**\u001b[0m\u001b[0mkwargs\u001b[0m\u001b[0;34m)\u001b[0m\u001b[0;34m\u001b[0m\u001b[0m\n\u001b[0m\u001b[1;32m   3092\u001b[0m             \u001b[0mresult_blocks\u001b[0m \u001b[0;34m=\u001b[0m \u001b[0m_extend_blocks\u001b[0m\u001b[0;34m(\u001b[0m\u001b[0mapplied\u001b[0m\u001b[0;34m,\u001b[0m \u001b[0mresult_blocks\u001b[0m\u001b[0;34m)\u001b[0m\u001b[0;34m\u001b[0m\u001b[0m\n\u001b[1;32m   3093\u001b[0m \u001b[0;34m\u001b[0m\u001b[0m\n",
      "\u001b[0;32m/home/savvas/miniconda3/envs/wvH2/lib/python3.6/site-packages/pandas/core/internals.py\u001b[0m in \u001b[0;36mastype\u001b[0;34m(self, dtype, copy, errors, values, **kwargs)\u001b[0m\n\u001b[1;32m    469\u001b[0m     \u001b[0;32mdef\u001b[0m \u001b[0mastype\u001b[0m\u001b[0;34m(\u001b[0m\u001b[0mself\u001b[0m\u001b[0;34m,\u001b[0m \u001b[0mdtype\u001b[0m\u001b[0;34m,\u001b[0m \u001b[0mcopy\u001b[0m\u001b[0;34m=\u001b[0m\u001b[0;32mFalse\u001b[0m\u001b[0;34m,\u001b[0m \u001b[0merrors\u001b[0m\u001b[0;34m=\u001b[0m\u001b[0;34m'raise'\u001b[0m\u001b[0;34m,\u001b[0m \u001b[0mvalues\u001b[0m\u001b[0;34m=\u001b[0m\u001b[0;32mNone\u001b[0m\u001b[0;34m,\u001b[0m \u001b[0;34m**\u001b[0m\u001b[0mkwargs\u001b[0m\u001b[0;34m)\u001b[0m\u001b[0;34m:\u001b[0m\u001b[0;34m\u001b[0m\u001b[0m\n\u001b[1;32m    470\u001b[0m         return self._astype(dtype, copy=copy, errors=errors, values=values,\n\u001b[0;32m--> 471\u001b[0;31m                             **kwargs)\n\u001b[0m\u001b[1;32m    472\u001b[0m \u001b[0;34m\u001b[0m\u001b[0m\n\u001b[1;32m    473\u001b[0m     def _astype(self, dtype, copy=False, errors='raise', values=None,\n",
      "\u001b[0;32m/home/savvas/miniconda3/envs/wvH2/lib/python3.6/site-packages/pandas/core/internals.py\u001b[0m in \u001b[0;36m_astype\u001b[0;34m(self, dtype, copy, errors, values, klass, mgr, **kwargs)\u001b[0m\n\u001b[1;32m    519\u001b[0m \u001b[0;34m\u001b[0m\u001b[0m\n\u001b[1;32m    520\u001b[0m                 \u001b[0;31m# _astype_nansafe works fine with 1-d only\u001b[0m\u001b[0;34m\u001b[0m\u001b[0;34m\u001b[0m\u001b[0m\n\u001b[0;32m--> 521\u001b[0;31m                 \u001b[0mvalues\u001b[0m \u001b[0;34m=\u001b[0m \u001b[0mastype_nansafe\u001b[0m\u001b[0;34m(\u001b[0m\u001b[0mvalues\u001b[0m\u001b[0;34m.\u001b[0m\u001b[0mravel\u001b[0m\u001b[0;34m(\u001b[0m\u001b[0;34m)\u001b[0m\u001b[0;34m,\u001b[0m \u001b[0mdtype\u001b[0m\u001b[0;34m,\u001b[0m \u001b[0mcopy\u001b[0m\u001b[0;34m=\u001b[0m\u001b[0;32mTrue\u001b[0m\u001b[0;34m)\u001b[0m\u001b[0;34m\u001b[0m\u001b[0m\n\u001b[0m\u001b[1;32m    522\u001b[0m                 \u001b[0mvalues\u001b[0m \u001b[0;34m=\u001b[0m \u001b[0mvalues\u001b[0m\u001b[0;34m.\u001b[0m\u001b[0mreshape\u001b[0m\u001b[0;34m(\u001b[0m\u001b[0mself\u001b[0m\u001b[0;34m.\u001b[0m\u001b[0mshape\u001b[0m\u001b[0;34m)\u001b[0m\u001b[0;34m\u001b[0m\u001b[0m\n\u001b[1;32m    523\u001b[0m \u001b[0;34m\u001b[0m\u001b[0m\n",
      "\u001b[0;32m/home/savvas/miniconda3/envs/wvH2/lib/python3.6/site-packages/pandas/core/dtypes/cast.py\u001b[0m in \u001b[0;36mastype_nansafe\u001b[0;34m(arr, dtype, copy)\u001b[0m\n\u001b[1;32m    623\u001b[0m     \u001b[0;32melif\u001b[0m \u001b[0marr\u001b[0m\u001b[0;34m.\u001b[0m\u001b[0mdtype\u001b[0m \u001b[0;34m==\u001b[0m \u001b[0mnp\u001b[0m\u001b[0;34m.\u001b[0m\u001b[0mobject_\u001b[0m \u001b[0;32mand\u001b[0m \u001b[0mnp\u001b[0m\u001b[0;34m.\u001b[0m\u001b[0missubdtype\u001b[0m\u001b[0;34m(\u001b[0m\u001b[0mdtype\u001b[0m\u001b[0;34m.\u001b[0m\u001b[0mtype\u001b[0m\u001b[0;34m,\u001b[0m \u001b[0mnp\u001b[0m\u001b[0;34m.\u001b[0m\u001b[0minteger\u001b[0m\u001b[0;34m)\u001b[0m\u001b[0;34m:\u001b[0m\u001b[0;34m\u001b[0m\u001b[0m\n\u001b[1;32m    624\u001b[0m         \u001b[0;31m# work around NumPy brokenness, #1987\u001b[0m\u001b[0;34m\u001b[0m\u001b[0;34m\u001b[0m\u001b[0m\n\u001b[0;32m--> 625\u001b[0;31m         \u001b[0;32mreturn\u001b[0m \u001b[0mlib\u001b[0m\u001b[0;34m.\u001b[0m\u001b[0mastype_intsafe\u001b[0m\u001b[0;34m(\u001b[0m\u001b[0marr\u001b[0m\u001b[0;34m.\u001b[0m\u001b[0mravel\u001b[0m\u001b[0;34m(\u001b[0m\u001b[0;34m)\u001b[0m\u001b[0;34m,\u001b[0m \u001b[0mdtype\u001b[0m\u001b[0;34m)\u001b[0m\u001b[0;34m.\u001b[0m\u001b[0mreshape\u001b[0m\u001b[0;34m(\u001b[0m\u001b[0marr\u001b[0m\u001b[0;34m.\u001b[0m\u001b[0mshape\u001b[0m\u001b[0;34m)\u001b[0m\u001b[0;34m\u001b[0m\u001b[0m\n\u001b[0m\u001b[1;32m    626\u001b[0m \u001b[0;34m\u001b[0m\u001b[0m\n\u001b[1;32m    627\u001b[0m     \u001b[0;32mif\u001b[0m \u001b[0mdtype\u001b[0m\u001b[0;34m.\u001b[0m\u001b[0mname\u001b[0m \u001b[0;32min\u001b[0m \u001b[0;34m(\u001b[0m\u001b[0;34m\"datetime64\"\u001b[0m\u001b[0;34m,\u001b[0m \u001b[0;34m\"timedelta64\"\u001b[0m\u001b[0;34m)\u001b[0m\u001b[0;34m:\u001b[0m\u001b[0;34m\u001b[0m\u001b[0m\n",
      "\u001b[0;32mpandas/_libs/lib.pyx\u001b[0m in \u001b[0;36mpandas._libs.lib.astype_intsafe (pandas/_libs/lib.c:16264)\u001b[0;34m()\u001b[0m\n",
      "\u001b[0;32mpandas/_libs/src/util.pxd\u001b[0m in \u001b[0;36mutil.set_value_at_unsafe (pandas/_libs/lib.c:73298)\u001b[0;34m()\u001b[0m\n",
      "\u001b[0;31mValueError\u001b[0m: invalid literal for int() with base 10: 'Gordo Castillo 2011'"
     ]
    }
   ],
   "source": [
    "df[\"From\"] = df.Years.str.split(\"-\", expand=True)[0].astype(int)\n",
    "df[\"To\"] = df.Years.str.split(\"-\", expand=True)[1].astype(int)"
   ]
  },
  {
   "cell_type": "code",
   "execution_count": 22,
   "metadata": {
    "collapsed": false
   },
   "outputs": [
    {
     "data": {
      "text/plain": [
       "array(['2007-2008', '2010-2014', '2002-2005', '1971-1973', '1971-1971',\n",
       "       '2013-2017', '1992-1993', '1981-1984', '2003-2005', '1986-1989',\n",
       "       '2013-2014', '1994-1994', '1985-1985', '1990-1992', '2000-2000',\n",
       "       '1987-1988', '2005-2008', '2015-2017', '2004-2007', '2014-2014',\n",
       "       '1963-1963', '2007-2007', '2013-2013', '2014-2017', '1994-1995',\n",
       "       '1955-1957', '1979-1982', '1962-1962', '1965-1965', '1995-1995',\n",
       "       '1956-1958', '1958-1958', '2016-2016', '2006-2006', '1996-1998',\n",
       "       '1961-1963', '2008-2011', '1987-1987', '1994-1997', '1987-1990',\n",
       "       '1991-1992', '2012-2012', '1992-1992', '2006-2007', '2013-2015',\n",
       "       '2014-2015', '2007-2010', '1967-1969', '1996-1999', '1997-1997',\n",
       "       '1995-1996', '1989-1990', '1993-1993', '1993-1994', '2013-2016',\n",
       "       '1998-2002', '2016-2017', '1995-1997', '2015-2016', '2002-2004',\n",
       "       '2017-2017', '1996-1996', '1998-1998', '2010-2011', '1967-1967',\n",
       "       '1959-1960', '1980-1980', '1978-1979', '1999-2001', '1995-1999',\n",
       "       '1959-1959', '2011-2013', '1948-1948', '2012-2016', '2002-2003',\n",
       "       '2010-2010', '1988-1990', '1972-1972', '2008-2008', '1973-1974',\n",
       "       '1949-1949', '1960-1960', '1952-1954', '1962-1964', '1973-1976',\n",
       "       '1988-1988', '2008-2010', '1988-1991', '1954-1956', '1952-1952',\n",
       "       '1984-1984', '1974-1974', '1964-1966', '1979-1979', '1991-1994',\n",
       "       '1990-1990', '1998-2001', '1949-1950', '1978-1978', '1977-1977',\n",
       "       '2002-2002', '1998-2000', '1965-1967', '2009-2012', '2006-2009',\n",
       "       '1975-1978', '1999-2000', '2011-2015', '1968-1970', '2006-2010',\n",
       "       '2011-2011', '2003-2003', '1991-1991', '1973-1973', '1957-1960',\n",
       "       '1988-1989', '1986-1986', '2000-2001', '2003-2007', '1985-1988',\n",
       "       '1968-1968', '1969-1969', '1954-1954', '1962-1963', '1980-1982',\n",
       "       '1981-1981', '1974-1977', '1958-1959', '1987-1991', '1971-1974',\n",
       "       '1985-1986', '1982-1983', '2012-2017', '1977-1980', '1982-1982',\n",
       "       '2008-2012', '1976-1976', '2011-2014', '1966-1966', '1964-1964',\n",
       "       '2012-2015', '1975-1975', '2012-2013', '1952-1953', '2004-2008',\n",
       "       '1988-1992', '1996-1997', '2012-2014', '1977-1978', '1997-1998',\n",
       "       '1963-1965', '1989-1991', '1948-1949', '1983-1985', '2010-2013',\n",
       "       '2001-2004', '1981-1985', '1982-1985', '1995-1998', '1999-1999',\n",
       "       '1983-1983', '1957-1958', '2000-2002', '2005-2005', '1961-1962',\n",
       "       '1973-1975', '1997-1999', '1974-1976', '1955-1955', '1953-1954',\n",
       "       '1948-1950', '2009-2010', '1989-1992', '1997-2000', '1986-1987',\n",
       "       '1960-1961', '1980-1983', '1955-1956', '1984-1987', '2000-2003',\n",
       "       '2001-2001', '2004-2004', '1984-1985', '2003-2004', '1950-1952',\n",
       "       '1979-1983', '2009-2009', '2003-2006', '1969-1970', '2015-2015',\n",
       "       '1977-1979', '1982-1986', '1979-1980', '1976-1977', '1992-1995',\n",
       "       '1966-1968', '1974-1975', '1998-1999', '1970-1970', '1970-1971',\n",
       "       '1981-1983', '2005-2006', '1971-1972', '1970-1972', '1954-1955',\n",
       "       '2008-2009', '1989-1989', '2005-2009', '1979-1981', '1983-1984',\n",
       "       '1966-1967', '1990-1991', '1958-1960', '1999-2002', '1986-1988',\n",
       "       '2007-2009', '1991-1993', '2001-2002', '1958-1962', '1983-1986',\n",
       "       '2001-2003', '2009-2011', '2004-2005', '2002-2006', '1957-1957',\n",
       "       '2011-2012', '1969-1971', '1976-1978', '1955-1958', '1968-1969',\n",
       "       '1978-1981', '2006-2008', '1980-1981', '1950-1950', '2005-2007',\n",
       "       '2000-2004', '1994-1998', '1993-1996', '2004-2006', '1982-1984',\n",
       "       '1985-1987', '2007-2011', '2014-2016', '1960-1962', '1968-1971',\n",
       "       '1992-1994', '1964-1965', '2009-2013', '1951-1951', '2001-2005',\n",
       "       '1956-1956', '1961-1961', '1951-1955', '1987-1989', '1952-1955',\n",
       "       '1956-1957', '1981-1982', '1959-1961', '1994-1996', '1963-1964',\n",
       "       '1965-1966', '1957-1959', '1967-1968', '2010-2012', '1978-1982',\n",
       "       '1951-1952', '1992-1996', '1996-2000', '1983-1987', '1975-1976',\n",
       "       '1949-1951', '1951-1953', '1953-1955', '1975-1977', '1978-1980',\n",
       "       '1950-1951', '1948-1951', '1976-1979', '1984-1988', '1953-1953',\n",
       "       '1972-1973', '1993-1997', '1993-1995', '1970-1973', '1984-1986',\n",
       "       '1972-1974', '1997-2001', '1991-1995', '1990-1993', '1958-1961',\n",
       "       '1976-1980', '1997-2002', '1995-2001', '1962-1965', '1977-1981',\n",
       "       '1999-2003', '1966-1969', '1963-1966', '1986-1990', '1950-1953',\n",
       "       '1980-1984', '1985-1989', '1956-1959', '1954-1957', '2008-2013',\n",
       "       '2010-2015', '2005-2010', '1964-1967', '2002-2007', '1975-1979',\n",
       "       '1974-1978', '1953-1956', '1967-1970', '1954-1958', '2006-2011',\n",
       "       '1973-1977', '2003-2008', '1965-1968', '1999-2004', '1972-1975',\n",
       "       '2001-2006', '1961-1964', '1959-1962', '1949-1952', '1960-1963',\n",
       "       '1943-1947', '1970-1974', '2011-2017', '2009-2014', '1969-1972',\n",
       "       '1952-1956', '1953-1957', '1966-1970', '1959-1963',\n",
       "       'Gordo Castillo 2011-2011', 'Red Coleman 1948-1950', '2011-2016',\n",
       "       '1955-1959', 'Bernie Conrad 1968-1968', '1996-2001', '1960-1964',\n",
       "       '1947-1950', '1951-1954', '2000-2005', '1957-1961', '1940-1942',\n",
       "       '1962-1966', '1979-1984', '1994-1999', '1961-1965',\n",
       "       'Bud Eley 1996-1998', '1992-1997', '1950-1954', '1994-2000',\n",
       "       '1993-1998', '1991-1996', '1990-1994', '1998-2003', '1989-1993',\n",
       "       '1998-2004', '1943-1948', '1992-1998', '1967-1971', '2004-2009',\n",
       "       '1963-1967', '1941-1942', '2001-2007', '1995-2000', '1993-1999',\n",
       "       '1948-1952', 'Knot Johnson 1972-1973', '1947-1948', '2000-2006',\n",
       "       '1949-1953', 'Lip Latorre 1950-1950', '1946-1949', '1944-1949',\n",
       "       '1956-1960', '1943-1946', 'Moon Mullins 1950-1952', '1999-2005',\n",
       "       'Red Owens 1948-1949', '2007-2012', '1942-1942', '1945-1948',\n",
       "       'Rube Schulz 1952-1955', '1984-1989', '1997-2003',\n",
       "       'Cookie Stern 1982-1984', '1985-1990', '1946-1946'], dtype=object)"
      ]
     },
     "execution_count": 22,
     "metadata": {},
     "output_type": "execute_result"
    }
   ],
   "source": [
    "df.Years.unique()"
   ]
  },
  {
   "cell_type": "code",
   "execution_count": 23,
   "metadata": {
    "collapsed": false
   },
   "outputs": [
    {
     "data": {
      "text/html": [
       "<div>\n",
       "<style>\n",
       "    .dataframe thead tr:only-child th {\n",
       "        text-align: right;\n",
       "    }\n",
       "\n",
       "    .dataframe thead th {\n",
       "        text-align: left;\n",
       "    }\n",
       "\n",
       "    .dataframe tbody tr th {\n",
       "        vertical-align: top;\n",
       "    }\n",
       "</style>\n",
       "<table border=\"1\" class=\"dataframe\">\n",
       "  <thead>\n",
       "    <tr style=\"text-align: right;\">\n",
       "      <th></th>\n",
       "      <th>link</th>\n",
       "      <th>text</th>\n",
       "      <th>Player</th>\n",
       "      <th>Years</th>\n",
       "      <th>College</th>\n",
       "    </tr>\n",
       "  </thead>\n",
       "  <tbody>\n",
       "    <tr>\n",
       "      <th>15188</th>\n",
       "      <td>/cbb/players/aaron-gordo-castillo-1.html</td>\n",
       "      <td>Aaron (Gordo) Castillo (2011-2011) New Mexico ...</td>\n",
       "      <td>Aaron</td>\n",
       "      <td>Gordo Castillo 2011-2011</td>\n",
       "      <td>New Mexico State</td>\n",
       "    </tr>\n",
       "  </tbody>\n",
       "</table>\n",
       "</div>"
      ],
      "text/plain": [
       "                                           link  \\\n",
       "15188  /cbb/players/aaron-gordo-castillo-1.html   \n",
       "\n",
       "                                                    text Player  \\\n",
       "15188  Aaron (Gordo) Castillo (2011-2011) New Mexico ...  Aaron   \n",
       "\n",
       "                          Years           College  \n",
       "15188  Gordo Castillo 2011-2011  New Mexico State  "
      ]
     },
     "execution_count": 23,
     "metadata": {},
     "output_type": "execute_result"
    }
   ],
   "source": [
    "df.loc[df.Years==\"Gordo Castillo 2011-2011\", :]"
   ]
  },
  {
   "cell_type": "code",
   "execution_count": null,
   "metadata": {
    "collapsed": true
   },
   "outputs": [],
   "source": [
    "\n"
   ]
  }
 ],
 "metadata": {
  "kernelspec": {
   "display_name": "Python 3",
   "language": "python",
   "name": "python3"
  },
  "language_info": {
   "codemirror_mode": {
    "name": "ipython",
    "version": 3
   },
   "file_extension": ".py",
   "mimetype": "text/x-python",
   "name": "python",
   "nbconvert_exporter": "python",
   "pygments_lexer": "ipython3",
   "version": "3.6.0"
  }
 },
 "nbformat": 4,
 "nbformat_minor": 2
}
